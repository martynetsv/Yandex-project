{
 "cells": [
  {
   "cell_type": "markdown",
   "metadata": {
    "toc": true
   },
   "source": [
    "<h1>Содержание<span class=\"tocSkip\"></span></h1>\n",
    "<div class=\"toc\"><ul class=\"toc-item\"><li><span><a href=\"#Подготовка-данных\" data-toc-modified-id=\"Подготовка-данных-1\"><span class=\"toc-item-num\">1&nbsp;&nbsp;</span>Подготовка данных</a></span></li><li><span><a href=\"#Исследование-задачи\" data-toc-modified-id=\"Исследование-задачи-2\"><span class=\"toc-item-num\">2&nbsp;&nbsp;</span>Исследование задачи</a></span></li><li><span><a href=\"#Борьба-с-дисбалансом\" data-toc-modified-id=\"Борьба-с-дисбалансом-3\"><span class=\"toc-item-num\">3&nbsp;&nbsp;</span>Борьба с дисбалансом</a></span></li><li><span><a href=\"#Тестирование-модели\" data-toc-modified-id=\"Тестирование-модели-4\"><span class=\"toc-item-num\">4&nbsp;&nbsp;</span>Тестирование модели</a></span></li><li><span><a href=\"#Чек-лист-готовности-проекта\" data-toc-modified-id=\"Чек-лист-готовности-проекта-5\"><span class=\"toc-item-num\">5&nbsp;&nbsp;</span>Чек-лист готовности проекта</a></span></li></ul></div>"
   ]
  },
  {
   "cell_type": "markdown",
   "metadata": {},
   "source": [
    "# Отток клиентов"
   ]
  },
  {
   "cell_type": "markdown",
   "metadata": {},
   "source": [
    "Из «Бета-Банка» стали уходить клиенты. Каждый месяц. Немного, но заметно. Банковские маркетологи посчитали: сохранять текущих клиентов дешевле, чем привлекать новых.\n",
    "\n",
    "Нужно спрогнозировать, уйдёт клиент из банка в ближайшее время или нет. Вам предоставлены исторические данные о поведении клиентов и расторжении договоров с банком. \n",
    "\n",
    "Постройте модель с предельно большим значением *F1*-меры. Чтобы сдать проект успешно, нужно довести метрику до 0.59. Проверьте *F1*-меру на тестовой выборке самостоятельно.\n",
    "\n",
    "Дополнительно измеряйте *AUC-ROC*, сравнивайте её значение с *F1*-мерой.\n",
    "\n",
    "Источник данных: [https://www.kaggle.com/barelydedicated/bank-customer-churn-modeling](https://www.kaggle.com/barelydedicated/bank-customer-churn-modeling)"
   ]
  },
  {
   "cell_type": "markdown",
   "metadata": {},
   "source": [
    "## Подготовка данных"
   ]
  },
  {
   "cell_type": "markdown",
   "metadata": {},
   "source": [
    "На вход я получил датафрейм с данными клиентов банка. Необходимо проверить их на необходимость предобработки, выделить целевой признак и признаки для модели обучения.  После проверить данные на сбалансированность, протестировать модель на адекватность. Основная цель- построить модель, которая будет прогнозировать уход клиента из банка"
   ]
  },
  {
   "cell_type": "markdown",
   "metadata": {},
   "source": [
    "Для начала посмотрю в общем на данные, размер датасета"
   ]
  },
  {
   "cell_type": "code",
   "execution_count": 1,
   "metadata": {},
   "outputs": [
    {
     "name": "stdout",
     "output_type": "stream",
     "text": [
      "Requirement already satisfied: scikit-learn in /opt/conda/lib/python3.9/site-packages (1.3.1)\n",
      "Requirement already satisfied: joblib>=1.1.1 in /opt/conda/lib/python3.9/site-packages (from scikit-learn) (1.3.2)\n",
      "Requirement already satisfied: threadpoolctl>=2.0.0 in /opt/conda/lib/python3.9/site-packages (from scikit-learn) (3.1.0)\n",
      "Requirement already satisfied: scipy>=1.5.0 in /opt/conda/lib/python3.9/site-packages (from scikit-learn) (1.9.1)\n",
      "Requirement already satisfied: numpy<2.0,>=1.17.3 in /opt/conda/lib/python3.9/site-packages (from scikit-learn) (1.21.1)\n"
     ]
    }
   ],
   "source": [
    "!pip install scikit-learn --upgrade"
   ]
  },
  {
   "cell_type": "code",
   "execution_count": 2,
   "metadata": {},
   "outputs": [],
   "source": [
    "import pandas as pd\n",
    "from sklearn.model_selection import train_test_split\n",
    "from sklearn.metrics import confusion_matrix\n",
    "from sklearn.preprocessing import StandardScaler\n",
    "from sklearn.dummy import DummyClassifier\n",
    "from sklearn.tree import DecisionTreeClassifier\n",
    "from sklearn.linear_model import LogisticRegression\n",
    "from sklearn.ensemble import RandomForestClassifier\n",
    "from sklearn.metrics import f1_score\n",
    "from sklearn.metrics import roc_auc_score\n",
    "from sklearn.utils import shuffle\n",
    "from sklearn.preprocessing import OneHotEncoder\n",
    "import warnings\n",
    "#констатнта\n",
    "RANDOM_STATE = 11111"
   ]
  },
  {
   "cell_type": "code",
   "execution_count": 3,
   "metadata": {},
   "outputs": [],
   "source": [
    "data = pd.read_csv('/datasets/Churn.csv')"
   ]
  },
  {
   "cell_type": "code",
   "execution_count": 4,
   "metadata": {},
   "outputs": [
    {
     "data": {
      "text/plain": [
       "(10000, 14)"
      ]
     },
     "execution_count": 4,
     "metadata": {},
     "output_type": "execute_result"
    }
   ],
   "source": [
    "data.shape"
   ]
  },
  {
   "cell_type": "code",
   "execution_count": 5,
   "metadata": {},
   "outputs": [
    {
     "data": {
      "text/html": [
       "<div>\n",
       "<style scoped>\n",
       "    .dataframe tbody tr th:only-of-type {\n",
       "        vertical-align: middle;\n",
       "    }\n",
       "\n",
       "    .dataframe tbody tr th {\n",
       "        vertical-align: top;\n",
       "    }\n",
       "\n",
       "    .dataframe thead th {\n",
       "        text-align: right;\n",
       "    }\n",
       "</style>\n",
       "<table border=\"1\" class=\"dataframe\">\n",
       "  <thead>\n",
       "    <tr style=\"text-align: right;\">\n",
       "      <th></th>\n",
       "      <th>RowNumber</th>\n",
       "      <th>CustomerId</th>\n",
       "      <th>Surname</th>\n",
       "      <th>CreditScore</th>\n",
       "      <th>Geography</th>\n",
       "      <th>Gender</th>\n",
       "      <th>Age</th>\n",
       "      <th>Tenure</th>\n",
       "      <th>Balance</th>\n",
       "      <th>NumOfProducts</th>\n",
       "      <th>HasCrCard</th>\n",
       "      <th>IsActiveMember</th>\n",
       "      <th>EstimatedSalary</th>\n",
       "      <th>Exited</th>\n",
       "    </tr>\n",
       "  </thead>\n",
       "  <tbody>\n",
       "    <tr>\n",
       "      <th>0</th>\n",
       "      <td>1</td>\n",
       "      <td>15634602</td>\n",
       "      <td>Hargrave</td>\n",
       "      <td>619</td>\n",
       "      <td>France</td>\n",
       "      <td>Female</td>\n",
       "      <td>42</td>\n",
       "      <td>2.0</td>\n",
       "      <td>0.00</td>\n",
       "      <td>1</td>\n",
       "      <td>1</td>\n",
       "      <td>1</td>\n",
       "      <td>101348.88</td>\n",
       "      <td>1</td>\n",
       "    </tr>\n",
       "    <tr>\n",
       "      <th>1</th>\n",
       "      <td>2</td>\n",
       "      <td>15647311</td>\n",
       "      <td>Hill</td>\n",
       "      <td>608</td>\n",
       "      <td>Spain</td>\n",
       "      <td>Female</td>\n",
       "      <td>41</td>\n",
       "      <td>1.0</td>\n",
       "      <td>83807.86</td>\n",
       "      <td>1</td>\n",
       "      <td>0</td>\n",
       "      <td>1</td>\n",
       "      <td>112542.58</td>\n",
       "      <td>0</td>\n",
       "    </tr>\n",
       "    <tr>\n",
       "      <th>2</th>\n",
       "      <td>3</td>\n",
       "      <td>15619304</td>\n",
       "      <td>Onio</td>\n",
       "      <td>502</td>\n",
       "      <td>France</td>\n",
       "      <td>Female</td>\n",
       "      <td>42</td>\n",
       "      <td>8.0</td>\n",
       "      <td>159660.80</td>\n",
       "      <td>3</td>\n",
       "      <td>1</td>\n",
       "      <td>0</td>\n",
       "      <td>113931.57</td>\n",
       "      <td>1</td>\n",
       "    </tr>\n",
       "    <tr>\n",
       "      <th>3</th>\n",
       "      <td>4</td>\n",
       "      <td>15701354</td>\n",
       "      <td>Boni</td>\n",
       "      <td>699</td>\n",
       "      <td>France</td>\n",
       "      <td>Female</td>\n",
       "      <td>39</td>\n",
       "      <td>1.0</td>\n",
       "      <td>0.00</td>\n",
       "      <td>2</td>\n",
       "      <td>0</td>\n",
       "      <td>0</td>\n",
       "      <td>93826.63</td>\n",
       "      <td>0</td>\n",
       "    </tr>\n",
       "    <tr>\n",
       "      <th>4</th>\n",
       "      <td>5</td>\n",
       "      <td>15737888</td>\n",
       "      <td>Mitchell</td>\n",
       "      <td>850</td>\n",
       "      <td>Spain</td>\n",
       "      <td>Female</td>\n",
       "      <td>43</td>\n",
       "      <td>2.0</td>\n",
       "      <td>125510.82</td>\n",
       "      <td>1</td>\n",
       "      <td>1</td>\n",
       "      <td>1</td>\n",
       "      <td>79084.10</td>\n",
       "      <td>0</td>\n",
       "    </tr>\n",
       "  </tbody>\n",
       "</table>\n",
       "</div>"
      ],
      "text/plain": [
       "   RowNumber  CustomerId   Surname  CreditScore Geography  Gender  Age  \\\n",
       "0          1    15634602  Hargrave          619    France  Female   42   \n",
       "1          2    15647311      Hill          608     Spain  Female   41   \n",
       "2          3    15619304      Onio          502    France  Female   42   \n",
       "3          4    15701354      Boni          699    France  Female   39   \n",
       "4          5    15737888  Mitchell          850     Spain  Female   43   \n",
       "\n",
       "   Tenure    Balance  NumOfProducts  HasCrCard  IsActiveMember  \\\n",
       "0     2.0       0.00              1          1               1   \n",
       "1     1.0   83807.86              1          0               1   \n",
       "2     8.0  159660.80              3          1               0   \n",
       "3     1.0       0.00              2          0               0   \n",
       "4     2.0  125510.82              1          1               1   \n",
       "\n",
       "   EstimatedSalary  Exited  \n",
       "0        101348.88       1  \n",
       "1        112542.58       0  \n",
       "2        113931.57       1  \n",
       "3         93826.63       0  \n",
       "4         79084.10       0  "
      ]
     },
     "execution_count": 5,
     "metadata": {},
     "output_type": "execute_result"
    }
   ],
   "source": [
    "data.head()"
   ]
  },
  {
   "cell_type": "markdown",
   "metadata": {},
   "source": [
    "Для упрощения прогнозирования можно Gender разбить на классы (например с помощью dummy) И стандартизировать остальные категориальные параметры. Так же сбалансировать все численные данные. Столбцы RowNumber, CustomerId, Surname можно исключить из данных для обучения модели. Посмотрим на Geography - если категорий будет мало- можно будет так же прогнать через ohe"
   ]
  },
  {
   "cell_type": "code",
   "execution_count": 6,
   "metadata": {},
   "outputs": [
    {
     "data": {
      "text/html": [
       "<div>\n",
       "<style scoped>\n",
       "    .dataframe tbody tr th:only-of-type {\n",
       "        vertical-align: middle;\n",
       "    }\n",
       "\n",
       "    .dataframe tbody tr th {\n",
       "        vertical-align: top;\n",
       "    }\n",
       "\n",
       "    .dataframe thead th {\n",
       "        text-align: right;\n",
       "    }\n",
       "</style>\n",
       "<table border=\"1\" class=\"dataframe\">\n",
       "  <thead>\n",
       "    <tr style=\"text-align: right;\">\n",
       "      <th></th>\n",
       "      <th>RowNumber</th>\n",
       "      <th>CustomerId</th>\n",
       "      <th>CreditScore</th>\n",
       "      <th>Age</th>\n",
       "      <th>Tenure</th>\n",
       "      <th>Balance</th>\n",
       "      <th>NumOfProducts</th>\n",
       "      <th>HasCrCard</th>\n",
       "      <th>IsActiveMember</th>\n",
       "      <th>EstimatedSalary</th>\n",
       "      <th>Exited</th>\n",
       "    </tr>\n",
       "  </thead>\n",
       "  <tbody>\n",
       "    <tr>\n",
       "      <th>count</th>\n",
       "      <td>10000.00000</td>\n",
       "      <td>1.000000e+04</td>\n",
       "      <td>10000.000000</td>\n",
       "      <td>10000.000000</td>\n",
       "      <td>9091.000000</td>\n",
       "      <td>10000.000000</td>\n",
       "      <td>10000.000000</td>\n",
       "      <td>10000.00000</td>\n",
       "      <td>10000.000000</td>\n",
       "      <td>10000.000000</td>\n",
       "      <td>10000.000000</td>\n",
       "    </tr>\n",
       "    <tr>\n",
       "      <th>mean</th>\n",
       "      <td>5000.50000</td>\n",
       "      <td>1.569094e+07</td>\n",
       "      <td>650.528800</td>\n",
       "      <td>38.921800</td>\n",
       "      <td>4.997690</td>\n",
       "      <td>76485.889288</td>\n",
       "      <td>1.530200</td>\n",
       "      <td>0.70550</td>\n",
       "      <td>0.515100</td>\n",
       "      <td>100090.239881</td>\n",
       "      <td>0.203700</td>\n",
       "    </tr>\n",
       "    <tr>\n",
       "      <th>std</th>\n",
       "      <td>2886.89568</td>\n",
       "      <td>7.193619e+04</td>\n",
       "      <td>96.653299</td>\n",
       "      <td>10.487806</td>\n",
       "      <td>2.894723</td>\n",
       "      <td>62397.405202</td>\n",
       "      <td>0.581654</td>\n",
       "      <td>0.45584</td>\n",
       "      <td>0.499797</td>\n",
       "      <td>57510.492818</td>\n",
       "      <td>0.402769</td>\n",
       "    </tr>\n",
       "    <tr>\n",
       "      <th>min</th>\n",
       "      <td>1.00000</td>\n",
       "      <td>1.556570e+07</td>\n",
       "      <td>350.000000</td>\n",
       "      <td>18.000000</td>\n",
       "      <td>0.000000</td>\n",
       "      <td>0.000000</td>\n",
       "      <td>1.000000</td>\n",
       "      <td>0.00000</td>\n",
       "      <td>0.000000</td>\n",
       "      <td>11.580000</td>\n",
       "      <td>0.000000</td>\n",
       "    </tr>\n",
       "    <tr>\n",
       "      <th>25%</th>\n",
       "      <td>2500.75000</td>\n",
       "      <td>1.562853e+07</td>\n",
       "      <td>584.000000</td>\n",
       "      <td>32.000000</td>\n",
       "      <td>2.000000</td>\n",
       "      <td>0.000000</td>\n",
       "      <td>1.000000</td>\n",
       "      <td>0.00000</td>\n",
       "      <td>0.000000</td>\n",
       "      <td>51002.110000</td>\n",
       "      <td>0.000000</td>\n",
       "    </tr>\n",
       "    <tr>\n",
       "      <th>50%</th>\n",
       "      <td>5000.50000</td>\n",
       "      <td>1.569074e+07</td>\n",
       "      <td>652.000000</td>\n",
       "      <td>37.000000</td>\n",
       "      <td>5.000000</td>\n",
       "      <td>97198.540000</td>\n",
       "      <td>1.000000</td>\n",
       "      <td>1.00000</td>\n",
       "      <td>1.000000</td>\n",
       "      <td>100193.915000</td>\n",
       "      <td>0.000000</td>\n",
       "    </tr>\n",
       "    <tr>\n",
       "      <th>75%</th>\n",
       "      <td>7500.25000</td>\n",
       "      <td>1.575323e+07</td>\n",
       "      <td>718.000000</td>\n",
       "      <td>44.000000</td>\n",
       "      <td>7.000000</td>\n",
       "      <td>127644.240000</td>\n",
       "      <td>2.000000</td>\n",
       "      <td>1.00000</td>\n",
       "      <td>1.000000</td>\n",
       "      <td>149388.247500</td>\n",
       "      <td>0.000000</td>\n",
       "    </tr>\n",
       "    <tr>\n",
       "      <th>max</th>\n",
       "      <td>10000.00000</td>\n",
       "      <td>1.581569e+07</td>\n",
       "      <td>850.000000</td>\n",
       "      <td>92.000000</td>\n",
       "      <td>10.000000</td>\n",
       "      <td>250898.090000</td>\n",
       "      <td>4.000000</td>\n",
       "      <td>1.00000</td>\n",
       "      <td>1.000000</td>\n",
       "      <td>199992.480000</td>\n",
       "      <td>1.000000</td>\n",
       "    </tr>\n",
       "  </tbody>\n",
       "</table>\n",
       "</div>"
      ],
      "text/plain": [
       "         RowNumber    CustomerId   CreditScore           Age       Tenure  \\\n",
       "count  10000.00000  1.000000e+04  10000.000000  10000.000000  9091.000000   \n",
       "mean    5000.50000  1.569094e+07    650.528800     38.921800     4.997690   \n",
       "std     2886.89568  7.193619e+04     96.653299     10.487806     2.894723   \n",
       "min        1.00000  1.556570e+07    350.000000     18.000000     0.000000   \n",
       "25%     2500.75000  1.562853e+07    584.000000     32.000000     2.000000   \n",
       "50%     5000.50000  1.569074e+07    652.000000     37.000000     5.000000   \n",
       "75%     7500.25000  1.575323e+07    718.000000     44.000000     7.000000   \n",
       "max    10000.00000  1.581569e+07    850.000000     92.000000    10.000000   \n",
       "\n",
       "             Balance  NumOfProducts    HasCrCard  IsActiveMember  \\\n",
       "count   10000.000000   10000.000000  10000.00000    10000.000000   \n",
       "mean    76485.889288       1.530200      0.70550        0.515100   \n",
       "std     62397.405202       0.581654      0.45584        0.499797   \n",
       "min         0.000000       1.000000      0.00000        0.000000   \n",
       "25%         0.000000       1.000000      0.00000        0.000000   \n",
       "50%     97198.540000       1.000000      1.00000        1.000000   \n",
       "75%    127644.240000       2.000000      1.00000        1.000000   \n",
       "max    250898.090000       4.000000      1.00000        1.000000   \n",
       "\n",
       "       EstimatedSalary        Exited  \n",
       "count     10000.000000  10000.000000  \n",
       "mean     100090.239881      0.203700  \n",
       "std       57510.492818      0.402769  \n",
       "min          11.580000      0.000000  \n",
       "25%       51002.110000      0.000000  \n",
       "50%      100193.915000      0.000000  \n",
       "75%      149388.247500      0.000000  \n",
       "max      199992.480000      1.000000  "
      ]
     },
     "execution_count": 6,
     "metadata": {},
     "output_type": "execute_result"
    }
   ],
   "source": [
    "data.describe()"
   ]
  },
  {
   "cell_type": "code",
   "execution_count": 7,
   "metadata": {},
   "outputs": [
    {
     "data": {
      "text/plain": [
       "France     5014\n",
       "Germany    2509\n",
       "Spain      2477\n",
       "Name: Geography, dtype: int64"
      ]
     },
     "execution_count": 7,
     "metadata": {},
     "output_type": "execute_result"
    }
   ],
   "source": [
    "data['Geography'].value_counts()"
   ]
  },
  {
   "cell_type": "markdown",
   "metadata": {},
   "source": [
    "3 страны- спокойно можно использовать ohe, с удалением 1 стоблца для избегания дамми ловушки. А пока посмотрю общее инфо о датафрейме"
   ]
  },
  {
   "cell_type": "code",
   "execution_count": 8,
   "metadata": {
    "scrolled": true
   },
   "outputs": [
    {
     "name": "stdout",
     "output_type": "stream",
     "text": [
      "<class 'pandas.core.frame.DataFrame'>\n",
      "RangeIndex: 10000 entries, 0 to 9999\n",
      "Data columns (total 14 columns):\n",
      " #   Column           Non-Null Count  Dtype  \n",
      "---  ------           --------------  -----  \n",
      " 0   RowNumber        10000 non-null  int64  \n",
      " 1   CustomerId       10000 non-null  int64  \n",
      " 2   Surname          10000 non-null  object \n",
      " 3   CreditScore      10000 non-null  int64  \n",
      " 4   Geography        10000 non-null  object \n",
      " 5   Gender           10000 non-null  object \n",
      " 6   Age              10000 non-null  int64  \n",
      " 7   Tenure           9091 non-null   float64\n",
      " 8   Balance          10000 non-null  float64\n",
      " 9   NumOfProducts    10000 non-null  int64  \n",
      " 10  HasCrCard        10000 non-null  int64  \n",
      " 11  IsActiveMember   10000 non-null  int64  \n",
      " 12  EstimatedSalary  10000 non-null  float64\n",
      " 13  Exited           10000 non-null  int64  \n",
      "dtypes: float64(3), int64(8), object(3)\n",
      "memory usage: 1.1+ MB\n"
     ]
    }
   ],
   "source": [
    "data.info()"
   ]
  },
  {
   "cell_type": "markdown",
   "metadata": {},
   "source": [
    "В столбце с количеством лет, которым является  человек клиентом банка обнаружилось 909 пропусков"
   ]
  },
  {
   "cell_type": "code",
   "execution_count": 9,
   "metadata": {},
   "outputs": [
    {
     "data": {
      "text/html": [
       "<div>\n",
       "<style scoped>\n",
       "    .dataframe tbody tr th:only-of-type {\n",
       "        vertical-align: middle;\n",
       "    }\n",
       "\n",
       "    .dataframe tbody tr th {\n",
       "        vertical-align: top;\n",
       "    }\n",
       "\n",
       "    .dataframe thead th {\n",
       "        text-align: right;\n",
       "    }\n",
       "</style>\n",
       "<table border=\"1\" class=\"dataframe\">\n",
       "  <thead>\n",
       "    <tr style=\"text-align: right;\">\n",
       "      <th></th>\n",
       "      <th>RowNumber</th>\n",
       "      <th>CustomerId</th>\n",
       "      <th>Surname</th>\n",
       "      <th>CreditScore</th>\n",
       "      <th>Geography</th>\n",
       "      <th>Gender</th>\n",
       "      <th>Age</th>\n",
       "      <th>Tenure</th>\n",
       "      <th>Balance</th>\n",
       "      <th>NumOfProducts</th>\n",
       "      <th>HasCrCard</th>\n",
       "      <th>IsActiveMember</th>\n",
       "      <th>EstimatedSalary</th>\n",
       "      <th>Exited</th>\n",
       "    </tr>\n",
       "  </thead>\n",
       "  <tbody>\n",
       "    <tr>\n",
       "      <th>30</th>\n",
       "      <td>31</td>\n",
       "      <td>15589475</td>\n",
       "      <td>Azikiwe</td>\n",
       "      <td>591</td>\n",
       "      <td>Spain</td>\n",
       "      <td>Female</td>\n",
       "      <td>39</td>\n",
       "      <td>NaN</td>\n",
       "      <td>0.00</td>\n",
       "      <td>3</td>\n",
       "      <td>1</td>\n",
       "      <td>0</td>\n",
       "      <td>140469.38</td>\n",
       "      <td>1</td>\n",
       "    </tr>\n",
       "    <tr>\n",
       "      <th>48</th>\n",
       "      <td>49</td>\n",
       "      <td>15766205</td>\n",
       "      <td>Yin</td>\n",
       "      <td>550</td>\n",
       "      <td>Germany</td>\n",
       "      <td>Male</td>\n",
       "      <td>38</td>\n",
       "      <td>NaN</td>\n",
       "      <td>103391.38</td>\n",
       "      <td>1</td>\n",
       "      <td>0</td>\n",
       "      <td>1</td>\n",
       "      <td>90878.13</td>\n",
       "      <td>0</td>\n",
       "    </tr>\n",
       "    <tr>\n",
       "      <th>51</th>\n",
       "      <td>52</td>\n",
       "      <td>15768193</td>\n",
       "      <td>Trevisani</td>\n",
       "      <td>585</td>\n",
       "      <td>Germany</td>\n",
       "      <td>Male</td>\n",
       "      <td>36</td>\n",
       "      <td>NaN</td>\n",
       "      <td>146050.97</td>\n",
       "      <td>2</td>\n",
       "      <td>0</td>\n",
       "      <td>0</td>\n",
       "      <td>86424.57</td>\n",
       "      <td>0</td>\n",
       "    </tr>\n",
       "    <tr>\n",
       "      <th>53</th>\n",
       "      <td>54</td>\n",
       "      <td>15702298</td>\n",
       "      <td>Parkhill</td>\n",
       "      <td>655</td>\n",
       "      <td>Germany</td>\n",
       "      <td>Male</td>\n",
       "      <td>41</td>\n",
       "      <td>NaN</td>\n",
       "      <td>125561.97</td>\n",
       "      <td>1</td>\n",
       "      <td>0</td>\n",
       "      <td>0</td>\n",
       "      <td>164040.94</td>\n",
       "      <td>1</td>\n",
       "    </tr>\n",
       "    <tr>\n",
       "      <th>60</th>\n",
       "      <td>61</td>\n",
       "      <td>15651280</td>\n",
       "      <td>Hunter</td>\n",
       "      <td>742</td>\n",
       "      <td>Germany</td>\n",
       "      <td>Male</td>\n",
       "      <td>35</td>\n",
       "      <td>NaN</td>\n",
       "      <td>136857.00</td>\n",
       "      <td>1</td>\n",
       "      <td>0</td>\n",
       "      <td>0</td>\n",
       "      <td>84509.57</td>\n",
       "      <td>0</td>\n",
       "    </tr>\n",
       "    <tr>\n",
       "      <th>...</th>\n",
       "      <td>...</td>\n",
       "      <td>...</td>\n",
       "      <td>...</td>\n",
       "      <td>...</td>\n",
       "      <td>...</td>\n",
       "      <td>...</td>\n",
       "      <td>...</td>\n",
       "      <td>...</td>\n",
       "      <td>...</td>\n",
       "      <td>...</td>\n",
       "      <td>...</td>\n",
       "      <td>...</td>\n",
       "      <td>...</td>\n",
       "      <td>...</td>\n",
       "    </tr>\n",
       "    <tr>\n",
       "      <th>9944</th>\n",
       "      <td>9945</td>\n",
       "      <td>15703923</td>\n",
       "      <td>Cameron</td>\n",
       "      <td>744</td>\n",
       "      <td>Germany</td>\n",
       "      <td>Male</td>\n",
       "      <td>41</td>\n",
       "      <td>NaN</td>\n",
       "      <td>190409.34</td>\n",
       "      <td>2</td>\n",
       "      <td>1</td>\n",
       "      <td>1</td>\n",
       "      <td>138361.48</td>\n",
       "      <td>0</td>\n",
       "    </tr>\n",
       "    <tr>\n",
       "      <th>9956</th>\n",
       "      <td>9957</td>\n",
       "      <td>15707861</td>\n",
       "      <td>Nucci</td>\n",
       "      <td>520</td>\n",
       "      <td>France</td>\n",
       "      <td>Female</td>\n",
       "      <td>46</td>\n",
       "      <td>NaN</td>\n",
       "      <td>85216.61</td>\n",
       "      <td>1</td>\n",
       "      <td>1</td>\n",
       "      <td>0</td>\n",
       "      <td>117369.52</td>\n",
       "      <td>1</td>\n",
       "    </tr>\n",
       "    <tr>\n",
       "      <th>9964</th>\n",
       "      <td>9965</td>\n",
       "      <td>15642785</td>\n",
       "      <td>Douglas</td>\n",
       "      <td>479</td>\n",
       "      <td>France</td>\n",
       "      <td>Male</td>\n",
       "      <td>34</td>\n",
       "      <td>NaN</td>\n",
       "      <td>117593.48</td>\n",
       "      <td>2</td>\n",
       "      <td>0</td>\n",
       "      <td>0</td>\n",
       "      <td>113308.29</td>\n",
       "      <td>0</td>\n",
       "    </tr>\n",
       "    <tr>\n",
       "      <th>9985</th>\n",
       "      <td>9986</td>\n",
       "      <td>15586914</td>\n",
       "      <td>Nepean</td>\n",
       "      <td>659</td>\n",
       "      <td>France</td>\n",
       "      <td>Male</td>\n",
       "      <td>36</td>\n",
       "      <td>NaN</td>\n",
       "      <td>123841.49</td>\n",
       "      <td>2</td>\n",
       "      <td>1</td>\n",
       "      <td>0</td>\n",
       "      <td>96833.00</td>\n",
       "      <td>0</td>\n",
       "    </tr>\n",
       "    <tr>\n",
       "      <th>9999</th>\n",
       "      <td>10000</td>\n",
       "      <td>15628319</td>\n",
       "      <td>Walker</td>\n",
       "      <td>792</td>\n",
       "      <td>France</td>\n",
       "      <td>Female</td>\n",
       "      <td>28</td>\n",
       "      <td>NaN</td>\n",
       "      <td>130142.79</td>\n",
       "      <td>1</td>\n",
       "      <td>1</td>\n",
       "      <td>0</td>\n",
       "      <td>38190.78</td>\n",
       "      <td>0</td>\n",
       "    </tr>\n",
       "  </tbody>\n",
       "</table>\n",
       "<p>909 rows × 14 columns</p>\n",
       "</div>"
      ],
      "text/plain": [
       "      RowNumber  CustomerId    Surname  CreditScore Geography  Gender  Age  \\\n",
       "30           31    15589475    Azikiwe          591     Spain  Female   39   \n",
       "48           49    15766205        Yin          550   Germany    Male   38   \n",
       "51           52    15768193  Trevisani          585   Germany    Male   36   \n",
       "53           54    15702298   Parkhill          655   Germany    Male   41   \n",
       "60           61    15651280     Hunter          742   Germany    Male   35   \n",
       "...         ...         ...        ...          ...       ...     ...  ...   \n",
       "9944       9945    15703923    Cameron          744   Germany    Male   41   \n",
       "9956       9957    15707861      Nucci          520    France  Female   46   \n",
       "9964       9965    15642785    Douglas          479    France    Male   34   \n",
       "9985       9986    15586914     Nepean          659    France    Male   36   \n",
       "9999      10000    15628319     Walker          792    France  Female   28   \n",
       "\n",
       "      Tenure    Balance  NumOfProducts  HasCrCard  IsActiveMember  \\\n",
       "30       NaN       0.00              3          1               0   \n",
       "48       NaN  103391.38              1          0               1   \n",
       "51       NaN  146050.97              2          0               0   \n",
       "53       NaN  125561.97              1          0               0   \n",
       "60       NaN  136857.00              1          0               0   \n",
       "...      ...        ...            ...        ...             ...   \n",
       "9944     NaN  190409.34              2          1               1   \n",
       "9956     NaN   85216.61              1          1               0   \n",
       "9964     NaN  117593.48              2          0               0   \n",
       "9985     NaN  123841.49              2          1               0   \n",
       "9999     NaN  130142.79              1          1               0   \n",
       "\n",
       "      EstimatedSalary  Exited  \n",
       "30          140469.38       1  \n",
       "48           90878.13       0  \n",
       "51           86424.57       0  \n",
       "53          164040.94       1  \n",
       "60           84509.57       0  \n",
       "...               ...     ...  \n",
       "9944        138361.48       0  \n",
       "9956        117369.52       1  \n",
       "9964        113308.29       0  \n",
       "9985         96833.00       0  \n",
       "9999         38190.78       0  \n",
       "\n",
       "[909 rows x 14 columns]"
      ]
     },
     "execution_count": 9,
     "metadata": {},
     "output_type": "execute_result"
    }
   ],
   "source": [
    "data[data['Tenure'].isna()]"
   ]
  },
  {
   "cell_type": "markdown",
   "metadata": {},
   "source": [
    "Остальные строки заполнены, много нужной информации. Считаю правильным заполнить пропуски медианой"
   ]
  },
  {
   "cell_type": "markdown",
   "metadata": {},
   "source": [
    "Разделим данные на целевой признак и признаки для обучения"
   ]
  },
  {
   "cell_type": "code",
   "execution_count": 10,
   "metadata": {},
   "outputs": [],
   "source": [
    "features = data.drop(['RowNumber', 'CustomerId', 'Surname', 'Exited'], axis=1)\n",
    "target = data['Exited']"
   ]
  },
  {
   "cell_type": "code",
   "execution_count": 11,
   "metadata": {},
   "outputs": [],
   "source": [
    "features_train, features_valid, target_train, target_valid = train_test_split(\n",
    "    features, target, test_size=0.2, random_state=RANDOM_STATE, stratify=target)"
   ]
  },
  {
   "cell_type": "code",
   "execution_count": 12,
   "metadata": {},
   "outputs": [],
   "source": [
    "features_train, features_test, target_train, target_test = train_test_split(\n",
    "    features_train, target_train, test_size=0.2, random_state=RANDOM_STATE, stratify=target_train)"
   ]
  },
  {
   "cell_type": "code",
   "execution_count": 13,
   "metadata": {},
   "outputs": [
    {
     "data": {
      "text/plain": [
       "(6400, 10)"
      ]
     },
     "execution_count": 13,
     "metadata": {},
     "output_type": "execute_result"
    }
   ],
   "source": [
    "features_train.shape"
   ]
  },
  {
   "cell_type": "code",
   "execution_count": 14,
   "metadata": {},
   "outputs": [
    {
     "data": {
      "text/plain": [
       "(2000, 10)"
      ]
     },
     "execution_count": 14,
     "metadata": {},
     "output_type": "execute_result"
    }
   ],
   "source": [
    "features_valid.shape"
   ]
  },
  {
   "cell_type": "code",
   "execution_count": 15,
   "metadata": {},
   "outputs": [
    {
     "data": {
      "text/plain": [
       "(1600, 10)"
      ]
     },
     "execution_count": 15,
     "metadata": {},
     "output_type": "execute_result"
    }
   ],
   "source": [
    "features_test.shape"
   ]
  },
  {
   "cell_type": "code",
   "execution_count": 16,
   "metadata": {
    "scrolled": true
   },
   "outputs": [
    {
     "data": {
      "text/html": [
       "<div>\n",
       "<style scoped>\n",
       "    .dataframe tbody tr th:only-of-type {\n",
       "        vertical-align: middle;\n",
       "    }\n",
       "\n",
       "    .dataframe tbody tr th {\n",
       "        vertical-align: top;\n",
       "    }\n",
       "\n",
       "    .dataframe thead th {\n",
       "        text-align: right;\n",
       "    }\n",
       "</style>\n",
       "<table border=\"1\" class=\"dataframe\">\n",
       "  <thead>\n",
       "    <tr style=\"text-align: right;\">\n",
       "      <th></th>\n",
       "      <th>CreditScore</th>\n",
       "      <th>Geography</th>\n",
       "      <th>Gender</th>\n",
       "      <th>Age</th>\n",
       "      <th>Tenure</th>\n",
       "      <th>Balance</th>\n",
       "      <th>NumOfProducts</th>\n",
       "      <th>HasCrCard</th>\n",
       "      <th>IsActiveMember</th>\n",
       "      <th>EstimatedSalary</th>\n",
       "    </tr>\n",
       "  </thead>\n",
       "  <tbody>\n",
       "    <tr>\n",
       "      <th>9156</th>\n",
       "      <td>504</td>\n",
       "      <td>Spain</td>\n",
       "      <td>Female</td>\n",
       "      <td>46</td>\n",
       "      <td>2.0</td>\n",
       "      <td>163764.84</td>\n",
       "      <td>1</td>\n",
       "      <td>1</td>\n",
       "      <td>1</td>\n",
       "      <td>165122.55</td>\n",
       "    </tr>\n",
       "    <tr>\n",
       "      <th>8219</th>\n",
       "      <td>572</td>\n",
       "      <td>France</td>\n",
       "      <td>Female</td>\n",
       "      <td>39</td>\n",
       "      <td>2.0</td>\n",
       "      <td>0.00</td>\n",
       "      <td>2</td>\n",
       "      <td>1</td>\n",
       "      <td>1</td>\n",
       "      <td>555.28</td>\n",
       "    </tr>\n",
       "    <tr>\n",
       "      <th>6870</th>\n",
       "      <td>850</td>\n",
       "      <td>Germany</td>\n",
       "      <td>Female</td>\n",
       "      <td>36</td>\n",
       "      <td>0.0</td>\n",
       "      <td>136980.23</td>\n",
       "      <td>2</td>\n",
       "      <td>1</td>\n",
       "      <td>1</td>\n",
       "      <td>99019.65</td>\n",
       "    </tr>\n",
       "    <tr>\n",
       "      <th>6941</th>\n",
       "      <td>501</td>\n",
       "      <td>Germany</td>\n",
       "      <td>Male</td>\n",
       "      <td>25</td>\n",
       "      <td>6.0</td>\n",
       "      <td>104013.79</td>\n",
       "      <td>1</td>\n",
       "      <td>1</td>\n",
       "      <td>0</td>\n",
       "      <td>114774.35</td>\n",
       "    </tr>\n",
       "    <tr>\n",
       "      <th>744</th>\n",
       "      <td>650</td>\n",
       "      <td>France</td>\n",
       "      <td>Male</td>\n",
       "      <td>60</td>\n",
       "      <td>8.0</td>\n",
       "      <td>0.00</td>\n",
       "      <td>2</td>\n",
       "      <td>1</td>\n",
       "      <td>1</td>\n",
       "      <td>102925.76</td>\n",
       "    </tr>\n",
       "    <tr>\n",
       "      <th>...</th>\n",
       "      <td>...</td>\n",
       "      <td>...</td>\n",
       "      <td>...</td>\n",
       "      <td>...</td>\n",
       "      <td>...</td>\n",
       "      <td>...</td>\n",
       "      <td>...</td>\n",
       "      <td>...</td>\n",
       "      <td>...</td>\n",
       "      <td>...</td>\n",
       "    </tr>\n",
       "    <tr>\n",
       "      <th>6485</th>\n",
       "      <td>640</td>\n",
       "      <td>Germany</td>\n",
       "      <td>Male</td>\n",
       "      <td>26</td>\n",
       "      <td>5.0</td>\n",
       "      <td>90402.77</td>\n",
       "      <td>1</td>\n",
       "      <td>1</td>\n",
       "      <td>1</td>\n",
       "      <td>3298.65</td>\n",
       "    </tr>\n",
       "    <tr>\n",
       "      <th>9327</th>\n",
       "      <td>593</td>\n",
       "      <td>Spain</td>\n",
       "      <td>Female</td>\n",
       "      <td>40</td>\n",
       "      <td>2.0</td>\n",
       "      <td>0.00</td>\n",
       "      <td>1</td>\n",
       "      <td>1</td>\n",
       "      <td>1</td>\n",
       "      <td>5194.95</td>\n",
       "    </tr>\n",
       "    <tr>\n",
       "      <th>9125</th>\n",
       "      <td>749</td>\n",
       "      <td>Spain</td>\n",
       "      <td>Male</td>\n",
       "      <td>34</td>\n",
       "      <td>2.0</td>\n",
       "      <td>0.00</td>\n",
       "      <td>1</td>\n",
       "      <td>0</td>\n",
       "      <td>0</td>\n",
       "      <td>174189.04</td>\n",
       "    </tr>\n",
       "    <tr>\n",
       "      <th>9096</th>\n",
       "      <td>569</td>\n",
       "      <td>France</td>\n",
       "      <td>Male</td>\n",
       "      <td>37</td>\n",
       "      <td>9.0</td>\n",
       "      <td>178755.84</td>\n",
       "      <td>1</td>\n",
       "      <td>1</td>\n",
       "      <td>0</td>\n",
       "      <td>199929.17</td>\n",
       "    </tr>\n",
       "    <tr>\n",
       "      <th>8865</th>\n",
       "      <td>668</td>\n",
       "      <td>France</td>\n",
       "      <td>Male</td>\n",
       "      <td>72</td>\n",
       "      <td>2.0</td>\n",
       "      <td>0.00</td>\n",
       "      <td>2</td>\n",
       "      <td>1</td>\n",
       "      <td>1</td>\n",
       "      <td>70783.61</td>\n",
       "    </tr>\n",
       "  </tbody>\n",
       "</table>\n",
       "<p>6400 rows × 10 columns</p>\n",
       "</div>"
      ],
      "text/plain": [
       "      CreditScore Geography  Gender  Age  Tenure    Balance  NumOfProducts  \\\n",
       "9156          504     Spain  Female   46     2.0  163764.84              1   \n",
       "8219          572    France  Female   39     2.0       0.00              2   \n",
       "6870          850   Germany  Female   36     0.0  136980.23              2   \n",
       "6941          501   Germany    Male   25     6.0  104013.79              1   \n",
       "744           650    France    Male   60     8.0       0.00              2   \n",
       "...           ...       ...     ...  ...     ...        ...            ...   \n",
       "6485          640   Germany    Male   26     5.0   90402.77              1   \n",
       "9327          593     Spain  Female   40     2.0       0.00              1   \n",
       "9125          749     Spain    Male   34     2.0       0.00              1   \n",
       "9096          569    France    Male   37     9.0  178755.84              1   \n",
       "8865          668    France    Male   72     2.0       0.00              2   \n",
       "\n",
       "      HasCrCard  IsActiveMember  EstimatedSalary  \n",
       "9156          1               1        165122.55  \n",
       "8219          1               1           555.28  \n",
       "6870          1               1         99019.65  \n",
       "6941          1               0        114774.35  \n",
       "744           1               1        102925.76  \n",
       "...         ...             ...              ...  \n",
       "6485          1               1          3298.65  \n",
       "9327          1               1          5194.95  \n",
       "9125          0               0        174189.04  \n",
       "9096          1               0        199929.17  \n",
       "8865          1               1         70783.61  \n",
       "\n",
       "[6400 rows x 10 columns]"
      ]
     },
     "execution_count": 16,
     "metadata": {},
     "output_type": "execute_result"
    }
   ],
   "source": [
    "features_train"
   ]
  },
  {
   "cell_type": "code",
   "execution_count": 17,
   "metadata": {},
   "outputs": [
    {
     "data": {
      "text/plain": [
       "count    5801.000000\n",
       "mean        5.016376\n",
       "std         2.880536\n",
       "min         0.000000\n",
       "25%         3.000000\n",
       "50%         5.000000\n",
       "75%         8.000000\n",
       "max        10.000000\n",
       "Name: Tenure, dtype: float64"
      ]
     },
     "execution_count": 17,
     "metadata": {},
     "output_type": "execute_result"
    }
   ],
   "source": [
    "features_train['Tenure'].describe()"
   ]
  },
  {
   "cell_type": "code",
   "execution_count": 18,
   "metadata": {},
   "outputs": [
    {
     "data": {
      "text/plain": [
       "count    1818.000000\n",
       "mean        5.008801\n",
       "std         2.914660\n",
       "min         0.000000\n",
       "25%         3.000000\n",
       "50%         5.000000\n",
       "75%         7.750000\n",
       "max        10.000000\n",
       "Name: Tenure, dtype: float64"
      ]
     },
     "execution_count": 18,
     "metadata": {},
     "output_type": "execute_result"
    }
   ],
   "source": [
    "features_valid['Tenure'].describe()"
   ]
  },
  {
   "cell_type": "code",
   "execution_count": 19,
   "metadata": {
    "scrolled": true
   },
   "outputs": [],
   "source": [
    "warnings.simplefilter(action='ignore')\n",
    "features_train['Tenure'] = features_train['Tenure'].fillna(features_train['Tenure'].median())\n",
    "features_valid['Tenure'] = features_valid['Tenure'].fillna(features_valid['Tenure'].median())\n"
   ]
  },
  {
   "cell_type": "code",
   "execution_count": 20,
   "metadata": {},
   "outputs": [
    {
     "data": {
      "text/plain": [
       "count    6400.000000\n",
       "mean        5.014844\n",
       "std         2.742407\n",
       "min         0.000000\n",
       "25%         3.000000\n",
       "50%         5.000000\n",
       "75%         7.000000\n",
       "max        10.000000\n",
       "Name: Tenure, dtype: float64"
      ]
     },
     "execution_count": 20,
     "metadata": {},
     "output_type": "execute_result"
    }
   ],
   "source": [
    "features_train['Tenure'].describe()"
   ]
  },
  {
   "cell_type": "code",
   "execution_count": 21,
   "metadata": {
    "scrolled": true
   },
   "outputs": [
    {
     "data": {
      "text/plain": [
       "count    2000.000000\n",
       "mean        5.008000\n",
       "std         2.778812\n",
       "min         0.000000\n",
       "25%         3.000000\n",
       "50%         5.000000\n",
       "75%         7.000000\n",
       "max        10.000000\n",
       "Name: Tenure, dtype: float64"
      ]
     },
     "execution_count": 21,
     "metadata": {},
     "output_type": "execute_result"
    }
   ],
   "source": [
    "features_valid['Tenure'].describe()"
   ]
  },
  {
   "cell_type": "code",
   "execution_count": 22,
   "metadata": {},
   "outputs": [
    {
     "data": {
      "text/html": [
       "<div>\n",
       "<style scoped>\n",
       "    .dataframe tbody tr th:only-of-type {\n",
       "        vertical-align: middle;\n",
       "    }\n",
       "\n",
       "    .dataframe tbody tr th {\n",
       "        vertical-align: top;\n",
       "    }\n",
       "\n",
       "    .dataframe thead th {\n",
       "        text-align: right;\n",
       "    }\n",
       "</style>\n",
       "<table border=\"1\" class=\"dataframe\">\n",
       "  <thead>\n",
       "    <tr style=\"text-align: right;\">\n",
       "      <th></th>\n",
       "      <th>CreditScore</th>\n",
       "      <th>Geography</th>\n",
       "      <th>Gender</th>\n",
       "      <th>Age</th>\n",
       "      <th>Tenure</th>\n",
       "      <th>Balance</th>\n",
       "      <th>NumOfProducts</th>\n",
       "      <th>HasCrCard</th>\n",
       "      <th>IsActiveMember</th>\n",
       "      <th>EstimatedSalary</th>\n",
       "    </tr>\n",
       "  </thead>\n",
       "  <tbody>\n",
       "    <tr>\n",
       "      <th>9156</th>\n",
       "      <td>504</td>\n",
       "      <td>Spain</td>\n",
       "      <td>Female</td>\n",
       "      <td>46</td>\n",
       "      <td>2.0</td>\n",
       "      <td>163764.84</td>\n",
       "      <td>1</td>\n",
       "      <td>1</td>\n",
       "      <td>1</td>\n",
       "      <td>165122.55</td>\n",
       "    </tr>\n",
       "    <tr>\n",
       "      <th>8219</th>\n",
       "      <td>572</td>\n",
       "      <td>France</td>\n",
       "      <td>Female</td>\n",
       "      <td>39</td>\n",
       "      <td>2.0</td>\n",
       "      <td>0.00</td>\n",
       "      <td>2</td>\n",
       "      <td>1</td>\n",
       "      <td>1</td>\n",
       "      <td>555.28</td>\n",
       "    </tr>\n",
       "    <tr>\n",
       "      <th>6870</th>\n",
       "      <td>850</td>\n",
       "      <td>Germany</td>\n",
       "      <td>Female</td>\n",
       "      <td>36</td>\n",
       "      <td>0.0</td>\n",
       "      <td>136980.23</td>\n",
       "      <td>2</td>\n",
       "      <td>1</td>\n",
       "      <td>1</td>\n",
       "      <td>99019.65</td>\n",
       "    </tr>\n",
       "    <tr>\n",
       "      <th>6941</th>\n",
       "      <td>501</td>\n",
       "      <td>Germany</td>\n",
       "      <td>Male</td>\n",
       "      <td>25</td>\n",
       "      <td>6.0</td>\n",
       "      <td>104013.79</td>\n",
       "      <td>1</td>\n",
       "      <td>1</td>\n",
       "      <td>0</td>\n",
       "      <td>114774.35</td>\n",
       "    </tr>\n",
       "    <tr>\n",
       "      <th>744</th>\n",
       "      <td>650</td>\n",
       "      <td>France</td>\n",
       "      <td>Male</td>\n",
       "      <td>60</td>\n",
       "      <td>8.0</td>\n",
       "      <td>0.00</td>\n",
       "      <td>2</td>\n",
       "      <td>1</td>\n",
       "      <td>1</td>\n",
       "      <td>102925.76</td>\n",
       "    </tr>\n",
       "    <tr>\n",
       "      <th>...</th>\n",
       "      <td>...</td>\n",
       "      <td>...</td>\n",
       "      <td>...</td>\n",
       "      <td>...</td>\n",
       "      <td>...</td>\n",
       "      <td>...</td>\n",
       "      <td>...</td>\n",
       "      <td>...</td>\n",
       "      <td>...</td>\n",
       "      <td>...</td>\n",
       "    </tr>\n",
       "    <tr>\n",
       "      <th>6485</th>\n",
       "      <td>640</td>\n",
       "      <td>Germany</td>\n",
       "      <td>Male</td>\n",
       "      <td>26</td>\n",
       "      <td>5.0</td>\n",
       "      <td>90402.77</td>\n",
       "      <td>1</td>\n",
       "      <td>1</td>\n",
       "      <td>1</td>\n",
       "      <td>3298.65</td>\n",
       "    </tr>\n",
       "    <tr>\n",
       "      <th>9327</th>\n",
       "      <td>593</td>\n",
       "      <td>Spain</td>\n",
       "      <td>Female</td>\n",
       "      <td>40</td>\n",
       "      <td>2.0</td>\n",
       "      <td>0.00</td>\n",
       "      <td>1</td>\n",
       "      <td>1</td>\n",
       "      <td>1</td>\n",
       "      <td>5194.95</td>\n",
       "    </tr>\n",
       "    <tr>\n",
       "      <th>9125</th>\n",
       "      <td>749</td>\n",
       "      <td>Spain</td>\n",
       "      <td>Male</td>\n",
       "      <td>34</td>\n",
       "      <td>2.0</td>\n",
       "      <td>0.00</td>\n",
       "      <td>1</td>\n",
       "      <td>0</td>\n",
       "      <td>0</td>\n",
       "      <td>174189.04</td>\n",
       "    </tr>\n",
       "    <tr>\n",
       "      <th>9096</th>\n",
       "      <td>569</td>\n",
       "      <td>France</td>\n",
       "      <td>Male</td>\n",
       "      <td>37</td>\n",
       "      <td>9.0</td>\n",
       "      <td>178755.84</td>\n",
       "      <td>1</td>\n",
       "      <td>1</td>\n",
       "      <td>0</td>\n",
       "      <td>199929.17</td>\n",
       "    </tr>\n",
       "    <tr>\n",
       "      <th>8865</th>\n",
       "      <td>668</td>\n",
       "      <td>France</td>\n",
       "      <td>Male</td>\n",
       "      <td>72</td>\n",
       "      <td>2.0</td>\n",
       "      <td>0.00</td>\n",
       "      <td>2</td>\n",
       "      <td>1</td>\n",
       "      <td>1</td>\n",
       "      <td>70783.61</td>\n",
       "    </tr>\n",
       "  </tbody>\n",
       "</table>\n",
       "<p>6400 rows × 10 columns</p>\n",
       "</div>"
      ],
      "text/plain": [
       "      CreditScore Geography  Gender  Age  Tenure    Balance  NumOfProducts  \\\n",
       "9156          504     Spain  Female   46     2.0  163764.84              1   \n",
       "8219          572    France  Female   39     2.0       0.00              2   \n",
       "6870          850   Germany  Female   36     0.0  136980.23              2   \n",
       "6941          501   Germany    Male   25     6.0  104013.79              1   \n",
       "744           650    France    Male   60     8.0       0.00              2   \n",
       "...           ...       ...     ...  ...     ...        ...            ...   \n",
       "6485          640   Germany    Male   26     5.0   90402.77              1   \n",
       "9327          593     Spain  Female   40     2.0       0.00              1   \n",
       "9125          749     Spain    Male   34     2.0       0.00              1   \n",
       "9096          569    France    Male   37     9.0  178755.84              1   \n",
       "8865          668    France    Male   72     2.0       0.00              2   \n",
       "\n",
       "      HasCrCard  IsActiveMember  EstimatedSalary  \n",
       "9156          1               1        165122.55  \n",
       "8219          1               1           555.28  \n",
       "6870          1               1         99019.65  \n",
       "6941          1               0        114774.35  \n",
       "744           1               1        102925.76  \n",
       "...         ...             ...              ...  \n",
       "6485          1               1          3298.65  \n",
       "9327          1               1          5194.95  \n",
       "9125          0               0        174189.04  \n",
       "9096          1               0        199929.17  \n",
       "8865          1               1         70783.61  \n",
       "\n",
       "[6400 rows x 10 columns]"
      ]
     },
     "execution_count": 22,
     "metadata": {},
     "output_type": "execute_result"
    }
   ],
   "source": [
    "features_train"
   ]
  },
  {
   "cell_type": "markdown",
   "metadata": {},
   "source": [
    "## Исследование задачи"
   ]
  },
  {
   "cell_type": "markdown",
   "metadata": {},
   "source": [
    "Посмотрим на целевой признак - сбалансирован он или нет"
   ]
  },
  {
   "cell_type": "code",
   "execution_count": 23,
   "metadata": {},
   "outputs": [
    {
     "data": {
      "text/plain": [
       "0    0.7963\n",
       "1    0.2037\n",
       "Name: Exited, dtype: float64"
      ]
     },
     "execution_count": 23,
     "metadata": {},
     "output_type": "execute_result"
    }
   ],
   "source": [
    "data['Exited'].value_counts(normalize=True)"
   ]
  },
  {
   "cell_type": "markdown",
   "metadata": {},
   "source": [
    "Наблюдается дисбаланс- ушедших клиентов из банка сильно меньше. Для бизнеса это хорошо, но для обучения модели нет"
   ]
  },
  {
   "cell_type": "code",
   "execution_count": 24,
   "metadata": {},
   "outputs": [
    {
     "data": {
      "text/plain": [
       "<AxesSubplot:ylabel='Exited'>"
      ]
     },
     "execution_count": 24,
     "metadata": {},
     "output_type": "execute_result"
    },
    {
     "data": {
      "image/png": "[encoded data removed]",
      "text/plain": [
       "<Figure size 432x288 with 1 Axes>"
      ]
     },
     "metadata": {},
     "output_type": "display_data"
    }
   ],
   "source": [
    "data['Exited'].value_counts(normalize=True).plot(kind='pie')"
   ]
  },
  {
   "cell_type": "markdown",
   "metadata": {},
   "source": [
    "Применю ohe, чтобы модели смогли обучиться"
   ]
  },
  {
   "cell_type": "raw",
   "metadata": {},
   "source": [
    "features_train = pd.get_dummies(features_train, drop_first=True)\n",
    "features_valid = pd.get_dummies(features_valid, drop_first=True)"
   ]
  },
  {
   "cell_type": "code",
   "execution_count": 25,
   "metadata": {},
   "outputs": [],
   "source": [
    "categorical_features = features_train.select_dtypes(include='object').columns.tolist()\n",
    "\n",
    "encoder_ohe = OneHotEncoder(handle_unknown='ignore', sparse=False)\n",
    "\n",
    "encoder_ohe.fit(features_train[categorical_features])\n",
    "\n",
    "features_train[\n",
    "      encoder_ohe.get_feature_names_out()\n",
    "  ] = encoder_ohe.transform(features_train[categorical_features])\n",
    "\n",
    "features_train = features_train.drop(categorical_features, axis=1)\n",
    "\n",
    "features_valid[\n",
    "      encoder_ohe.get_feature_names_out()\n",
    "  ] = encoder_ohe.transform(features_valid[categorical_features])\n",
    "\n",
    "features_valid = features_valid.drop(categorical_features, axis=1)\n",
    "\n",
    "features_test[\n",
    "      encoder_ohe.get_feature_names_out()\n",
    "  ] = encoder_ohe.transform(features_test[categorical_features])\n",
    "\n",
    "features_test = features_test.drop(categorical_features, axis=1)"
   ]
  },
  {
   "cell_type": "code",
   "execution_count": 26,
   "metadata": {},
   "outputs": [],
   "source": [
    "scaler = StandardScaler()\n",
    "numeric = ['CreditScore', 'Age', 'Tenure', 'Balance', 'EstimatedSalary']\n",
    "scaler.fit(features_train[numeric])\n",
    "features_train[numeric] = scaler.transform(features_train[numeric])\n",
    "features_valid[numeric] = scaler.transform(features_valid[numeric])\n",
    "features_test[numeric] = scaler.transform(features_test[numeric])"
   ]
  },
  {
   "cell_type": "code",
   "execution_count": 27,
   "metadata": {
    "scrolled": true
   },
   "outputs": [
    {
     "data": {
      "text/html": [
       "<div>\n",
       "<style scoped>\n",
       "    .dataframe tbody tr th:only-of-type {\n",
       "        vertical-align: middle;\n",
       "    }\n",
       "\n",
       "    .dataframe tbody tr th {\n",
       "        vertical-align: top;\n",
       "    }\n",
       "\n",
       "    .dataframe thead th {\n",
       "        text-align: right;\n",
       "    }\n",
       "</style>\n",
       "<table border=\"1\" class=\"dataframe\">\n",
       "  <thead>\n",
       "    <tr style=\"text-align: right;\">\n",
       "      <th></th>\n",
       "      <th>CreditScore</th>\n",
       "      <th>Age</th>\n",
       "      <th>Tenure</th>\n",
       "      <th>Balance</th>\n",
       "      <th>NumOfProducts</th>\n",
       "      <th>HasCrCard</th>\n",
       "      <th>IsActiveMember</th>\n",
       "      <th>EstimatedSalary</th>\n",
       "      <th>Geography_France</th>\n",
       "      <th>Geography_Germany</th>\n",
       "      <th>Geography_Spain</th>\n",
       "      <th>Gender_Female</th>\n",
       "      <th>Gender_Male</th>\n",
       "    </tr>\n",
       "  </thead>\n",
       "  <tbody>\n",
       "    <tr>\n",
       "      <th>9156</th>\n",
       "      <td>-1.510064</td>\n",
       "      <td>0.679313</td>\n",
       "      <td>-1.099428</td>\n",
       "      <td>1.403560</td>\n",
       "      <td>1</td>\n",
       "      <td>1</td>\n",
       "      <td>1</td>\n",
       "      <td>1.137976</td>\n",
       "      <td>0.0</td>\n",
       "      <td>0.0</td>\n",
       "      <td>1.0</td>\n",
       "      <td>1.0</td>\n",
       "      <td>0.0</td>\n",
       "    </tr>\n",
       "    <tr>\n",
       "      <th>8219</th>\n",
       "      <td>-0.800619</td>\n",
       "      <td>0.007246</td>\n",
       "      <td>-1.099428</td>\n",
       "      <td>-1.223471</td>\n",
       "      <td>2</td>\n",
       "      <td>1</td>\n",
       "      <td>1</td>\n",
       "      <td>-1.733395</td>\n",
       "      <td>1.0</td>\n",
       "      <td>0.0</td>\n",
       "      <td>0.0</td>\n",
       "      <td>1.0</td>\n",
       "      <td>0.0</td>\n",
       "    </tr>\n",
       "    <tr>\n",
       "      <th>6870</th>\n",
       "      <td>2.099761</td>\n",
       "      <td>-0.280783</td>\n",
       "      <td>-1.828771</td>\n",
       "      <td>0.973895</td>\n",
       "      <td>2</td>\n",
       "      <td>1</td>\n",
       "      <td>1</td>\n",
       "      <td>-0.015388</td>\n",
       "      <td>0.0</td>\n",
       "      <td>1.0</td>\n",
       "      <td>0.0</td>\n",
       "      <td>1.0</td>\n",
       "      <td>0.0</td>\n",
       "    </tr>\n",
       "    <tr>\n",
       "      <th>6941</th>\n",
       "      <td>-1.541363</td>\n",
       "      <td>-1.336890</td>\n",
       "      <td>0.359259</td>\n",
       "      <td>0.445064</td>\n",
       "      <td>1</td>\n",
       "      <td>1</td>\n",
       "      <td>0</td>\n",
       "      <td>0.259500</td>\n",
       "      <td>0.0</td>\n",
       "      <td>1.0</td>\n",
       "      <td>0.0</td>\n",
       "      <td>0.0</td>\n",
       "      <td>1.0</td>\n",
       "    </tr>\n",
       "    <tr>\n",
       "      <th>744</th>\n",
       "      <td>0.013157</td>\n",
       "      <td>2.023449</td>\n",
       "      <td>1.088602</td>\n",
       "      <td>-1.223471</td>\n",
       "      <td>2</td>\n",
       "      <td>1</td>\n",
       "      <td>1</td>\n",
       "      <td>0.052766</td>\n",
       "      <td>1.0</td>\n",
       "      <td>0.0</td>\n",
       "      <td>0.0</td>\n",
       "      <td>0.0</td>\n",
       "      <td>1.0</td>\n",
       "    </tr>\n",
       "    <tr>\n",
       "      <th>...</th>\n",
       "      <td>...</td>\n",
       "      <td>...</td>\n",
       "      <td>...</td>\n",
       "      <td>...</td>\n",
       "      <td>...</td>\n",
       "      <td>...</td>\n",
       "      <td>...</td>\n",
       "      <td>...</td>\n",
       "      <td>...</td>\n",
       "      <td>...</td>\n",
       "      <td>...</td>\n",
       "      <td>...</td>\n",
       "      <td>...</td>\n",
       "    </tr>\n",
       "    <tr>\n",
       "      <th>6485</th>\n",
       "      <td>-0.091173</td>\n",
       "      <td>-1.240880</td>\n",
       "      <td>-0.005413</td>\n",
       "      <td>0.226723</td>\n",
       "      <td>1</td>\n",
       "      <td>1</td>\n",
       "      <td>1</td>\n",
       "      <td>-1.685529</td>\n",
       "      <td>0.0</td>\n",
       "      <td>1.0</td>\n",
       "      <td>0.0</td>\n",
       "      <td>0.0</td>\n",
       "      <td>1.0</td>\n",
       "    </tr>\n",
       "    <tr>\n",
       "      <th>9327</th>\n",
       "      <td>-0.581525</td>\n",
       "      <td>0.103255</td>\n",
       "      <td>-1.099428</td>\n",
       "      <td>-1.223471</td>\n",
       "      <td>1</td>\n",
       "      <td>1</td>\n",
       "      <td>1</td>\n",
       "      <td>-1.652442</td>\n",
       "      <td>0.0</td>\n",
       "      <td>0.0</td>\n",
       "      <td>1.0</td>\n",
       "      <td>1.0</td>\n",
       "      <td>0.0</td>\n",
       "    </tr>\n",
       "    <tr>\n",
       "      <th>9125</th>\n",
       "      <td>1.046026</td>\n",
       "      <td>-0.472803</td>\n",
       "      <td>-1.099428</td>\n",
       "      <td>-1.223471</td>\n",
       "      <td>1</td>\n",
       "      <td>0</td>\n",
       "      <td>0</td>\n",
       "      <td>1.296168</td>\n",
       "      <td>0.0</td>\n",
       "      <td>0.0</td>\n",
       "      <td>1.0</td>\n",
       "      <td>0.0</td>\n",
       "      <td>1.0</td>\n",
       "    </tr>\n",
       "    <tr>\n",
       "      <th>9096</th>\n",
       "      <td>-0.831918</td>\n",
       "      <td>-0.184774</td>\n",
       "      <td>1.453273</td>\n",
       "      <td>1.644038</td>\n",
       "      <td>1</td>\n",
       "      <td>1</td>\n",
       "      <td>0</td>\n",
       "      <td>1.745282</td>\n",
       "      <td>1.0</td>\n",
       "      <td>0.0</td>\n",
       "      <td>0.0</td>\n",
       "      <td>0.0</td>\n",
       "      <td>1.0</td>\n",
       "    </tr>\n",
       "    <tr>\n",
       "      <th>8865</th>\n",
       "      <td>0.200951</td>\n",
       "      <td>3.175565</td>\n",
       "      <td>-1.099428</td>\n",
       "      <td>-1.223471</td>\n",
       "      <td>2</td>\n",
       "      <td>1</td>\n",
       "      <td>1</td>\n",
       "      <td>-0.508051</td>\n",
       "      <td>1.0</td>\n",
       "      <td>0.0</td>\n",
       "      <td>0.0</td>\n",
       "      <td>0.0</td>\n",
       "      <td>1.0</td>\n",
       "    </tr>\n",
       "  </tbody>\n",
       "</table>\n",
       "<p>6400 rows × 13 columns</p>\n",
       "</div>"
      ],
      "text/plain": [
       "      CreditScore       Age    Tenure   Balance  NumOfProducts  HasCrCard  \\\n",
       "9156    -1.510064  0.679313 -1.099428  1.403560              1          1   \n",
       "8219    -0.800619  0.007246 -1.099428 -1.223471              2          1   \n",
       "6870     2.099761 -0.280783 -1.828771  0.973895              2          1   \n",
       "6941    -1.541363 -1.336890  0.359259  0.445064              1          1   \n",
       "744      0.013157  2.023449  1.088602 -1.223471              2          1   \n",
       "...           ...       ...       ...       ...            ...        ...   \n",
       "6485    -0.091173 -1.240880 -0.005413  0.226723              1          1   \n",
       "9327    -0.581525  0.103255 -1.099428 -1.223471              1          1   \n",
       "9125     1.046026 -0.472803 -1.099428 -1.223471              1          0   \n",
       "9096    -0.831918 -0.184774  1.453273  1.644038              1          1   \n",
       "8865     0.200951  3.175565 -1.099428 -1.223471              2          1   \n",
       "\n",
       "      IsActiveMember  EstimatedSalary  Geography_France  Geography_Germany  \\\n",
       "9156               1         1.137976               0.0                0.0   \n",
       "8219               1        -1.733395               1.0                0.0   \n",
       "6870               1        -0.015388               0.0                1.0   \n",
       "6941               0         0.259500               0.0                1.0   \n",
       "744                1         0.052766               1.0                0.0   \n",
       "...              ...              ...               ...                ...   \n",
       "6485               1        -1.685529               0.0                1.0   \n",
       "9327               1        -1.652442               0.0                0.0   \n",
       "9125               0         1.296168               0.0                0.0   \n",
       "9096               0         1.745282               1.0                0.0   \n",
       "8865               1        -0.508051               1.0                0.0   \n",
       "\n",
       "      Geography_Spain  Gender_Female  Gender_Male  \n",
       "9156              1.0            1.0          0.0  \n",
       "8219              0.0            1.0          0.0  \n",
       "6870              0.0            1.0          0.0  \n",
       "6941              0.0            0.0          1.0  \n",
       "744               0.0            0.0          1.0  \n",
       "...               ...            ...          ...  \n",
       "6485              0.0            0.0          1.0  \n",
       "9327              1.0            1.0          0.0  \n",
       "9125              1.0            0.0          1.0  \n",
       "9096              0.0            0.0          1.0  \n",
       "8865              0.0            0.0          1.0  \n",
       "\n",
       "[6400 rows x 13 columns]"
      ]
     },
     "execution_count": 27,
     "metadata": {},
     "output_type": "execute_result"
    }
   ],
   "source": [
    "features_train"
   ]
  },
  {
   "cell_type": "code",
   "execution_count": 28,
   "metadata": {},
   "outputs": [
    {
     "data": {
      "text/html": [
       "<div>\n",
       "<style scoped>\n",
       "    .dataframe tbody tr th:only-of-type {\n",
       "        vertical-align: middle;\n",
       "    }\n",
       "\n",
       "    .dataframe tbody tr th {\n",
       "        vertical-align: top;\n",
       "    }\n",
       "\n",
       "    .dataframe thead th {\n",
       "        text-align: right;\n",
       "    }\n",
       "</style>\n",
       "<table border=\"1\" class=\"dataframe\">\n",
       "  <thead>\n",
       "    <tr style=\"text-align: right;\">\n",
       "      <th></th>\n",
       "      <th>CreditScore</th>\n",
       "      <th>Age</th>\n",
       "      <th>Tenure</th>\n",
       "      <th>Balance</th>\n",
       "      <th>NumOfProducts</th>\n",
       "      <th>HasCrCard</th>\n",
       "      <th>IsActiveMember</th>\n",
       "      <th>EstimatedSalary</th>\n",
       "      <th>Geography_France</th>\n",
       "      <th>Geography_Germany</th>\n",
       "      <th>Geography_Spain</th>\n",
       "      <th>Gender_Female</th>\n",
       "      <th>Gender_Male</th>\n",
       "    </tr>\n",
       "  </thead>\n",
       "  <tbody>\n",
       "    <tr>\n",
       "      <th>9145</th>\n",
       "      <td>0.660004</td>\n",
       "      <td>0.583304</td>\n",
       "      <td>0.359259</td>\n",
       "      <td>0.589131</td>\n",
       "      <td>1</td>\n",
       "      <td>0</td>\n",
       "      <td>0</td>\n",
       "      <td>1.718578</td>\n",
       "      <td>0.0</td>\n",
       "      <td>0.0</td>\n",
       "      <td>1.0</td>\n",
       "      <td>0.0</td>\n",
       "      <td>1.0</td>\n",
       "    </tr>\n",
       "    <tr>\n",
       "      <th>1162</th>\n",
       "      <td>-0.351999</td>\n",
       "      <td>-0.856841</td>\n",
       "      <td>1.453273</td>\n",
       "      <td>-1.223471</td>\n",
       "      <td>1</td>\n",
       "      <td>1</td>\n",
       "      <td>0</td>\n",
       "      <td>-0.219038</td>\n",
       "      <td>1.0</td>\n",
       "      <td>0.0</td>\n",
       "      <td>0.0</td>\n",
       "      <td>1.0</td>\n",
       "      <td>0.0</td>\n",
       "    </tr>\n",
       "    <tr>\n",
       "      <th>8657</th>\n",
       "      <td>-1.217939</td>\n",
       "      <td>0.391284</td>\n",
       "      <td>-0.005413</td>\n",
       "      <td>-1.223471</td>\n",
       "      <td>2</td>\n",
       "      <td>0</td>\n",
       "      <td>0</td>\n",
       "      <td>1.582051</td>\n",
       "      <td>1.0</td>\n",
       "      <td>0.0</td>\n",
       "      <td>0.0</td>\n",
       "      <td>0.0</td>\n",
       "      <td>1.0</td>\n",
       "    </tr>\n",
       "    <tr>\n",
       "      <th>1786</th>\n",
       "      <td>0.649571</td>\n",
       "      <td>-0.184774</td>\n",
       "      <td>-0.005413</td>\n",
       "      <td>-1.223471</td>\n",
       "      <td>2</td>\n",
       "      <td>1</td>\n",
       "      <td>0</td>\n",
       "      <td>-0.277820</td>\n",
       "      <td>0.0</td>\n",
       "      <td>0.0</td>\n",
       "      <td>1.0</td>\n",
       "      <td>0.0</td>\n",
       "      <td>1.0</td>\n",
       "    </tr>\n",
       "    <tr>\n",
       "      <th>7971</th>\n",
       "      <td>-0.164204</td>\n",
       "      <td>0.295275</td>\n",
       "      <td>-0.005413</td>\n",
       "      <td>-1.223471</td>\n",
       "      <td>1</td>\n",
       "      <td>0</td>\n",
       "      <td>1</td>\n",
       "      <td>-0.357569</td>\n",
       "      <td>0.0</td>\n",
       "      <td>0.0</td>\n",
       "      <td>1.0</td>\n",
       "      <td>0.0</td>\n",
       "      <td>1.0</td>\n",
       "    </tr>\n",
       "    <tr>\n",
       "      <th>...</th>\n",
       "      <td>...</td>\n",
       "      <td>...</td>\n",
       "      <td>...</td>\n",
       "      <td>...</td>\n",
       "      <td>...</td>\n",
       "      <td>...</td>\n",
       "      <td>...</td>\n",
       "      <td>...</td>\n",
       "      <td>...</td>\n",
       "      <td>...</td>\n",
       "      <td>...</td>\n",
       "      <td>...</td>\n",
       "      <td>...</td>\n",
       "    </tr>\n",
       "    <tr>\n",
       "      <th>7490</th>\n",
       "      <td>0.054889</td>\n",
       "      <td>-0.376793</td>\n",
       "      <td>-1.099428</td>\n",
       "      <td>0.234151</td>\n",
       "      <td>1</td>\n",
       "      <td>1</td>\n",
       "      <td>1</td>\n",
       "      <td>-0.229217</td>\n",
       "      <td>1.0</td>\n",
       "      <td>0.0</td>\n",
       "      <td>0.0</td>\n",
       "      <td>1.0</td>\n",
       "      <td>0.0</td>\n",
       "    </tr>\n",
       "    <tr>\n",
       "      <th>4015</th>\n",
       "      <td>1.713739</td>\n",
       "      <td>-0.664822</td>\n",
       "      <td>-1.464100</td>\n",
       "      <td>0.747865</td>\n",
       "      <td>1</td>\n",
       "      <td>1</td>\n",
       "      <td>1</td>\n",
       "      <td>-1.281127</td>\n",
       "      <td>1.0</td>\n",
       "      <td>0.0</td>\n",
       "      <td>0.0</td>\n",
       "      <td>0.0</td>\n",
       "      <td>1.0</td>\n",
       "    </tr>\n",
       "    <tr>\n",
       "      <th>2584</th>\n",
       "      <td>1.035593</td>\n",
       "      <td>0.103255</td>\n",
       "      <td>-1.828771</td>\n",
       "      <td>-1.223471</td>\n",
       "      <td>1</td>\n",
       "      <td>0</td>\n",
       "      <td>0</td>\n",
       "      <td>-0.688932</td>\n",
       "      <td>1.0</td>\n",
       "      <td>0.0</td>\n",
       "      <td>0.0</td>\n",
       "      <td>0.0</td>\n",
       "      <td>1.0</td>\n",
       "    </tr>\n",
       "    <tr>\n",
       "      <th>8747</th>\n",
       "      <td>-0.727587</td>\n",
       "      <td>-0.952851</td>\n",
       "      <td>1.817945</td>\n",
       "      <td>-0.049322</td>\n",
       "      <td>2</td>\n",
       "      <td>1</td>\n",
       "      <td>1</td>\n",
       "      <td>0.511358</td>\n",
       "      <td>1.0</td>\n",
       "      <td>0.0</td>\n",
       "      <td>0.0</td>\n",
       "      <td>1.0</td>\n",
       "      <td>0.0</td>\n",
       "    </tr>\n",
       "    <tr>\n",
       "      <th>6900</th>\n",
       "      <td>0.263550</td>\n",
       "      <td>0.199265</td>\n",
       "      <td>-0.005413</td>\n",
       "      <td>0.807463</td>\n",
       "      <td>1</td>\n",
       "      <td>1</td>\n",
       "      <td>1</td>\n",
       "      <td>1.165411</td>\n",
       "      <td>0.0</td>\n",
       "      <td>0.0</td>\n",
       "      <td>1.0</td>\n",
       "      <td>1.0</td>\n",
       "      <td>0.0</td>\n",
       "    </tr>\n",
       "  </tbody>\n",
       "</table>\n",
       "<p>2000 rows × 13 columns</p>\n",
       "</div>"
      ],
      "text/plain": [
       "      CreditScore       Age    Tenure   Balance  NumOfProducts  HasCrCard  \\\n",
       "9145     0.660004  0.583304  0.359259  0.589131              1          0   \n",
       "1162    -0.351999 -0.856841  1.453273 -1.223471              1          1   \n",
       "8657    -1.217939  0.391284 -0.005413 -1.223471              2          0   \n",
       "1786     0.649571 -0.184774 -0.005413 -1.223471              2          1   \n",
       "7971    -0.164204  0.295275 -0.005413 -1.223471              1          0   \n",
       "...           ...       ...       ...       ...            ...        ...   \n",
       "7490     0.054889 -0.376793 -1.099428  0.234151              1          1   \n",
       "4015     1.713739 -0.664822 -1.464100  0.747865              1          1   \n",
       "2584     1.035593  0.103255 -1.828771 -1.223471              1          0   \n",
       "8747    -0.727587 -0.952851  1.817945 -0.049322              2          1   \n",
       "6900     0.263550  0.199265 -0.005413  0.807463              1          1   \n",
       "\n",
       "      IsActiveMember  EstimatedSalary  Geography_France  Geography_Germany  \\\n",
       "9145               0         1.718578               0.0                0.0   \n",
       "1162               0        -0.219038               1.0                0.0   \n",
       "8657               0         1.582051               1.0                0.0   \n",
       "1786               0        -0.277820               0.0                0.0   \n",
       "7971               1        -0.357569               0.0                0.0   \n",
       "...              ...              ...               ...                ...   \n",
       "7490               1        -0.229217               1.0                0.0   \n",
       "4015               1        -1.281127               1.0                0.0   \n",
       "2584               0        -0.688932               1.0                0.0   \n",
       "8747               1         0.511358               1.0                0.0   \n",
       "6900               1         1.165411               0.0                0.0   \n",
       "\n",
       "      Geography_Spain  Gender_Female  Gender_Male  \n",
       "9145              1.0            0.0          1.0  \n",
       "1162              0.0            1.0          0.0  \n",
       "8657              0.0            0.0          1.0  \n",
       "1786              1.0            0.0          1.0  \n",
       "7971              1.0            0.0          1.0  \n",
       "...               ...            ...          ...  \n",
       "7490              0.0            1.0          0.0  \n",
       "4015              0.0            0.0          1.0  \n",
       "2584              0.0            0.0          1.0  \n",
       "8747              0.0            1.0          0.0  \n",
       "6900              1.0            1.0          0.0  \n",
       "\n",
       "[2000 rows x 13 columns]"
      ]
     },
     "execution_count": 28,
     "metadata": {},
     "output_type": "execute_result"
    }
   ],
   "source": [
    "features_valid\n"
   ]
  },
  {
   "cell_type": "code",
   "execution_count": 29,
   "metadata": {},
   "outputs": [
    {
     "data": {
      "text/html": [
       "<div>\n",
       "<style scoped>\n",
       "    .dataframe tbody tr th:only-of-type {\n",
       "        vertical-align: middle;\n",
       "    }\n",
       "\n",
       "    .dataframe tbody tr th {\n",
       "        vertical-align: top;\n",
       "    }\n",
       "\n",
       "    .dataframe thead th {\n",
       "        text-align: right;\n",
       "    }\n",
       "</style>\n",
       "<table border=\"1\" class=\"dataframe\">\n",
       "  <thead>\n",
       "    <tr style=\"text-align: right;\">\n",
       "      <th></th>\n",
       "      <th>CreditScore</th>\n",
       "      <th>Age</th>\n",
       "      <th>Tenure</th>\n",
       "      <th>Balance</th>\n",
       "      <th>NumOfProducts</th>\n",
       "      <th>HasCrCard</th>\n",
       "      <th>IsActiveMember</th>\n",
       "      <th>EstimatedSalary</th>\n",
       "      <th>Geography_France</th>\n",
       "      <th>Geography_Germany</th>\n",
       "      <th>Geography_Spain</th>\n",
       "      <th>Gender_Female</th>\n",
       "      <th>Gender_Male</th>\n",
       "    </tr>\n",
       "  </thead>\n",
       "  <tbody>\n",
       "    <tr>\n",
       "      <th>9589</th>\n",
       "      <td>-0.174637</td>\n",
       "      <td>3.079555</td>\n",
       "      <td>-0.734756</td>\n",
       "      <td>0.109844</td>\n",
       "      <td>1</td>\n",
       "      <td>1</td>\n",
       "      <td>1</td>\n",
       "      <td>-1.261558</td>\n",
       "      <td>1.0</td>\n",
       "      <td>0.0</td>\n",
       "      <td>0.0</td>\n",
       "      <td>0.0</td>\n",
       "      <td>1.0</td>\n",
       "    </tr>\n",
       "    <tr>\n",
       "      <th>3376</th>\n",
       "      <td>-0.049441</td>\n",
       "      <td>0.103255</td>\n",
       "      <td>-0.370085</td>\n",
       "      <td>0.016056</td>\n",
       "      <td>2</td>\n",
       "      <td>1</td>\n",
       "      <td>1</td>\n",
       "      <td>0.277397</td>\n",
       "      <td>0.0</td>\n",
       "      <td>1.0</td>\n",
       "      <td>0.0</td>\n",
       "      <td>1.0</td>\n",
       "      <td>0.0</td>\n",
       "    </tr>\n",
       "    <tr>\n",
       "      <th>8875</th>\n",
       "      <td>0.555674</td>\n",
       "      <td>-0.280783</td>\n",
       "      <td>1.453273</td>\n",
       "      <td>0.229253</td>\n",
       "      <td>2</td>\n",
       "      <td>1</td>\n",
       "      <td>0</td>\n",
       "      <td>1.297561</td>\n",
       "      <td>0.0</td>\n",
       "      <td>1.0</td>\n",
       "      <td>0.0</td>\n",
       "      <td>0.0</td>\n",
       "      <td>1.0</td>\n",
       "    </tr>\n",
       "    <tr>\n",
       "      <th>2739</th>\n",
       "      <td>-0.247669</td>\n",
       "      <td>0.583304</td>\n",
       "      <td>0.723930</td>\n",
       "      <td>0.983122</td>\n",
       "      <td>1</td>\n",
       "      <td>0</td>\n",
       "      <td>0</td>\n",
       "      <td>0.431072</td>\n",
       "      <td>1.0</td>\n",
       "      <td>0.0</td>\n",
       "      <td>0.0</td>\n",
       "      <td>0.0</td>\n",
       "      <td>1.0</td>\n",
       "    </tr>\n",
       "    <tr>\n",
       "      <th>3475</th>\n",
       "      <td>1.254686</td>\n",
       "      <td>-0.760832</td>\n",
       "      <td>-0.370085</td>\n",
       "      <td>-0.240175</td>\n",
       "      <td>2</td>\n",
       "      <td>1</td>\n",
       "      <td>1</td>\n",
       "      <td>-1.618889</td>\n",
       "      <td>1.0</td>\n",
       "      <td>0.0</td>\n",
       "      <td>0.0</td>\n",
       "      <td>0.0</td>\n",
       "      <td>1.0</td>\n",
       "    </tr>\n",
       "    <tr>\n",
       "      <th>...</th>\n",
       "      <td>...</td>\n",
       "      <td>...</td>\n",
       "      <td>...</td>\n",
       "      <td>...</td>\n",
       "      <td>...</td>\n",
       "      <td>...</td>\n",
       "      <td>...</td>\n",
       "      <td>...</td>\n",
       "      <td>...</td>\n",
       "      <td>...</td>\n",
       "      <td>...</td>\n",
       "      <td>...</td>\n",
       "      <td>...</td>\n",
       "    </tr>\n",
       "    <tr>\n",
       "      <th>6479</th>\n",
       "      <td>-0.007709</td>\n",
       "      <td>0.967342</td>\n",
       "      <td>NaN</td>\n",
       "      <td>-1.223471</td>\n",
       "      <td>1</td>\n",
       "      <td>1</td>\n",
       "      <td>0</td>\n",
       "      <td>0.873183</td>\n",
       "      <td>0.0</td>\n",
       "      <td>0.0</td>\n",
       "      <td>1.0</td>\n",
       "      <td>0.0</td>\n",
       "      <td>1.0</td>\n",
       "    </tr>\n",
       "    <tr>\n",
       "      <th>9060</th>\n",
       "      <td>0.378313</td>\n",
       "      <td>-0.568812</td>\n",
       "      <td>NaN</td>\n",
       "      <td>-1.223471</td>\n",
       "      <td>3</td>\n",
       "      <td>0</td>\n",
       "      <td>1</td>\n",
       "      <td>-0.517865</td>\n",
       "      <td>1.0</td>\n",
       "      <td>0.0</td>\n",
       "      <td>0.0</td>\n",
       "      <td>1.0</td>\n",
       "      <td>0.0</td>\n",
       "    </tr>\n",
       "    <tr>\n",
       "      <th>6895</th>\n",
       "      <td>-0.404164</td>\n",
       "      <td>0.967342</td>\n",
       "      <td>0.359259</td>\n",
       "      <td>0.603370</td>\n",
       "      <td>1</td>\n",
       "      <td>1</td>\n",
       "      <td>0</td>\n",
       "      <td>1.673477</td>\n",
       "      <td>0.0</td>\n",
       "      <td>1.0</td>\n",
       "      <td>0.0</td>\n",
       "      <td>0.0</td>\n",
       "      <td>1.0</td>\n",
       "    </tr>\n",
       "    <tr>\n",
       "      <th>2574</th>\n",
       "      <td>0.169652</td>\n",
       "      <td>1.159362</td>\n",
       "      <td>1.453273</td>\n",
       "      <td>0.550884</td>\n",
       "      <td>2</td>\n",
       "      <td>0</td>\n",
       "      <td>1</td>\n",
       "      <td>-1.723668</td>\n",
       "      <td>0.0</td>\n",
       "      <td>1.0</td>\n",
       "      <td>0.0</td>\n",
       "      <td>1.0</td>\n",
       "      <td>0.0</td>\n",
       "    </tr>\n",
       "    <tr>\n",
       "      <th>7285</th>\n",
       "      <td>0.315715</td>\n",
       "      <td>-0.952851</td>\n",
       "      <td>-0.734756</td>\n",
       "      <td>-1.223471</td>\n",
       "      <td>2</td>\n",
       "      <td>1</td>\n",
       "      <td>1</td>\n",
       "      <td>-0.631871</td>\n",
       "      <td>1.0</td>\n",
       "      <td>0.0</td>\n",
       "      <td>0.0</td>\n",
       "      <td>0.0</td>\n",
       "      <td>1.0</td>\n",
       "    </tr>\n",
       "  </tbody>\n",
       "</table>\n",
       "<p>1600 rows × 13 columns</p>\n",
       "</div>"
      ],
      "text/plain": [
       "      CreditScore       Age    Tenure   Balance  NumOfProducts  HasCrCard  \\\n",
       "9589    -0.174637  3.079555 -0.734756  0.109844              1          1   \n",
       "3376    -0.049441  0.103255 -0.370085  0.016056              2          1   \n",
       "8875     0.555674 -0.280783  1.453273  0.229253              2          1   \n",
       "2739    -0.247669  0.583304  0.723930  0.983122              1          0   \n",
       "3475     1.254686 -0.760832 -0.370085 -0.240175              2          1   \n",
       "...           ...       ...       ...       ...            ...        ...   \n",
       "6479    -0.007709  0.967342       NaN -1.223471              1          1   \n",
       "9060     0.378313 -0.568812       NaN -1.223471              3          0   \n",
       "6895    -0.404164  0.967342  0.359259  0.603370              1          1   \n",
       "2574     0.169652  1.159362  1.453273  0.550884              2          0   \n",
       "7285     0.315715 -0.952851 -0.734756 -1.223471              2          1   \n",
       "\n",
       "      IsActiveMember  EstimatedSalary  Geography_France  Geography_Germany  \\\n",
       "9589               1        -1.261558               1.0                0.0   \n",
       "3376               1         0.277397               0.0                1.0   \n",
       "8875               0         1.297561               0.0                1.0   \n",
       "2739               0         0.431072               1.0                0.0   \n",
       "3475               1        -1.618889               1.0                0.0   \n",
       "...              ...              ...               ...                ...   \n",
       "6479               0         0.873183               0.0                0.0   \n",
       "9060               1        -0.517865               1.0                0.0   \n",
       "6895               0         1.673477               0.0                1.0   \n",
       "2574               1        -1.723668               0.0                1.0   \n",
       "7285               1        -0.631871               1.0                0.0   \n",
       "\n",
       "      Geography_Spain  Gender_Female  Gender_Male  \n",
       "9589              0.0            0.0          1.0  \n",
       "3376              0.0            1.0          0.0  \n",
       "8875              0.0            0.0          1.0  \n",
       "2739              0.0            0.0          1.0  \n",
       "3475              0.0            0.0          1.0  \n",
       "...               ...            ...          ...  \n",
       "6479              1.0            0.0          1.0  \n",
       "9060              0.0            1.0          0.0  \n",
       "6895              0.0            0.0          1.0  \n",
       "2574              0.0            1.0          0.0  \n",
       "7285              0.0            0.0          1.0  \n",
       "\n",
       "[1600 rows x 13 columns]"
      ]
     },
     "execution_count": 29,
     "metadata": {},
     "output_type": "execute_result"
    }
   ],
   "source": [
    "features_test"
   ]
  },
  {
   "cell_type": "markdown",
   "metadata": {},
   "source": [
    "Начнем строить модель предсказаний с Dummy - для того, чтобы была отправная точка для предварительной оценки предсказаний модели"
   ]
  },
  {
   "cell_type": "raw",
   "metadata": {},
   "source": [
    "dummy = DummyClassifier(strategy=\"uniform\", random_state=RANDOM_STATE)\n",
    "dummy.fit(features_train, target_train)\n",
    "dummy_predict = dummy.predict(features_valid)\n",
    "display(f1_score(target_valid, dummy_predict))\n",
    "probabilities_valid = dummy.predict_proba(features_valid)\n",
    "probabilities_one_valid = probabilities_valid[:, 1]\n",
    "roc_auc_score(target_valid, probabilities_one_valid)"
   ]
  },
  {
   "cell_type": "markdown",
   "metadata": {},
   "source": [
    "Дамми показал результат f1- 0.26 и roc_auc 0.5"
   ]
  },
  {
   "cell_type": "markdown",
   "metadata": {},
   "source": [
    "Логистическая регрессия показала около нулевой результат f1 без балансировки классов и 0.45 с балансировкой. Считаю правильным эту модель в исследовании больше не использовать"
   ]
  },
  {
   "cell_type": "markdown",
   "metadata": {},
   "source": [
    "Проверяю дерево решений без балансировки и масштабирования: перебираю гиперпараметр количества ветвей"
   ]
  },
  {
   "cell_type": "raw",
   "metadata": {},
   "source": [
    "for depth in range(2, 12):\n",
    "    tree = DecisionTreeClassifier(max_depth=depth,random_state=RANDOM_STATE)\n",
    "    tree.fit(features_train, target_train)\n",
    "    tree_predict = tree.predict(features_valid)\n",
    "    tree_score_f1 = f1_score(target_valid, tree_predict).round(5)\n",
    "    probabilities_valid = tree.predict_proba(features_valid)\n",
    "    probabilities_one_valid = probabilities_valid[:, 1]\n",
    "    tree_roc_auc = roc_auc_score(target_valid, probabilities_one_valid).round(5)\n",
    "    print(f'{depth} f1:{tree_score_f1}, roc_auc:{tree_roc_auc}')"
   ]
  },
  {
   "cell_type": "markdown",
   "metadata": {},
   "source": [
    "Результаты с 7 ветвями показывают неплохой результат (0.584), но недостаточный по условию задачи. Нужно будет дальше применить балансировку и масштабирование- возможно метрики вырастут. А пока проверим лес решений"
   ]
  },
  {
   "cell_type": "raw",
   "metadata": {},
   "source": [
    "for depth in range(7, 15):\n",
    "    forest = RandomForestClassifier(max_depth=depth, n_estimators=30,random_state=RANDOM_STATE)\n",
    "    forest.fit(features_train, target_train)\n",
    "    forest_predict = forest.predict(features_valid)\n",
    "    forest_score_f1 = f1_score(target_valid, forest_predict).round(5)\n",
    "    print(f'{depth}, f1:{forest_score_f1}')"
   ]
  },
  {
   "cell_type": "raw",
   "metadata": {},
   "source": [
    "for est in range(10, 101, 10):\n",
    "    forest = RandomForestClassifier(max_depth=13, n_estimators=est,random_state=RANDOM_STATE)\n",
    "    forest.fit(features_train, target_train)\n",
    "    forest_predict = forest.predict(features_valid)\n",
    "    forest_score_f1 = f1_score(target_valid, forest_predict).round(5)\n",
    "    print(f'{est}, f1:{forest_score_f1}')"
   ]
  },
  {
   "cell_type": "raw",
   "metadata": {},
   "source": [
    "forest = RandomForestClassifier(max_depth=13, n_estimators=30,random_state=RANDOM_STATE)\n",
    "forest.fit(features_train, target_train)\n",
    "forest_predict = forest.predict(features_valid)\n",
    "forest_score_f1 = f1_score(target_valid, forest_predict).round(5)\n",
    "print(forest_score_f1)"
   ]
  },
  {
   "cell_type": "markdown",
   "metadata": {},
   "source": [
    "Итог: лучшие параметры при 13 деревьях и 30 ветвях - f1 0.574. Но пока не прохожу по минимальному заданному порогу. Попробую сбалансировать классы и изменить размер сэмплов"
   ]
  },
  {
   "cell_type": "markdown",
   "metadata": {},
   "source": [
    "Простой подбор гиперпараметов не выявил подходящей модели. Необходимо провести работу по борьбе с дисбалансом моделей Дерева решений и Леса решений: сбалансировать и масштабировать"
   ]
  },
  {
   "cell_type": "markdown",
   "metadata": {},
   "source": [
    "## Борьба с дисбалансом"
   ]
  },
  {
   "cell_type": "markdown",
   "metadata": {},
   "source": [
    "Для начала подготовлю функции для увеличения и уменьшения выборок"
   ]
  },
  {
   "cell_type": "code",
   "execution_count": 30,
   "metadata": {},
   "outputs": [],
   "source": [
    "def upsample(features, target, repeat):\n",
    "    features_zeros = features[target == 0]\n",
    "    features_ones = features[target == 1]\n",
    "    target_zeros = target[target == 0]\n",
    "    target_ones = target[target == 1]\n",
    "\n",
    "    features_upsampled = pd.concat([features_zeros] + [features_ones] * repeat)\n",
    "    target_upsampled = pd.concat([target_zeros] + [target_ones] * repeat)\n",
    "    \n",
    "    features_upsampled, target_upsampled = shuffle(\n",
    "        features_upsampled, target_upsampled, random_state=RANDOM_STATE)\n",
    "    \n",
    "    return features_upsampled, target_upsampled"
   ]
  },
  {
   "cell_type": "code",
   "execution_count": 31,
   "metadata": {},
   "outputs": [],
   "source": [
    "def downsample(features, target, fraction):\n",
    "    features_zeros = features[target == 0]\n",
    "    features_ones = features[target == 1]\n",
    "    target_zeros = target[target == 0]\n",
    "    target_ones = target[target == 1]\n",
    "\n",
    "    features_downsampled = pd.concat(\n",
    "        [features_zeros.sample(frac=fraction, random_state=RANDOM_STATE)] + [features_ones])\n",
    "    target_downsampled = pd.concat(\n",
    "        [target_zeros.sample(frac=fraction, random_state=RANDOM_STATE)] + [target_ones])\n",
    "    \n",
    "    features_downsampled, target_downsampled = shuffle(\n",
    "        features_downsampled, target_downsampled, random_state=RANDOM_STATE)\n",
    "    \n",
    "    return features_downsampled, target_downsampled"
   ]
  },
  {
   "cell_type": "markdown",
   "metadata": {},
   "source": [
    "Посмотрю на дерево решений с баланировкой"
   ]
  },
  {
   "cell_type": "raw",
   "metadata": {},
   "source": [
    "for depth in range(2, 12):\n",
    "    tree = DecisionTreeClassifier(max_depth=depth, random_state=RANDOM_STATE, class_weight='balanced')\n",
    "    tree.fit(features_train, target_train)\n",
    "    tree_predict = tree.predict(features_valid)\n",
    "    tree_score_f1 = f1_score(target_valid, tree_predict).round(5)\n",
    "    probabilities_valid = tree.predict_proba(features_valid)\n",
    "    probabilities_one_valid = probabilities_valid[:, 1]\n",
    "    tree_roc_auc = roc_auc_score(target_valid, probabilities_one_valid).round(5)\n",
    "    print(f'{depth} f1:{tree_score_f1}, roc_auc:{tree_roc_auc}')"
   ]
  },
  {
   "cell_type": "markdown",
   "metadata": {},
   "source": [
    "Лучший показатель при 6 ветвях: f1:0.584, roc_auc:0.841"
   ]
  },
  {
   "cell_type": "raw",
   "metadata": {},
   "source": [
    "features_upsampled, target_upsampled = upsample(features_train, target_train, 4)\n",
    "\n",
    "for depth in range(2, 12):\n",
    "    tree = DecisionTreeClassifier(max_depth=depth, random_state=RANDOM_STATE)\n",
    "    tree.fit(features_upsampled, target_upsampled)\n",
    "    tree_predict = tree.predict(features_valid)\n",
    "    tree_score_f1 = f1_score(target_valid, tree_predict).round(5)\n",
    "    probabilities_valid = tree.predict_proba(features_valid)\n",
    "    probabilities_one_valid = probabilities_valid[:, 1]\n",
    "    tree_roc_auc = roc_auc_score(target_valid, probabilities_one_valid).round(5)\n",
    "    print(f'{depth} f1:{tree_score_f1}, roc_auc:{tree_roc_auc}')"
   ]
  },
  {
   "cell_type": "raw",
   "metadata": {},
   "source": [
    "target_train.value_counts(normalize=True)"
   ]
  },
  {
   "cell_type": "raw",
   "metadata": {},
   "source": [
    "target_upsampled.value_counts(normalize=True)"
   ]
  },
  {
   "cell_type": "markdown",
   "metadata": {},
   "source": [
    "При увеличении выборки (в 4 раза), 6 ветвей дали лучший резульатат f1:0.58412, roc_auc:0.84204"
   ]
  },
  {
   "cell_type": "raw",
   "metadata": {},
   "source": [
    "features_downsampled, target_downsampled = downsample(features_train, target_train, 0.25)\n",
    "for depth in range(2, 12):\n",
    "    tree = DecisionTreeClassifier(max_depth=depth, random_state=RANDOM_STATE)\n",
    "    tree.fit(features_downsampled, target_downsampled)\n",
    "    tree_predict = tree.predict(features_valid)\n",
    "    tree_score_f1 = f1_score(target_valid, tree_predict).round(5)\n",
    "    probabilities_valid = tree.predict_proba(features_valid)\n",
    "    probabilities_one_valid = probabilities_valid[:, 1]\n",
    "    tree_roc_auc = roc_auc_score(target_valid, probabilities_one_valid).round(5)\n",
    "    print(f'{depth} f1:{tree_score_f1}, roc_auc:{tree_roc_auc}')"
   ]
  },
  {
   "cell_type": "raw",
   "metadata": {},
   "source": [
    "target_train.value_counts(normalize=True)"
   ]
  },
  {
   "cell_type": "raw",
   "metadata": {},
   "source": [
    "target_downsampled.value_counts(normalize=True)"
   ]
  },
  {
   "cell_type": "markdown",
   "metadata": {},
   "source": [
    "А при уменьшении: 7 ветвей, но и f1 и roc auc ниже, чем при увеличении"
   ]
  },
  {
   "cell_type": "markdown",
   "metadata": {},
   "source": [
    "Так как граница для прохода модели установлена на значении f1  в 0.59- Дерево решений на данном этапе мы отсекаем."
   ]
  },
  {
   "cell_type": "markdown",
   "metadata": {},
   "source": [
    "Проверим лес решений с балансировкой:"
   ]
  },
  {
   "cell_type": "raw",
   "metadata": {},
   "source": [
    "for depth in range(7, 15):\n",
    "    forest = RandomForestClassifier(max_depth=depth, n_estimators=30,random_state=RANDOM_STATE, class_weight='balanced')\n",
    "    forest.fit(features_train, target_train)\n",
    "    forest_predict = forest.predict(features_valid)\n",
    "    forest_score_f1 = f1_score(target_valid, forest_predict).round(5)\n",
    "    print(f'{depth}, f1:{forest_score_f1}')"
   ]
  },
  {
   "cell_type": "markdown",
   "metadata": {},
   "source": [
    "С балансировкой лес показал лучший результат при 12 деревьях, на 13 пошло переобучение"
   ]
  },
  {
   "cell_type": "raw",
   "metadata": {},
   "source": [
    "for est in range(10, 101, 10):\n",
    "    forest = RandomForestClassifier(max_depth=12, n_estimators=est,random_state=RANDOM_STATE, class_weight='balanced')\n",
    "    forest.fit(features_train, target_train)\n",
    "    forest_predict = forest.predict(features_valid)\n",
    "    forest_score_f1 = f1_score(target_valid, forest_predict).round(5)\n",
    "    print(f'{est}, f1:{forest_score_f1}')"
   ]
  },
  {
   "cell_type": "markdown",
   "metadata": {},
   "source": [
    "И количество ветвей- 20"
   ]
  },
  {
   "cell_type": "code",
   "execution_count": 32,
   "metadata": {},
   "outputs": [
    {
     "name": "stdout",
     "output_type": "stream",
     "text": [
      "f1-score: 0.58167\n",
      "roc-auc: 0.83809\n"
     ]
    }
   ],
   "source": [
    "forest = RandomForestClassifier(max_depth=12, n_estimators=20,random_state=RANDOM_STATE, class_weight='balanced')\n",
    "forest.fit(features_train, target_train)\n",
    "forest_predict = forest.predict(features_valid)\n",
    "forest_score_f1 = f1_score(target_valid, forest_predict).round(5)\n",
    "probabilities_valid = forest.predict_proba(features_valid)\n",
    "probabilities_one_valid = probabilities_valid[:, 1]\n",
    "forest_roc_auc = roc_auc_score(target_valid, probabilities_one_valid).round(5)\n",
    "print(f'f1-score: {forest_score_f1}')\n",
    "print(f'roc-auc: {forest_roc_auc}')"
   ]
  },
  {
   "cell_type": "markdown",
   "metadata": {},
   "source": [
    "Лучше всего показал себя лес решений с 12 деревьями и 20 ветвями: f1-score: 0.60417\n",
    "roc-auc: 0.84689"
   ]
  },
  {
   "cell_type": "markdown",
   "metadata": {},
   "source": [
    "Попробуем увеличить и уменьшить выборки"
   ]
  },
  {
   "cell_type": "code",
   "execution_count": 33,
   "metadata": {},
   "outputs": [
    {
     "name": "stdout",
     "output_type": "stream",
     "text": [
      "f1-score: 0.60606\n",
      "roc-auc: 0.84209\n"
     ]
    }
   ],
   "source": [
    "features_upsampled, target_upsampled = upsample(features_train, target_train, 4)\n",
    "\n",
    "forest_up = RandomForestClassifier(max_depth=12, n_estimators=20,random_state=RANDOM_STATE)\n",
    "forest_up.fit(features_upsampled, target_upsampled)\n",
    "forest_up_predict = forest_up.predict(features_valid)\n",
    "forest_up_score_f1 = f1_score(target_valid, forest_up_predict).round(5)\n",
    "probabilities_valid = forest_up.predict_proba(features_valid)\n",
    "probabilities_one_valid = probabilities_valid[:, 1]\n",
    "forest_up_roc_auc = roc_auc_score(target_valid, probabilities_one_valid).round(5)\n",
    "print(f'f1-score: {forest_up_score_f1}')\n",
    "print(f'roc-auc: {forest_up_roc_auc}')"
   ]
  },
  {
   "cell_type": "markdown",
   "metadata": {},
   "source": [
    "При увеличении в 4 раза метрики показывают лучший результат f1-score: 0.61302\n",
    "roc-auc: 0.84689\n"
   ]
  },
  {
   "cell_type": "raw",
   "metadata": {},
   "source": [
    "features_downsampled, target_downsampled = downsample(features_train, target_train, 0.25)\n",
    "\n",
    "forest_down = RandomForestClassifier(max_depth=12, n_estimators=20,random_state=RANDOM_STATE)\n",
    "forest_down.fit(features_downsampled, target_downsampled)\n",
    "forest_down_predict = forest_down.predict(features_valid)\n",
    "forest_down_score_f1 = f1_score(target_valid, forest_down_predict).round(5)\n",
    "probabilities_valid = forest_down.predict_proba(features_valid)\n",
    "probabilities_one_valid = probabilities_valid[:, 1]\n",
    "forest_down_roc_auc = roc_auc_score(target_valid, probabilities_one_valid).round(5)\n",
    "print(f'f1-score: {forest_down_score_f1}')\n",
    "print(f'roc-auc: {forest_down_roc_auc}')"
   ]
  },
  {
   "cell_type": "markdown",
   "metadata": {},
   "source": [
    "А при уменьшении лучший результат получился при 0.25 - f1-score: 0.58228\n",
    "roc-auc: 0.84543\n"
   ]
  },
  {
   "cell_type": "markdown",
   "metadata": {},
   "source": [
    "Проверив 3 модели машинного обучения Линейная регрессия не показала значимых результатов по метрикам.\n",
    "Дерево решений сначала показало довольно неплохой результат без учета балансировки и масштабирования (но недостаточный по условиям задачи). Я попробовал повысить значения метрик добавив балансировку и попробовал увеличить и уменьшить сэмплы, но так же метрика f1 не достигла порогового значения в 0.59. Перебрав гиперпараметры случайного леса я подобрал параметры с 13 деревьями и 30 ветвями- но как оказалось эта модель была уже переобученной и при балансировке количество деревьев и ветвей немного снизилось- 12 и 20 соответсвенно. Метрика f1 уже стала значимой. Я решил дополнительно протестировать и балансировку и масштабирование и еще немного улучшил показатель метрики. Остался последний шаг- тест модели"
   ]
  },
  {
   "cell_type": "markdown",
   "metadata": {},
   "source": [
    "## Тестирование модели"
   ]
  },
  {
   "cell_type": "markdown",
   "metadata": {},
   "source": [
    "Тест леса с балансировкой:"
   ]
  },
  {
   "cell_type": "raw",
   "metadata": {},
   "source": [
    "features_test = pd.get_dummies(features_test, drop_first=True)\n",
    "features_test['Tenure'] = features_test['Tenure'].fillna(5)\n",
    "\n",
    "forest_predict = forest.predict(features_test)\n",
    "test_f1 = f1_score(target_test, forest_predict).round(5)\n",
    "probabilities_valid = forest.predict_proba(features_valid)\n",
    "probabilities_one_valid = probabilities_valid[:, 1]\n",
    "test_roc_auc = roc_auc_score(target_valid, probabilities_one_valid).round(5)\n",
    "print(f'f1-score: {test_f1}')\n",
    "print(f'roc-auc: {test_roc_auc}')"
   ]
  },
  {
   "cell_type": "markdown",
   "metadata": {},
   "source": [
    "f1-score: 0.62667\n",
    "roc-auc: 0.84689\n"
   ]
  },
  {
   "cell_type": "markdown",
   "metadata": {},
   "source": [
    "Тест леса с увеличением сэмпла:"
   ]
  },
  {
   "cell_type": "code",
   "execution_count": 34,
   "metadata": {},
   "outputs": [
    {
     "name": "stdout",
     "output_type": "stream",
     "text": [
      "f1-score: 0.63372\n",
      "roc-auc: 0.84209\n"
     ]
    }
   ],
   "source": [
    "#features_test = pd.get_dummies(features_test, drop_first=True)\n",
    "features_test['Tenure'] = features_test['Tenure'].fillna(5)\n",
    "\n",
    "forest_up_predict = forest_up.predict(features_test)\n",
    "test_f1 = f1_score(target_test, forest_up_predict).round(5)\n",
    "probabilities_valid = forest_up.predict_proba(features_valid)\n",
    "probabilities_one_valid = probabilities_valid[:, 1]\n",
    "test_roc_auc = roc_auc_score(target_valid, probabilities_one_valid).round(5)\n",
    "print(f'f1-score: {test_f1}')\n",
    "print(f'roc-auc: {test_roc_auc}')"
   ]
  },
  {
   "cell_type": "markdown",
   "metadata": {},
   "source": [
    "f1-score: 0.64905\n",
    "roc-auc: 0.84698\n"
   ]
  },
  {
   "cell_type": "markdown",
   "metadata": {},
   "source": [
    "Так как по условию задачи цель f1-мера не ниже, чем 0.59 лес решений показал лучший результат (При 12 деревьях, 20 ветвях, и увеличению сэмпла в 4 раза для балансировки). Лучшая метрика была получена при увеличиении сэмпла f1-score: f1-score: 0.64905 roc-auc: 0.84698. \n",
    "В целом без увеличения сэмпла модель так же прошла бы бейзлайн"
   ]
  },
  {
   "cell_type": "markdown",
   "metadata": {},
   "source": [
    "## Чек-лист готовности проекта"
   ]
  },
  {
   "cell_type": "markdown",
   "metadata": {},
   "source": [
    "Поставьте 'x' в выполненных пунктах. Далее нажмите Shift+Enter."
   ]
  },
  {
   "cell_type": "markdown",
   "metadata": {},
   "source": [
    "- [x]  Jupyter Notebook открыт\n",
    "- [x]  Весь код выполняется без ошибок\n",
    "- [x]  Ячейки с кодом расположены в порядке исполнения\n",
    "- [x]  Выполнен шаг 1: данные подготовлены\n",
    "- [x]  Выполнен шаг 2: задача исследована\n",
    "    - [x]  Исследован баланс классов\n",
    "    - [x]  Изучены модели без учёта дисбаланса\n",
    "    - [x]  Написаны выводы по результатам исследования\n",
    "- [x]  Выполнен шаг 3: учтён дисбаланс\n",
    "    - [x]  Применено несколько способов борьбы с дисбалансом\n",
    "    - [x]  Написаны выводы по результатам исследования\n",
    "- [x]  Выполнен шаг 4: проведено тестирование\n",
    "- [x]  Удалось достичь *F1*-меры не менее 0.59\n",
    "- [x]  Исследована метрика *AUC-ROC*"
   ]
  },
  {
   "cell_type": "markdown",
   "metadata": {
    "toc": true
   },
   "source": [
    "<h1>Содержание<span class=\"tocSkip\"></span></h1>\n",
    "<div class=\"toc\"><ul class=\"toc-item\"><li><span><a href=\"#Подготовка-данных\" data-toc-modified-id=\"Подготовка-данных-1\"><span class=\"toc-item-num\">1&nbsp;&nbsp;</span>Подготовка данных</a></span></li><li><span><a href=\"#Исследование-задачи\" data-toc-modified-id=\"Исследование-задачи-2\"><span class=\"toc-item-num\">2&nbsp;&nbsp;</span>Исследование задачи</a></span></li><li><span><a href=\"#Борьба-с-дисбалансом\" data-toc-modified-id=\"Борьба-с-дисбалансом-3\"><span class=\"toc-item-num\">3&nbsp;&nbsp;</span>Борьба с дисбалансом</a></span></li><li><span><a href=\"#Тестирование-модели\" data-toc-modified-id=\"Тестирование-модели-4\"><span class=\"toc-item-num\">4&nbsp;&nbsp;</span>Тестирование модели</a></span></li><li><span><a href=\"#Чек-лист-готовности-проекта\" data-toc-modified-id=\"Чек-лист-готовности-проекта-5\"><span class=\"toc-item-num\">5&nbsp;&nbsp;</span>Чек-лист готовности проекта</a></span></li></ul></div>"
   ]
  }
 ],
 "metadata": {
  "ExecuteTimeLog": [
   {
    "duration": 399,
    "start_time": "2023-09-18T06:05:26.264Z"
   },
   {
    "duration": 60,
    "start_time": "2023-09-18T06:05:51.575Z"
   },
   {
    "duration": 83,
    "start_time": "2023-09-18T06:05:56.663Z"
   },
   {
    "duration": 20,
    "start_time": "2023-09-18T06:06:06.262Z"
   },
   {
    "duration": 4,
    "start_time": "2023-09-18T06:18:06.699Z"
   },
   {
    "duration": 1056,
    "start_time": "2023-09-18T06:25:22.695Z"
   },
   {
    "duration": 15,
    "start_time": "2023-09-18T06:26:06.844Z"
   },
   {
    "duration": 15,
    "start_time": "2023-09-18T06:26:10.646Z"
   },
   {
    "duration": 62,
    "start_time": "2023-09-18T12:00:38.065Z"
   },
   {
    "duration": 1264,
    "start_time": "2023-09-18T12:00:42.940Z"
   },
   {
    "duration": 89,
    "start_time": "2023-09-18T12:00:44.207Z"
   },
   {
    "duration": 35,
    "start_time": "2023-09-18T12:00:44.298Z"
   },
   {
    "duration": 18,
    "start_time": "2023-09-18T12:00:44.336Z"
   },
   {
    "duration": 70,
    "start_time": "2023-09-18T12:00:44.356Z"
   },
   {
    "duration": 16,
    "start_time": "2023-09-18T12:00:44.428Z"
   },
   {
    "duration": 23,
    "start_time": "2023-09-18T12:01:00.032Z"
   },
   {
    "duration": 5,
    "start_time": "2023-09-18T12:05:18.125Z"
   },
   {
    "duration": 7,
    "start_time": "2023-09-18T12:05:27.702Z"
   },
   {
    "duration": 9,
    "start_time": "2023-09-18T12:05:29.301Z"
   },
   {
    "duration": 5,
    "start_time": "2023-09-18T12:05:42.159Z"
   },
   {
    "duration": 10,
    "start_time": "2023-09-18T12:06:23.754Z"
   },
   {
    "duration": 19,
    "start_time": "2023-09-18T12:06:29.518Z"
   },
   {
    "duration": 1094,
    "start_time": "2023-09-18T12:06:46.553Z"
   },
   {
    "duration": 45,
    "start_time": "2023-09-18T12:06:47.650Z"
   },
   {
    "duration": 22,
    "start_time": "2023-09-18T12:06:47.697Z"
   },
   {
    "duration": 5,
    "start_time": "2023-09-18T12:06:47.722Z"
   },
   {
    "duration": 34,
    "start_time": "2023-09-18T12:06:47.729Z"
   },
   {
    "duration": 28,
    "start_time": "2023-09-18T12:06:47.765Z"
   },
   {
    "duration": 19,
    "start_time": "2023-09-18T12:06:47.802Z"
   },
   {
    "duration": 40,
    "start_time": "2023-09-18T12:06:47.824Z"
   },
   {
    "duration": 5,
    "start_time": "2023-09-18T12:07:06.579Z"
   },
   {
    "duration": 5,
    "start_time": "2023-09-18T12:07:07.091Z"
   },
   {
    "duration": 9,
    "start_time": "2023-09-18T12:07:23.132Z"
   },
   {
    "duration": 21,
    "start_time": "2023-09-18T12:07:23.591Z"
   },
   {
    "duration": 5,
    "start_time": "2023-09-18T12:07:50.831Z"
   },
   {
    "duration": 9,
    "start_time": "2023-09-18T12:07:52.007Z"
   },
   {
    "duration": 1144,
    "start_time": "2023-09-18T12:07:57.618Z"
   },
   {
    "duration": 45,
    "start_time": "2023-09-18T12:07:58.764Z"
   },
   {
    "duration": 47,
    "start_time": "2023-09-18T12:07:58.810Z"
   },
   {
    "duration": 18,
    "start_time": "2023-09-18T12:07:58.858Z"
   },
   {
    "duration": 65,
    "start_time": "2023-09-18T12:07:58.879Z"
   },
   {
    "duration": 31,
    "start_time": "2023-09-18T12:07:58.946Z"
   },
   {
    "duration": 19,
    "start_time": "2023-09-18T12:07:58.979Z"
   },
   {
    "duration": 25,
    "start_time": "2023-09-18T12:07:59.000Z"
   },
   {
    "duration": 5,
    "start_time": "2023-09-18T12:08:17.692Z"
   },
   {
    "duration": 8,
    "start_time": "2023-09-18T12:08:18.250Z"
   },
   {
    "duration": 13,
    "start_time": "2023-09-18T12:12:33.849Z"
   },
   {
    "duration": 5,
    "start_time": "2023-09-18T12:12:34.124Z"
   },
   {
    "duration": 134,
    "start_time": "2023-09-18T12:13:18.519Z"
   },
   {
    "duration": 1447,
    "start_time": "2023-09-18T12:13:29.413Z"
   },
   {
    "duration": 48,
    "start_time": "2023-09-18T12:13:30.862Z"
   },
   {
    "duration": 72,
    "start_time": "2023-09-18T12:13:30.913Z"
   },
   {
    "duration": 64,
    "start_time": "2023-09-18T12:13:30.988Z"
   },
   {
    "duration": 83,
    "start_time": "2023-09-18T12:13:31.055Z"
   },
   {
    "duration": 63,
    "start_time": "2023-09-18T12:13:31.140Z"
   },
   {
    "duration": 138,
    "start_time": "2023-09-18T12:13:31.206Z"
   },
   {
    "duration": 0,
    "start_time": "2023-09-18T12:13:31.346Z"
   },
   {
    "duration": 7,
    "start_time": "2023-09-18T12:13:57.553Z"
   },
   {
    "duration": 6,
    "start_time": "2023-09-18T12:14:31.837Z"
   },
   {
    "duration": 6,
    "start_time": "2023-09-18T12:14:41.582Z"
   },
   {
    "duration": 12,
    "start_time": "2023-09-18T12:14:45.019Z"
   },
   {
    "duration": 15,
    "start_time": "2023-09-18T12:14:55.315Z"
   },
   {
    "duration": 6,
    "start_time": "2023-09-18T12:14:58.157Z"
   },
   {
    "duration": 5,
    "start_time": "2023-09-18T12:15:05.349Z"
   },
   {
    "duration": 12,
    "start_time": "2023-09-18T12:29:40.226Z"
   },
   {
    "duration": 17,
    "start_time": "2023-09-18T12:29:45.530Z"
   },
   {
    "duration": 325,
    "start_time": "2023-09-18T12:30:02.906Z"
   },
   {
    "duration": 14,
    "start_time": "2023-09-18T12:30:08.735Z"
   },
   {
    "duration": 1339,
    "start_time": "2023-09-18T12:30:20.916Z"
   },
   {
    "duration": 44,
    "start_time": "2023-09-18T12:30:22.257Z"
   },
   {
    "duration": 33,
    "start_time": "2023-09-18T12:30:22.303Z"
   },
   {
    "duration": 4,
    "start_time": "2023-09-18T12:30:22.339Z"
   },
   {
    "duration": 26,
    "start_time": "2023-09-18T12:30:22.345Z"
   },
   {
    "duration": 55,
    "start_time": "2023-09-18T12:30:22.373Z"
   },
   {
    "duration": 130,
    "start_time": "2023-09-18T12:30:22.430Z"
   },
   {
    "duration": 0,
    "start_time": "2023-09-18T12:30:22.562Z"
   },
   {
    "duration": 5,
    "start_time": "2023-09-18T12:30:38.468Z"
   },
   {
    "duration": 31,
    "start_time": "2023-09-18T12:30:42.387Z"
   },
   {
    "duration": 20,
    "start_time": "2023-09-18T12:30:50.724Z"
   },
   {
    "duration": 12,
    "start_time": "2023-09-18T12:30:57.529Z"
   },
   {
    "duration": 6,
    "start_time": "2023-09-18T16:42:01.720Z"
   },
   {
    "duration": 7,
    "start_time": "2023-09-18T16:42:17.400Z"
   },
   {
    "duration": 6,
    "start_time": "2023-09-18T16:42:27.403Z"
   },
   {
    "duration": 7,
    "start_time": "2023-09-18T16:53:08.499Z"
   },
   {
    "duration": 5,
    "start_time": "2023-09-18T16:58:45.097Z"
   },
   {
    "duration": 5,
    "start_time": "2023-09-18T16:58:55.431Z"
   },
   {
    "duration": 3,
    "start_time": "2023-09-18T16:59:05.821Z"
   },
   {
    "duration": 3,
    "start_time": "2023-09-18T16:59:14.341Z"
   },
   {
    "duration": 19,
    "start_time": "2023-09-18T16:59:22.166Z"
   },
   {
    "duration": 6,
    "start_time": "2023-09-18T16:59:57.577Z"
   },
   {
    "duration": 6,
    "start_time": "2023-09-18T17:00:14.768Z"
   },
   {
    "duration": 1194,
    "start_time": "2023-09-24T07:10:00.573Z"
   },
   {
    "duration": 177,
    "start_time": "2023-09-24T07:10:01.770Z"
   },
   {
    "duration": 21,
    "start_time": "2023-09-24T07:10:01.949Z"
   },
   {
    "duration": 58,
    "start_time": "2023-09-24T07:10:01.972Z"
   },
   {
    "duration": 42,
    "start_time": "2023-09-24T07:10:02.033Z"
   },
   {
    "duration": 44,
    "start_time": "2023-09-24T07:10:02.077Z"
   },
   {
    "duration": 51,
    "start_time": "2023-09-24T07:10:02.123Z"
   },
   {
    "duration": 6,
    "start_time": "2023-09-24T07:10:02.176Z"
   },
   {
    "duration": 26,
    "start_time": "2023-09-24T07:10:02.184Z"
   },
   {
    "duration": 26,
    "start_time": "2023-09-24T07:10:02.212Z"
   },
   {
    "duration": 112,
    "start_time": "2023-09-24T07:37:17.770Z"
   },
   {
    "duration": 14,
    "start_time": "2023-09-24T07:37:40.256Z"
   },
   {
    "duration": 28,
    "start_time": "2023-09-24T07:37:56.387Z"
   },
   {
    "duration": 1225,
    "start_time": "2023-09-25T06:07:53.802Z"
   },
   {
    "duration": 170,
    "start_time": "2023-09-25T06:07:55.030Z"
   },
   {
    "duration": 10,
    "start_time": "2023-09-25T06:07:55.202Z"
   },
   {
    "duration": 18,
    "start_time": "2023-09-25T06:07:55.214Z"
   },
   {
    "duration": 7,
    "start_time": "2023-09-25T06:07:55.234Z"
   },
   {
    "duration": 16,
    "start_time": "2023-09-25T06:07:55.243Z"
   },
   {
    "duration": 26,
    "start_time": "2023-09-25T06:07:55.261Z"
   },
   {
    "duration": 5,
    "start_time": "2023-09-25T06:07:55.289Z"
   },
   {
    "duration": 16,
    "start_time": "2023-09-25T06:07:55.295Z"
   },
   {
    "duration": 30,
    "start_time": "2023-09-25T06:07:55.313Z"
   },
   {
    "duration": 17,
    "start_time": "2023-09-25T06:07:55.344Z"
   },
   {
    "duration": 1265,
    "start_time": "2023-09-25T06:14:59.576Z"
   },
   {
    "duration": 57,
    "start_time": "2023-09-25T06:15:00.843Z"
   },
   {
    "duration": 78,
    "start_time": "2023-09-25T06:15:00.902Z"
   },
   {
    "duration": 99,
    "start_time": "2023-09-25T06:15:00.981Z"
   },
   {
    "duration": 57,
    "start_time": "2023-09-25T06:15:01.082Z"
   },
   {
    "duration": 64,
    "start_time": "2023-09-25T06:15:01.141Z"
   },
   {
    "duration": 74,
    "start_time": "2023-09-25T06:15:01.207Z"
   },
   {
    "duration": 20,
    "start_time": "2023-09-25T06:15:01.282Z"
   },
   {
    "duration": 64,
    "start_time": "2023-09-25T06:15:01.305Z"
   },
   {
    "duration": 68,
    "start_time": "2023-09-25T06:15:01.371Z"
   },
   {
    "duration": 157,
    "start_time": "2023-09-25T06:15:01.441Z"
   },
   {
    "duration": 0,
    "start_time": "2023-09-25T06:15:01.600Z"
   },
   {
    "duration": 84,
    "start_time": "2023-09-25T06:18:50.432Z"
   },
   {
    "duration": 7,
    "start_time": "2023-09-25T06:18:54.747Z"
   },
   {
    "duration": 8,
    "start_time": "2023-09-25T06:19:47.439Z"
   },
   {
    "duration": 7,
    "start_time": "2023-09-25T06:19:47.652Z"
   },
   {
    "duration": 4,
    "start_time": "2023-09-25T06:20:07.235Z"
   },
   {
    "duration": 5,
    "start_time": "2023-09-25T06:20:36.427Z"
   },
   {
    "duration": 5,
    "start_time": "2023-09-25T06:20:54.234Z"
   },
   {
    "duration": 1169,
    "start_time": "2023-09-25T06:21:16.416Z"
   },
   {
    "duration": 44,
    "start_time": "2023-09-25T06:21:17.587Z"
   },
   {
    "duration": 10,
    "start_time": "2023-09-25T06:21:17.634Z"
   },
   {
    "duration": 23,
    "start_time": "2023-09-25T06:21:17.646Z"
   },
   {
    "duration": 7,
    "start_time": "2023-09-25T06:21:17.671Z"
   },
   {
    "duration": 17,
    "start_time": "2023-09-25T06:21:17.680Z"
   },
   {
    "duration": 21,
    "start_time": "2023-09-25T06:21:17.699Z"
   },
   {
    "duration": 5,
    "start_time": "2023-09-25T06:21:17.722Z"
   },
   {
    "duration": 34,
    "start_time": "2023-09-25T06:21:17.728Z"
   },
   {
    "duration": 27,
    "start_time": "2023-09-25T06:21:17.764Z"
   },
   {
    "duration": 110,
    "start_time": "2023-09-25T06:21:17.793Z"
   },
   {
    "duration": 0,
    "start_time": "2023-09-25T06:21:17.905Z"
   },
   {
    "duration": 0,
    "start_time": "2023-09-25T06:21:17.906Z"
   },
   {
    "duration": 0,
    "start_time": "2023-09-25T06:21:17.907Z"
   },
   {
    "duration": 0,
    "start_time": "2023-09-25T06:21:17.909Z"
   },
   {
    "duration": 0,
    "start_time": "2023-09-25T06:21:17.910Z"
   },
   {
    "duration": 0,
    "start_time": "2023-09-25T06:21:17.911Z"
   },
   {
    "duration": 7,
    "start_time": "2023-09-25T06:21:47.083Z"
   },
   {
    "duration": 6,
    "start_time": "2023-09-25T06:21:47.652Z"
   },
   {
    "duration": 4,
    "start_time": "2023-09-25T06:21:48.602Z"
   },
   {
    "duration": 3,
    "start_time": "2023-09-25T06:21:48.685Z"
   },
   {
    "duration": 4,
    "start_time": "2023-09-25T06:21:49.337Z"
   },
   {
    "duration": 3,
    "start_time": "2023-09-25T06:27:31.585Z"
   },
   {
    "duration": 16,
    "start_time": "2023-09-25T06:28:04.985Z"
   },
   {
    "duration": 26,
    "start_time": "2023-09-25T06:28:24.237Z"
   },
   {
    "duration": 23,
    "start_time": "2023-09-25T06:28:36.303Z"
   },
   {
    "duration": 23,
    "start_time": "2023-09-25T06:28:57.987Z"
   },
   {
    "duration": 17,
    "start_time": "2023-09-25T06:29:10.996Z"
   },
   {
    "duration": 13,
    "start_time": "2023-09-25T06:30:00.702Z"
   },
   {
    "duration": 20,
    "start_time": "2023-09-25T06:30:10.848Z"
   },
   {
    "duration": 1179,
    "start_time": "2023-09-25T06:30:18.597Z"
   },
   {
    "duration": 44,
    "start_time": "2023-09-25T06:30:19.778Z"
   },
   {
    "duration": 9,
    "start_time": "2023-09-25T06:30:19.824Z"
   },
   {
    "duration": 46,
    "start_time": "2023-09-25T06:30:19.836Z"
   },
   {
    "duration": 24,
    "start_time": "2023-09-25T06:30:19.884Z"
   },
   {
    "duration": 57,
    "start_time": "2023-09-25T06:30:19.910Z"
   },
   {
    "duration": 29,
    "start_time": "2023-09-25T06:30:19.969Z"
   },
   {
    "duration": 28,
    "start_time": "2023-09-25T06:30:20.000Z"
   },
   {
    "duration": 10,
    "start_time": "2023-09-25T06:30:20.030Z"
   },
   {
    "duration": 19,
    "start_time": "2023-09-25T06:30:20.043Z"
   },
   {
    "duration": 26,
    "start_time": "2023-09-25T06:30:20.064Z"
   },
   {
    "duration": 28,
    "start_time": "2023-09-25T06:30:20.092Z"
   },
   {
    "duration": 29,
    "start_time": "2023-09-25T06:30:20.122Z"
   },
   {
    "duration": 38,
    "start_time": "2023-09-25T06:30:20.153Z"
   },
   {
    "duration": 10,
    "start_time": "2023-09-25T06:30:20.193Z"
   },
   {
    "duration": 36,
    "start_time": "2023-09-25T06:30:20.204Z"
   },
   {
    "duration": 19,
    "start_time": "2023-09-25T06:30:20.242Z"
   },
   {
    "duration": 37,
    "start_time": "2023-09-25T06:30:20.262Z"
   },
   {
    "duration": 38,
    "start_time": "2023-09-25T06:30:20.301Z"
   },
   {
    "duration": 13,
    "start_time": "2023-09-25T06:30:20.341Z"
   },
   {
    "duration": 22,
    "start_time": "2023-09-25T06:30:25.999Z"
   },
   {
    "duration": 5,
    "start_time": "2023-09-25T07:07:46.249Z"
   },
   {
    "duration": 9,
    "start_time": "2023-09-25T07:09:18.830Z"
   },
   {
    "duration": 6,
    "start_time": "2023-09-25T07:09:24.053Z"
   },
   {
    "duration": 6,
    "start_time": "2023-09-25T07:09:43.880Z"
   },
   {
    "duration": 10,
    "start_time": "2023-09-25T07:10:41.009Z"
   },
   {
    "duration": 107,
    "start_time": "2023-09-25T07:11:11.305Z"
   },
   {
    "duration": 12,
    "start_time": "2023-09-25T07:11:35.632Z"
   },
   {
    "duration": 7,
    "start_time": "2023-09-25T07:11:40.254Z"
   },
   {
    "duration": 84,
    "start_time": "2023-09-25T07:11:53.670Z"
   },
   {
    "duration": 11,
    "start_time": "2023-09-25T07:11:57.714Z"
   },
   {
    "duration": 6,
    "start_time": "2023-09-25T07:12:14.992Z"
   },
   {
    "duration": 11,
    "start_time": "2023-09-25T07:12:19.483Z"
   },
   {
    "duration": 87,
    "start_time": "2023-09-25T07:13:04.147Z"
   },
   {
    "duration": 8,
    "start_time": "2023-09-25T07:13:09.493Z"
   },
   {
    "duration": 7,
    "start_time": "2023-09-25T07:13:14.300Z"
   },
   {
    "duration": 12,
    "start_time": "2023-09-25T07:14:03.220Z"
   },
   {
    "duration": 48,
    "start_time": "2023-09-25T07:14:54.906Z"
   },
   {
    "duration": 21,
    "start_time": "2023-09-25T07:16:00.494Z"
   },
   {
    "duration": 39,
    "start_time": "2023-09-25T07:16:36.135Z"
   },
   {
    "duration": 39,
    "start_time": "2023-09-25T07:16:40.922Z"
   },
   {
    "duration": 38,
    "start_time": "2023-09-25T07:16:46.096Z"
   },
   {
    "duration": 40,
    "start_time": "2023-09-25T07:17:02.694Z"
   },
   {
    "duration": 38,
    "start_time": "2023-09-25T07:17:06.259Z"
   },
   {
    "duration": 41,
    "start_time": "2023-09-25T07:17:08.059Z"
   },
   {
    "duration": 44,
    "start_time": "2023-09-25T07:17:08.882Z"
   },
   {
    "duration": 39,
    "start_time": "2023-09-25T07:17:20.128Z"
   },
   {
    "duration": 40,
    "start_time": "2023-09-25T07:17:21.553Z"
   },
   {
    "duration": 10,
    "start_time": "2023-09-25T07:17:41.801Z"
   },
   {
    "duration": 14,
    "start_time": "2023-09-25T07:18:02.177Z"
   },
   {
    "duration": 8,
    "start_time": "2023-09-25T07:18:08.776Z"
   },
   {
    "duration": 8,
    "start_time": "2023-09-25T07:18:12.211Z"
   },
   {
    "duration": 6,
    "start_time": "2023-09-25T07:18:15.573Z"
   },
   {
    "duration": 8,
    "start_time": "2023-09-25T07:18:19.205Z"
   },
   {
    "duration": 44,
    "start_time": "2023-09-25T07:25:54.742Z"
   },
   {
    "duration": 38,
    "start_time": "2023-09-25T07:26:22.597Z"
   },
   {
    "duration": 4,
    "start_time": "2023-09-25T07:28:14.390Z"
   },
   {
    "duration": 46,
    "start_time": "2023-09-25T07:28:25.345Z"
   },
   {
    "duration": 37,
    "start_time": "2023-09-25T07:29:00.279Z"
   },
   {
    "duration": 40,
    "start_time": "2023-09-25T07:29:57.577Z"
   },
   {
    "duration": 44,
    "start_time": "2023-09-25T07:30:10.327Z"
   },
   {
    "duration": 7,
    "start_time": "2023-09-25T07:30:45.545Z"
   },
   {
    "duration": 10,
    "start_time": "2023-09-25T07:30:51.039Z"
   },
   {
    "duration": 3,
    "start_time": "2023-09-25T07:33:18.334Z"
   },
   {
    "duration": 171,
    "start_time": "2023-09-25T07:34:20.686Z"
   },
   {
    "duration": 169,
    "start_time": "2023-09-25T07:34:41.790Z"
   },
   {
    "duration": 16,
    "start_time": "2023-09-25T07:39:19.574Z"
   },
   {
    "duration": 169,
    "start_time": "2023-09-25T07:39:29.872Z"
   },
   {
    "duration": 500,
    "start_time": "2023-09-25T07:39:42.617Z"
   },
   {
    "duration": 535,
    "start_time": "2023-09-25T07:40:01.878Z"
   },
   {
    "duration": 337,
    "start_time": "2023-09-25T07:41:01.687Z"
   },
   {
    "duration": 12,
    "start_time": "2023-09-25T07:47:50.845Z"
   },
   {
    "duration": 277,
    "start_time": "2023-09-25T07:50:13.358Z"
   },
   {
    "duration": 4793,
    "start_time": "2023-09-25T07:50:17.888Z"
   },
   {
    "duration": 7270,
    "start_time": "2023-09-25T07:50:37.937Z"
   },
   {
    "duration": 12704,
    "start_time": "2023-09-25T07:50:57.372Z"
   },
   {
    "duration": 15260,
    "start_time": "2023-09-25T07:53:58.905Z"
   },
   {
    "duration": 15103,
    "start_time": "2023-09-25T07:54:54.780Z"
   },
   {
    "duration": 16283,
    "start_time": "2023-09-25T07:55:24.187Z"
   },
   {
    "duration": 3,
    "start_time": "2023-09-25T08:09:42.904Z"
   },
   {
    "duration": 131,
    "start_time": "2023-09-25T08:11:54.145Z"
   },
   {
    "duration": 444,
    "start_time": "2023-09-25T08:11:58.792Z"
   },
   {
    "duration": 368,
    "start_time": "2023-09-25T08:12:34.754Z"
   },
   {
    "duration": 362,
    "start_time": "2023-09-25T08:12:43.680Z"
   },
   {
    "duration": 348,
    "start_time": "2023-09-25T08:12:52.114Z"
   },
   {
    "duration": 365,
    "start_time": "2023-09-25T08:13:11.894Z"
   },
   {
    "duration": 357,
    "start_time": "2023-09-25T08:13:23.424Z"
   },
   {
    "duration": 355,
    "start_time": "2023-09-25T08:13:27.154Z"
   },
   {
    "duration": 355,
    "start_time": "2023-09-25T08:13:58.280Z"
   },
   {
    "duration": 366,
    "start_time": "2023-09-25T08:14:02.061Z"
   },
   {
    "duration": 11564,
    "start_time": "2023-09-25T08:16:05.589Z"
   },
   {
    "duration": 11488,
    "start_time": "2023-09-25T08:16:17.296Z"
   },
   {
    "duration": 15386,
    "start_time": "2023-09-25T08:16:58.272Z"
   },
   {
    "duration": 15183,
    "start_time": "2023-09-25T08:18:12.433Z"
   },
   {
    "duration": 121,
    "start_time": "2023-09-25T08:28:06.638Z"
   },
   {
    "duration": 40,
    "start_time": "2023-09-25T08:29:45.832Z"
   },
   {
    "duration": 40,
    "start_time": "2023-09-25T08:29:55.228Z"
   },
   {
    "duration": 40,
    "start_time": "2023-09-25T08:30:05.775Z"
   },
   {
    "duration": 54,
    "start_time": "2023-09-25T12:59:26.862Z"
   },
   {
    "duration": 1286,
    "start_time": "2023-09-25T12:59:35.998Z"
   },
   {
    "duration": 48,
    "start_time": "2023-09-25T12:59:37.287Z"
   },
   {
    "duration": 10,
    "start_time": "2023-09-25T12:59:37.336Z"
   },
   {
    "duration": 24,
    "start_time": "2023-09-25T12:59:37.349Z"
   },
   {
    "duration": 9,
    "start_time": "2023-09-25T12:59:37.375Z"
   },
   {
    "duration": 27,
    "start_time": "2023-09-25T12:59:37.386Z"
   },
   {
    "duration": 34,
    "start_time": "2023-09-25T12:59:37.415Z"
   },
   {
    "duration": 5,
    "start_time": "2023-09-25T12:59:37.456Z"
   },
   {
    "duration": 27,
    "start_time": "2023-09-25T12:59:37.463Z"
   },
   {
    "duration": 41,
    "start_time": "2023-09-25T12:59:37.493Z"
   },
   {
    "duration": 20,
    "start_time": "2023-09-25T12:59:37.536Z"
   },
   {
    "duration": 21,
    "start_time": "2023-09-25T12:59:37.558Z"
   },
   {
    "duration": 20,
    "start_time": "2023-09-25T12:59:37.581Z"
   },
   {
    "duration": 6,
    "start_time": "2023-09-25T12:59:37.602Z"
   },
   {
    "duration": 20,
    "start_time": "2023-09-25T12:59:37.609Z"
   },
   {
    "duration": 30,
    "start_time": "2023-09-25T12:59:37.631Z"
   },
   {
    "duration": 49,
    "start_time": "2023-09-25T12:59:37.663Z"
   },
   {
    "duration": 42,
    "start_time": "2023-09-25T12:59:37.714Z"
   },
   {
    "duration": 139,
    "start_time": "2023-09-25T12:59:37.758Z"
   },
   {
    "duration": 0,
    "start_time": "2023-09-25T12:59:37.898Z"
   },
   {
    "duration": 0,
    "start_time": "2023-09-25T12:59:37.899Z"
   },
   {
    "duration": 0,
    "start_time": "2023-09-25T12:59:37.901Z"
   },
   {
    "duration": 0,
    "start_time": "2023-09-25T12:59:37.903Z"
   },
   {
    "duration": 1398,
    "start_time": "2023-09-25T12:59:58.144Z"
   },
   {
    "duration": 46,
    "start_time": "2023-09-25T12:59:59.545Z"
   },
   {
    "duration": 12,
    "start_time": "2023-09-25T12:59:59.593Z"
   },
   {
    "duration": 30,
    "start_time": "2023-09-25T12:59:59.607Z"
   },
   {
    "duration": 8,
    "start_time": "2023-09-25T12:59:59.639Z"
   },
   {
    "duration": 20,
    "start_time": "2023-09-25T12:59:59.649Z"
   },
   {
    "duration": 24,
    "start_time": "2023-09-25T12:59:59.671Z"
   },
   {
    "duration": 21,
    "start_time": "2023-09-25T12:59:59.697Z"
   },
   {
    "duration": 9,
    "start_time": "2023-09-25T12:59:59.721Z"
   },
   {
    "duration": 55,
    "start_time": "2023-09-25T12:59:59.733Z"
   },
   {
    "duration": 21,
    "start_time": "2023-09-25T12:59:59.790Z"
   },
   {
    "duration": 13,
    "start_time": "2023-09-25T12:59:59.813Z"
   },
   {
    "duration": 7,
    "start_time": "2023-09-25T12:59:59.829Z"
   },
   {
    "duration": 11,
    "start_time": "2023-09-25T12:59:59.838Z"
   },
   {
    "duration": 14,
    "start_time": "2023-09-25T12:59:59.852Z"
   },
   {
    "duration": 22,
    "start_time": "2023-09-25T12:59:59.869Z"
   },
   {
    "duration": 63,
    "start_time": "2023-09-25T12:59:59.893Z"
   },
   {
    "duration": 38,
    "start_time": "2023-09-25T12:59:59.957Z"
   },
   {
    "duration": 182,
    "start_time": "2023-09-25T12:59:59.997Z"
   },
   {
    "duration": 0,
    "start_time": "2023-09-25T13:00:00.181Z"
   },
   {
    "duration": 32,
    "start_time": "2023-09-25T13:31:45.936Z"
   },
   {
    "duration": 3,
    "start_time": "2023-09-25T13:32:35.915Z"
   },
   {
    "duration": 21,
    "start_time": "2023-09-25T13:32:39.658Z"
   },
   {
    "duration": 19,
    "start_time": "2023-09-25T13:35:16.455Z"
   },
   {
    "duration": 21,
    "start_time": "2023-09-25T13:35:17.143Z"
   },
   {
    "duration": 3,
    "start_time": "2023-09-25T13:36:00.932Z"
   },
   {
    "duration": 22,
    "start_time": "2023-09-25T13:36:01.993Z"
   },
   {
    "duration": 30,
    "start_time": "2023-09-25T13:36:29.502Z"
   },
   {
    "duration": 20,
    "start_time": "2023-09-25T13:36:34.496Z"
   },
   {
    "duration": 27,
    "start_time": "2023-09-25T13:36:58.294Z"
   },
   {
    "duration": 28,
    "start_time": "2023-09-25T13:36:58.893Z"
   },
   {
    "duration": 8,
    "start_time": "2023-09-25T13:37:40.733Z"
   },
   {
    "duration": 10,
    "start_time": "2023-09-25T13:37:45.849Z"
   },
   {
    "duration": 12,
    "start_time": "2023-09-25T13:38:18.854Z"
   },
   {
    "duration": 15,
    "start_time": "2023-09-25T13:39:52.056Z"
   },
   {
    "duration": 11,
    "start_time": "2023-09-25T13:40:03.269Z"
   },
   {
    "duration": 9,
    "start_time": "2023-09-25T13:40:16.040Z"
   },
   {
    "duration": 13,
    "start_time": "2023-09-25T13:40:39.149Z"
   },
   {
    "duration": 14,
    "start_time": "2023-09-25T13:40:52.617Z"
   },
   {
    "duration": 12,
    "start_time": "2023-09-25T13:41:03.116Z"
   },
   {
    "duration": 14,
    "start_time": "2023-09-25T13:41:12.767Z"
   },
   {
    "duration": 17,
    "start_time": "2023-09-25T13:41:21.263Z"
   },
   {
    "duration": 11,
    "start_time": "2023-09-25T13:41:30.232Z"
   },
   {
    "duration": 11,
    "start_time": "2023-09-25T13:41:39.644Z"
   },
   {
    "duration": 15,
    "start_time": "2023-09-25T13:41:53.266Z"
   },
   {
    "duration": 11,
    "start_time": "2023-09-25T13:42:01.870Z"
   },
   {
    "duration": 246,
    "start_time": "2023-09-25T13:42:52.013Z"
   },
   {
    "duration": 1279,
    "start_time": "2023-09-25T13:43:20.635Z"
   },
   {
    "duration": 46,
    "start_time": "2023-09-25T13:43:21.917Z"
   },
   {
    "duration": 10,
    "start_time": "2023-09-25T13:43:21.965Z"
   },
   {
    "duration": 37,
    "start_time": "2023-09-25T13:43:21.977Z"
   },
   {
    "duration": 6,
    "start_time": "2023-09-25T13:43:22.018Z"
   },
   {
    "duration": 22,
    "start_time": "2023-09-25T13:43:22.026Z"
   },
   {
    "duration": 39,
    "start_time": "2023-09-25T13:43:22.050Z"
   },
   {
    "duration": 6,
    "start_time": "2023-09-25T13:43:22.091Z"
   },
   {
    "duration": 18,
    "start_time": "2023-09-25T13:43:22.099Z"
   },
   {
    "duration": 12,
    "start_time": "2023-09-25T13:43:22.119Z"
   },
   {
    "duration": 17,
    "start_time": "2023-09-25T13:43:22.132Z"
   },
   {
    "duration": 6,
    "start_time": "2023-09-25T13:43:22.151Z"
   },
   {
    "duration": 11,
    "start_time": "2023-09-25T13:43:22.159Z"
   },
   {
    "duration": 15,
    "start_time": "2023-09-25T13:43:22.174Z"
   },
   {
    "duration": 37,
    "start_time": "2023-09-25T13:43:22.190Z"
   },
   {
    "duration": 24,
    "start_time": "2023-09-25T13:43:22.229Z"
   },
   {
    "duration": 25,
    "start_time": "2023-09-25T13:43:22.255Z"
   },
   {
    "duration": 67,
    "start_time": "2023-09-25T13:43:22.282Z"
   },
   {
    "duration": 47,
    "start_time": "2023-09-25T13:43:22.352Z"
   },
   {
    "duration": 36,
    "start_time": "2023-09-25T13:43:22.401Z"
   },
   {
    "duration": 145,
    "start_time": "2023-09-25T13:43:22.439Z"
   },
   {
    "duration": 0,
    "start_time": "2023-09-25T13:43:22.586Z"
   },
   {
    "duration": 11821,
    "start_time": "2023-09-25T13:43:42.828Z"
   },
   {
    "duration": 35,
    "start_time": "2023-09-25T13:45:53.979Z"
   },
   {
    "duration": 1353,
    "start_time": "2023-09-25T13:46:11.980Z"
   },
   {
    "duration": 46,
    "start_time": "2023-09-25T13:46:13.336Z"
   },
   {
    "duration": 9,
    "start_time": "2023-09-25T13:46:13.385Z"
   },
   {
    "duration": 19,
    "start_time": "2023-09-25T13:46:13.396Z"
   },
   {
    "duration": 6,
    "start_time": "2023-09-25T13:46:13.418Z"
   },
   {
    "duration": 38,
    "start_time": "2023-09-25T13:46:13.426Z"
   },
   {
    "duration": 24,
    "start_time": "2023-09-25T13:46:13.465Z"
   },
   {
    "duration": 6,
    "start_time": "2023-09-25T13:46:13.490Z"
   },
   {
    "duration": 18,
    "start_time": "2023-09-25T13:46:13.498Z"
   },
   {
    "duration": 17,
    "start_time": "2023-09-25T13:46:13.518Z"
   },
   {
    "duration": 23,
    "start_time": "2023-09-25T13:46:13.538Z"
   },
   {
    "duration": 5,
    "start_time": "2023-09-25T13:46:13.562Z"
   },
   {
    "duration": 10,
    "start_time": "2023-09-25T13:46:13.569Z"
   },
   {
    "duration": 11,
    "start_time": "2023-09-25T13:46:13.582Z"
   },
   {
    "duration": 20,
    "start_time": "2023-09-25T13:46:13.595Z"
   },
   {
    "duration": 50,
    "start_time": "2023-09-25T13:46:13.617Z"
   },
   {
    "duration": 4,
    "start_time": "2023-09-25T13:46:13.669Z"
   },
   {
    "duration": 42,
    "start_time": "2023-09-25T13:46:13.675Z"
   },
   {
    "duration": 18,
    "start_time": "2023-09-25T13:46:13.719Z"
   },
   {
    "duration": 25,
    "start_time": "2023-09-25T13:46:13.739Z"
   },
   {
    "duration": 152,
    "start_time": "2023-09-25T13:46:13.768Z"
   },
   {
    "duration": 323,
    "start_time": "2023-09-25T13:47:09.159Z"
   },
   {
    "duration": 373,
    "start_time": "2023-09-25T13:47:38.730Z"
   },
   {
    "duration": 36,
    "start_time": "2023-09-25T13:48:59.489Z"
   },
   {
    "duration": 313,
    "start_time": "2023-09-25T13:49:13.976Z"
   },
   {
    "duration": 298,
    "start_time": "2023-09-25T13:49:43.480Z"
   },
   {
    "duration": 310,
    "start_time": "2023-09-25T13:50:13.069Z"
   },
   {
    "duration": 835,
    "start_time": "2023-09-25T13:51:27.171Z"
   },
   {
    "duration": 1252,
    "start_time": "2023-09-25T13:51:42.220Z"
   },
   {
    "duration": 47,
    "start_time": "2023-09-25T13:51:43.475Z"
   },
   {
    "duration": 10,
    "start_time": "2023-09-25T13:51:43.524Z"
   },
   {
    "duration": 22,
    "start_time": "2023-09-25T13:51:43.537Z"
   },
   {
    "duration": 9,
    "start_time": "2023-09-25T13:51:43.562Z"
   },
   {
    "duration": 17,
    "start_time": "2023-09-25T13:51:43.573Z"
   },
   {
    "duration": 27,
    "start_time": "2023-09-25T13:51:43.592Z"
   },
   {
    "duration": 36,
    "start_time": "2023-09-25T13:51:43.621Z"
   },
   {
    "duration": 5,
    "start_time": "2023-09-25T13:51:43.659Z"
   },
   {
    "duration": 12,
    "start_time": "2023-09-25T13:51:43.666Z"
   },
   {
    "duration": 16,
    "start_time": "2023-09-25T13:51:43.680Z"
   },
   {
    "duration": 12,
    "start_time": "2023-09-25T13:51:43.699Z"
   },
   {
    "duration": 25,
    "start_time": "2023-09-25T13:51:43.713Z"
   },
   {
    "duration": 7,
    "start_time": "2023-09-25T13:51:43.742Z"
   },
   {
    "duration": 23,
    "start_time": "2023-09-25T13:51:43.757Z"
   },
   {
    "duration": 26,
    "start_time": "2023-09-25T13:51:43.782Z"
   },
   {
    "duration": 3,
    "start_time": "2023-09-25T13:51:43.811Z"
   },
   {
    "duration": 43,
    "start_time": "2023-09-25T13:51:43.816Z"
   },
   {
    "duration": 19,
    "start_time": "2023-09-25T13:51:43.861Z"
   },
   {
    "duration": 8,
    "start_time": "2023-09-25T13:51:43.882Z"
   },
   {
    "duration": 802,
    "start_time": "2023-09-25T13:51:43.891Z"
   },
   {
    "duration": 758,
    "start_time": "2023-09-25T13:52:12.964Z"
   },
   {
    "duration": 932,
    "start_time": "2023-09-25T13:52:17.998Z"
   },
   {
    "duration": 450,
    "start_time": "2023-09-25T13:52:22.724Z"
   },
   {
    "duration": 578,
    "start_time": "2023-09-25T13:52:26.695Z"
   },
   {
    "duration": 143,
    "start_time": "2023-09-25T13:55:23.451Z"
   },
   {
    "duration": 220975,
    "start_time": "2023-09-25T13:55:59.164Z"
   },
   {
    "duration": 383,
    "start_time": "2023-09-25T13:59:52.055Z"
   },
   {
    "duration": 625,
    "start_time": "2023-09-25T13:59:58.286Z"
   },
   {
    "duration": 583,
    "start_time": "2023-09-25T14:00:23.802Z"
   },
   {
    "duration": 53,
    "start_time": "2023-09-25T14:01:26.145Z"
   },
   {
    "duration": 1265,
    "start_time": "2023-09-25T14:11:51.796Z"
   },
   {
    "duration": 50,
    "start_time": "2023-09-25T14:11:53.063Z"
   },
   {
    "duration": 11,
    "start_time": "2023-09-25T14:11:53.115Z"
   },
   {
    "duration": 47,
    "start_time": "2023-09-25T14:11:53.128Z"
   },
   {
    "duration": 10,
    "start_time": "2023-09-25T14:11:53.179Z"
   },
   {
    "duration": 43,
    "start_time": "2023-09-25T14:11:53.190Z"
   },
   {
    "duration": 27,
    "start_time": "2023-09-25T14:11:53.235Z"
   },
   {
    "duration": 8,
    "start_time": "2023-09-25T14:11:53.264Z"
   },
   {
    "duration": 35,
    "start_time": "2023-09-25T14:11:53.275Z"
   },
   {
    "duration": 19,
    "start_time": "2023-09-25T14:11:53.312Z"
   },
   {
    "duration": 32,
    "start_time": "2023-09-25T14:11:53.333Z"
   },
   {
    "duration": 13,
    "start_time": "2023-09-25T14:11:53.367Z"
   },
   {
    "duration": 28,
    "start_time": "2023-09-25T14:11:53.382Z"
   },
   {
    "duration": 19,
    "start_time": "2023-09-25T14:11:53.414Z"
   },
   {
    "duration": 97,
    "start_time": "2023-09-25T14:11:53.435Z"
   },
   {
    "duration": 124,
    "start_time": "2023-09-25T14:11:53.534Z"
   },
   {
    "duration": 31,
    "start_time": "2023-09-25T14:11:53.660Z"
   },
   {
    "duration": 37,
    "start_time": "2023-09-25T14:11:53.693Z"
   },
   {
    "duration": 52,
    "start_time": "2023-09-25T14:11:53.732Z"
   },
   {
    "duration": 290,
    "start_time": "2023-09-25T14:11:53.786Z"
   },
   {
    "duration": 12024,
    "start_time": "2023-09-25T14:12:25.850Z"
   },
   {
    "duration": 15863,
    "start_time": "2023-09-25T14:12:52.043Z"
   },
   {
    "duration": 589,
    "start_time": "2023-09-25T14:13:43.019Z"
   },
   {
    "duration": 308,
    "start_time": "2023-09-25T14:13:49.100Z"
   },
   {
    "duration": 15542,
    "start_time": "2023-09-25T14:14:51.218Z"
   },
   {
    "duration": 14699,
    "start_time": "2023-09-25T14:15:17.763Z"
   },
   {
    "duration": 14730,
    "start_time": "2023-09-25T14:15:34.857Z"
   },
   {
    "duration": 13251,
    "start_time": "2023-09-25T14:15:52.498Z"
   },
   {
    "duration": 0,
    "start_time": "2023-09-25T14:16:48.229Z"
   },
   {
    "duration": 0,
    "start_time": "2023-09-25T14:17:26.351Z"
   },
   {
    "duration": 0,
    "start_time": "2023-09-25T14:17:51.683Z"
   },
   {
    "duration": 108902,
    "start_time": "2023-09-25T14:17:53.520Z"
   },
   {
    "duration": 1513,
    "start_time": "2023-09-25T14:22:37.380Z"
   },
   {
    "duration": 212,
    "start_time": "2023-09-25T14:23:05.204Z"
   },
   {
    "duration": 1304,
    "start_time": "2023-09-25T14:23:30.174Z"
   },
   {
    "duration": 46,
    "start_time": "2023-09-25T14:23:31.481Z"
   },
   {
    "duration": 10,
    "start_time": "2023-09-25T14:23:31.529Z"
   },
   {
    "duration": 41,
    "start_time": "2023-09-25T14:23:31.541Z"
   },
   {
    "duration": 29,
    "start_time": "2023-09-25T14:23:31.585Z"
   },
   {
    "duration": 55,
    "start_time": "2023-09-25T14:23:31.617Z"
   },
   {
    "duration": 32,
    "start_time": "2023-09-25T14:23:31.674Z"
   },
   {
    "duration": 5,
    "start_time": "2023-09-25T14:23:31.708Z"
   },
   {
    "duration": 21,
    "start_time": "2023-09-25T14:23:31.715Z"
   },
   {
    "duration": 45,
    "start_time": "2023-09-25T14:23:31.737Z"
   },
   {
    "duration": 22,
    "start_time": "2023-09-25T14:23:31.784Z"
   },
   {
    "duration": 21,
    "start_time": "2023-09-25T14:23:31.808Z"
   },
   {
    "duration": 15,
    "start_time": "2023-09-25T14:23:31.830Z"
   },
   {
    "duration": 17,
    "start_time": "2023-09-25T14:23:31.848Z"
   },
   {
    "duration": 27,
    "start_time": "2023-09-25T14:23:31.867Z"
   },
   {
    "duration": 31,
    "start_time": "2023-09-25T14:23:31.896Z"
   },
   {
    "duration": 26,
    "start_time": "2023-09-25T14:23:31.929Z"
   },
   {
    "duration": 38,
    "start_time": "2023-09-25T14:23:31.957Z"
   },
   {
    "duration": 25,
    "start_time": "2023-09-25T14:23:31.997Z"
   },
   {
    "duration": 12,
    "start_time": "2023-09-25T14:23:32.024Z"
   },
   {
    "duration": 4161,
    "start_time": "2023-09-25T14:23:32.038Z"
   },
   {
    "duration": 9599,
    "start_time": "2023-09-25T14:23:36.201Z"
   },
   {
    "duration": 212,
    "start_time": "2023-09-25T14:23:45.803Z"
   },
   {
    "duration": 1303,
    "start_time": "2023-09-25T14:24:04.017Z"
   },
   {
    "duration": 47,
    "start_time": "2023-09-25T14:24:05.322Z"
   },
   {
    "duration": 62,
    "start_time": "2023-09-25T14:24:05.371Z"
   },
   {
    "duration": 50,
    "start_time": "2023-09-25T14:24:05.436Z"
   },
   {
    "duration": 31,
    "start_time": "2023-09-25T14:24:05.488Z"
   },
   {
    "duration": 52,
    "start_time": "2023-09-25T14:24:05.521Z"
   },
   {
    "duration": 51,
    "start_time": "2023-09-25T14:24:05.575Z"
   },
   {
    "duration": 39,
    "start_time": "2023-09-25T14:24:05.628Z"
   },
   {
    "duration": 30,
    "start_time": "2023-09-25T14:24:05.669Z"
   },
   {
    "duration": 19,
    "start_time": "2023-09-25T14:24:05.701Z"
   },
   {
    "duration": 32,
    "start_time": "2023-09-25T14:24:05.722Z"
   },
   {
    "duration": 30,
    "start_time": "2023-09-25T14:24:05.756Z"
   },
   {
    "duration": 14,
    "start_time": "2023-09-25T14:24:05.789Z"
   },
   {
    "duration": 47,
    "start_time": "2023-09-25T14:24:05.805Z"
   },
   {
    "duration": 35,
    "start_time": "2023-09-25T14:24:05.855Z"
   },
   {
    "duration": 50,
    "start_time": "2023-09-25T14:24:05.893Z"
   },
   {
    "duration": 73,
    "start_time": "2023-09-25T14:24:05.945Z"
   },
   {
    "duration": 56,
    "start_time": "2023-09-25T14:24:06.021Z"
   },
   {
    "duration": 18,
    "start_time": "2023-09-25T14:24:06.080Z"
   },
   {
    "duration": 44,
    "start_time": "2023-09-25T14:24:06.100Z"
   },
   {
    "duration": 218,
    "start_time": "2023-09-25T14:24:06.146Z"
   },
   {
    "duration": 29,
    "start_time": "2023-09-25T14:25:16.167Z"
   },
   {
    "duration": 1278,
    "start_time": "2023-09-25T14:26:19.622Z"
   },
   {
    "duration": 47,
    "start_time": "2023-09-25T14:26:20.903Z"
   },
   {
    "duration": 13,
    "start_time": "2023-09-25T14:26:20.953Z"
   },
   {
    "duration": 48,
    "start_time": "2023-09-25T14:26:20.968Z"
   },
   {
    "duration": 10,
    "start_time": "2023-09-25T14:26:21.020Z"
   },
   {
    "duration": 37,
    "start_time": "2023-09-25T14:26:21.032Z"
   },
   {
    "duration": 39,
    "start_time": "2023-09-25T14:26:21.071Z"
   },
   {
    "duration": 5,
    "start_time": "2023-09-25T14:26:21.112Z"
   },
   {
    "duration": 53,
    "start_time": "2023-09-25T14:26:21.119Z"
   },
   {
    "duration": 26,
    "start_time": "2023-09-25T14:26:21.174Z"
   },
   {
    "duration": 9,
    "start_time": "2023-09-25T14:26:21.202Z"
   },
   {
    "duration": 4,
    "start_time": "2023-09-25T14:26:21.214Z"
   },
   {
    "duration": 26,
    "start_time": "2023-09-25T14:26:21.219Z"
   },
   {
    "duration": 12,
    "start_time": "2023-09-25T14:26:21.247Z"
   },
   {
    "duration": 19,
    "start_time": "2023-09-25T14:26:21.261Z"
   },
   {
    "duration": 24,
    "start_time": "2023-09-25T14:26:21.282Z"
   },
   {
    "duration": 3,
    "start_time": "2023-09-25T14:26:21.308Z"
   },
   {
    "duration": 52,
    "start_time": "2023-09-25T14:26:21.313Z"
   },
   {
    "duration": 25,
    "start_time": "2023-09-25T14:26:21.367Z"
   },
   {
    "duration": 9,
    "start_time": "2023-09-25T14:26:21.394Z"
   },
   {
    "duration": 640,
    "start_time": "2023-09-25T14:26:21.405Z"
   },
   {
    "duration": 45,
    "start_time": "2023-09-25T14:26:22.046Z"
   },
   {
    "duration": 130,
    "start_time": "2023-09-25T14:31:42.906Z"
   },
   {
    "duration": 131,
    "start_time": "2023-09-25T14:32:08.196Z"
   },
   {
    "duration": 13,
    "start_time": "2023-09-25T14:34:02.230Z"
   },
   {
    "duration": 13,
    "start_time": "2023-09-25T14:34:31.141Z"
   },
   {
    "duration": 78,
    "start_time": "2023-09-25T14:36:38.142Z"
   },
   {
    "duration": 1166,
    "start_time": "2023-09-25T17:28:47.327Z"
   },
   {
    "duration": 88,
    "start_time": "2023-09-25T17:28:48.495Z"
   },
   {
    "duration": 11,
    "start_time": "2023-09-25T17:28:48.585Z"
   },
   {
    "duration": 21,
    "start_time": "2023-09-25T17:28:48.598Z"
   },
   {
    "duration": 8,
    "start_time": "2023-09-25T17:28:48.622Z"
   },
   {
    "duration": 21,
    "start_time": "2023-09-25T17:28:48.632Z"
   },
   {
    "duration": 23,
    "start_time": "2023-09-25T17:28:48.655Z"
   },
   {
    "duration": 4,
    "start_time": "2023-09-25T17:28:48.679Z"
   },
   {
    "duration": 25,
    "start_time": "2023-09-25T17:28:48.684Z"
   },
   {
    "duration": 12,
    "start_time": "2023-09-25T17:28:48.711Z"
   },
   {
    "duration": 10,
    "start_time": "2023-09-25T17:28:48.725Z"
   },
   {
    "duration": 20,
    "start_time": "2023-09-25T17:28:48.736Z"
   },
   {
    "duration": 7,
    "start_time": "2023-09-25T17:28:48.757Z"
   },
   {
    "duration": 6,
    "start_time": "2023-09-25T17:28:48.767Z"
   },
   {
    "duration": 13,
    "start_time": "2023-09-25T17:28:48.774Z"
   },
   {
    "duration": 15,
    "start_time": "2023-09-25T17:28:48.789Z"
   },
   {
    "duration": 3,
    "start_time": "2023-09-25T17:28:48.806Z"
   },
   {
    "duration": 36,
    "start_time": "2023-09-25T17:28:48.810Z"
   },
   {
    "duration": 16,
    "start_time": "2023-09-25T17:28:48.847Z"
   },
   {
    "duration": 7,
    "start_time": "2023-09-25T17:28:48.865Z"
   },
   {
    "duration": 1292,
    "start_time": "2023-09-25T17:29:26.190Z"
   },
   {
    "duration": 42,
    "start_time": "2023-09-25T17:29:27.484Z"
   },
   {
    "duration": 9,
    "start_time": "2023-09-25T17:29:27.528Z"
   },
   {
    "duration": 27,
    "start_time": "2023-09-25T17:29:27.538Z"
   },
   {
    "duration": 10,
    "start_time": "2023-09-25T17:29:27.567Z"
   },
   {
    "duration": 30,
    "start_time": "2023-09-25T17:29:27.578Z"
   },
   {
    "duration": 25,
    "start_time": "2023-09-25T17:29:27.610Z"
   },
   {
    "duration": 21,
    "start_time": "2023-09-25T17:29:27.636Z"
   },
   {
    "duration": 20,
    "start_time": "2023-09-25T17:29:27.660Z"
   },
   {
    "duration": 7,
    "start_time": "2023-09-25T17:29:27.682Z"
   },
   {
    "duration": 33,
    "start_time": "2023-09-25T17:29:27.690Z"
   },
   {
    "duration": 25,
    "start_time": "2023-09-25T17:29:27.724Z"
   },
   {
    "duration": 9,
    "start_time": "2023-09-25T17:29:27.751Z"
   },
   {
    "duration": 7,
    "start_time": "2023-09-25T17:29:27.762Z"
   },
   {
    "duration": 28,
    "start_time": "2023-09-25T17:29:27.770Z"
   },
   {
    "duration": 17,
    "start_time": "2023-09-25T17:29:27.800Z"
   },
   {
    "duration": 14,
    "start_time": "2023-09-25T17:29:27.819Z"
   },
   {
    "duration": 1446,
    "start_time": "2023-09-25T17:29:57.462Z"
   },
   {
    "duration": 6,
    "start_time": "2023-09-25T17:31:14.949Z"
   },
   {
    "duration": 5,
    "start_time": "2023-09-25T17:31:35.994Z"
   },
   {
    "duration": 1178,
    "start_time": "2023-09-25T17:31:41.409Z"
   },
   {
    "duration": 42,
    "start_time": "2023-09-25T17:31:42.589Z"
   },
   {
    "duration": 10,
    "start_time": "2023-09-25T17:31:42.633Z"
   },
   {
    "duration": 30,
    "start_time": "2023-09-25T17:31:42.645Z"
   },
   {
    "duration": 8,
    "start_time": "2023-09-25T17:31:42.678Z"
   },
   {
    "duration": 21,
    "start_time": "2023-09-25T17:31:42.687Z"
   },
   {
    "duration": 35,
    "start_time": "2023-09-25T17:31:42.710Z"
   },
   {
    "duration": 8,
    "start_time": "2023-09-25T17:31:42.747Z"
   },
   {
    "duration": 18,
    "start_time": "2023-09-25T17:31:42.756Z"
   },
   {
    "duration": 18,
    "start_time": "2023-09-25T17:31:42.775Z"
   },
   {
    "duration": 21,
    "start_time": "2023-09-25T17:31:42.794Z"
   },
   {
    "duration": 27,
    "start_time": "2023-09-25T17:31:42.817Z"
   },
   {
    "duration": 11,
    "start_time": "2023-09-25T17:31:42.846Z"
   },
   {
    "duration": 14,
    "start_time": "2023-09-25T17:31:42.860Z"
   },
   {
    "duration": 7,
    "start_time": "2023-09-25T17:31:42.876Z"
   },
   {
    "duration": 20,
    "start_time": "2023-09-25T17:31:42.885Z"
   },
   {
    "duration": 34,
    "start_time": "2023-09-25T17:31:42.906Z"
   },
   {
    "duration": 22,
    "start_time": "2023-09-25T17:31:42.942Z"
   },
   {
    "duration": 150,
    "start_time": "2023-09-25T17:32:20.323Z"
   },
   {
    "duration": 5,
    "start_time": "2023-09-25T17:32:30.654Z"
   },
   {
    "duration": 3,
    "start_time": "2023-09-25T17:32:46.167Z"
   },
   {
    "duration": 4,
    "start_time": "2023-09-25T17:33:01.967Z"
   },
   {
    "duration": 4,
    "start_time": "2023-09-25T17:33:02.115Z"
   },
   {
    "duration": 4,
    "start_time": "2023-09-25T17:33:52.436Z"
   },
   {
    "duration": 17,
    "start_time": "2023-09-25T17:34:17.808Z"
   },
   {
    "duration": 19,
    "start_time": "2023-09-25T17:34:31.772Z"
   },
   {
    "duration": 10,
    "start_time": "2023-09-25T17:35:16.383Z"
   },
   {
    "duration": 11,
    "start_time": "2023-09-25T17:35:24.790Z"
   },
   {
    "duration": 7,
    "start_time": "2023-09-25T17:37:14.015Z"
   },
   {
    "duration": 15,
    "start_time": "2023-09-25T17:37:49.783Z"
   },
   {
    "duration": 17,
    "start_time": "2023-09-25T17:38:03.689Z"
   },
   {
    "duration": 5,
    "start_time": "2023-09-25T17:41:39.632Z"
   },
   {
    "duration": 7,
    "start_time": "2023-09-25T17:41:54.647Z"
   },
   {
    "duration": 9,
    "start_time": "2023-09-25T17:42:31.088Z"
   },
   {
    "duration": 12,
    "start_time": "2023-09-25T17:43:08.020Z"
   },
   {
    "duration": 22,
    "start_time": "2023-09-25T17:43:59.672Z"
   },
   {
    "duration": 1195,
    "start_time": "2023-09-25T17:44:18.792Z"
   },
   {
    "duration": 41,
    "start_time": "2023-09-25T17:44:19.990Z"
   },
   {
    "duration": 8,
    "start_time": "2023-09-25T17:44:20.033Z"
   },
   {
    "duration": 54,
    "start_time": "2023-09-25T17:44:20.042Z"
   },
   {
    "duration": 1210,
    "start_time": "2023-09-25T17:44:20.098Z"
   },
   {
    "duration": 8,
    "start_time": "2023-09-25T17:44:21.310Z"
   },
   {
    "duration": 101,
    "start_time": "2023-09-25T17:44:21.320Z"
   },
   {
    "duration": 27,
    "start_time": "2023-09-25T17:44:21.423Z"
   },
   {
    "duration": 4,
    "start_time": "2023-09-25T17:44:21.452Z"
   },
   {
    "duration": 12,
    "start_time": "2023-09-25T17:44:21.460Z"
   },
   {
    "duration": 7,
    "start_time": "2023-09-25T17:44:21.475Z"
   },
   {
    "duration": 5,
    "start_time": "2023-09-25T17:44:21.485Z"
   },
   {
    "duration": 5,
    "start_time": "2023-09-25T17:44:21.491Z"
   },
   {
    "duration": 7,
    "start_time": "2023-09-25T17:44:21.497Z"
   },
   {
    "duration": 58,
    "start_time": "2023-09-25T17:44:21.505Z"
   },
   {
    "duration": 13,
    "start_time": "2023-09-25T17:44:21.565Z"
   },
   {
    "duration": 30,
    "start_time": "2023-09-25T17:44:21.580Z"
   },
   {
    "duration": 14,
    "start_time": "2023-09-25T17:44:21.611Z"
   },
   {
    "duration": 26,
    "start_time": "2023-09-25T17:44:21.627Z"
   },
   {
    "duration": 125,
    "start_time": "2023-09-25T17:44:48.136Z"
   },
   {
    "duration": 696,
    "start_time": "2023-09-25T17:45:56.657Z"
   },
   {
    "duration": 38,
    "start_time": "2023-09-25T17:47:26.207Z"
   },
   {
    "duration": 257,
    "start_time": "2023-09-25T17:47:27.394Z"
   },
   {
    "duration": 12,
    "start_time": "2023-09-25T17:47:38.582Z"
   },
   {
    "duration": 353,
    "start_time": "2023-09-25T17:48:48.392Z"
   },
   {
    "duration": 1127,
    "start_time": "2023-09-25T17:49:20.252Z"
   },
   {
    "duration": 43,
    "start_time": "2023-09-25T17:49:21.381Z"
   },
   {
    "duration": 9,
    "start_time": "2023-09-25T17:49:21.429Z"
   },
   {
    "duration": 24,
    "start_time": "2023-09-25T17:49:21.441Z"
   },
   {
    "duration": 1120,
    "start_time": "2023-09-25T17:49:21.467Z"
   },
   {
    "duration": 7,
    "start_time": "2023-09-25T17:49:22.589Z"
   },
   {
    "duration": 103,
    "start_time": "2023-09-25T17:49:22.598Z"
   },
   {
    "duration": 27,
    "start_time": "2023-09-25T17:49:22.704Z"
   },
   {
    "duration": 5,
    "start_time": "2023-09-25T17:49:22.744Z"
   },
   {
    "duration": 11,
    "start_time": "2023-09-25T17:49:22.751Z"
   },
   {
    "duration": 10,
    "start_time": "2023-09-25T17:49:22.764Z"
   },
   {
    "duration": 5,
    "start_time": "2023-09-25T17:49:22.776Z"
   },
   {
    "duration": 5,
    "start_time": "2023-09-25T17:49:22.785Z"
   },
   {
    "duration": 6,
    "start_time": "2023-09-25T17:49:22.792Z"
   },
   {
    "duration": 59,
    "start_time": "2023-09-25T17:49:22.800Z"
   },
   {
    "duration": 7,
    "start_time": "2023-09-25T17:49:22.862Z"
   },
   {
    "duration": 26,
    "start_time": "2023-09-25T17:49:22.871Z"
   },
   {
    "duration": 8,
    "start_time": "2023-09-25T17:49:22.899Z"
   },
   {
    "duration": 154,
    "start_time": "2023-09-25T17:49:22.908Z"
   },
   {
    "duration": 1549,
    "start_time": "2023-09-25T17:50:49.900Z"
   },
   {
    "duration": 1195,
    "start_time": "2023-09-25T17:51:04.150Z"
   },
   {
    "duration": 1127,
    "start_time": "2023-09-25T17:51:41.736Z"
   },
   {
    "duration": 50,
    "start_time": "2023-09-25T17:51:42.865Z"
   },
   {
    "duration": 34,
    "start_time": "2023-09-25T17:51:42.916Z"
   },
   {
    "duration": 73,
    "start_time": "2023-09-25T17:51:42.951Z"
   },
   {
    "duration": 1309,
    "start_time": "2023-09-25T17:51:43.026Z"
   },
   {
    "duration": 11,
    "start_time": "2023-09-25T17:51:44.337Z"
   },
   {
    "duration": 130,
    "start_time": "2023-09-25T17:51:44.350Z"
   },
   {
    "duration": 27,
    "start_time": "2023-09-25T17:51:44.482Z"
   },
   {
    "duration": 21,
    "start_time": "2023-09-25T17:51:44.511Z"
   },
   {
    "duration": 18,
    "start_time": "2023-09-25T17:51:44.534Z"
   },
   {
    "duration": 8,
    "start_time": "2023-09-25T17:51:44.555Z"
   },
   {
    "duration": 5,
    "start_time": "2023-09-25T17:51:44.565Z"
   },
   {
    "duration": 22,
    "start_time": "2023-09-25T17:51:44.572Z"
   },
   {
    "duration": 23,
    "start_time": "2023-09-25T17:51:44.598Z"
   },
   {
    "duration": 36,
    "start_time": "2023-09-25T17:51:44.624Z"
   },
   {
    "duration": 15,
    "start_time": "2023-09-25T17:51:44.662Z"
   },
   {
    "duration": 37,
    "start_time": "2023-09-25T17:51:44.679Z"
   },
   {
    "duration": 17,
    "start_time": "2023-09-25T17:51:44.719Z"
   },
   {
    "duration": 158,
    "start_time": "2023-09-25T17:51:44.738Z"
   },
   {
    "duration": 323,
    "start_time": "2023-09-25T17:51:59.388Z"
   },
   {
    "duration": 351,
    "start_time": "2023-09-25T17:52:45.945Z"
   },
   {
    "duration": 1093,
    "start_time": "2023-09-25T17:53:35.377Z"
   },
   {
    "duration": 42,
    "start_time": "2023-09-25T17:53:36.472Z"
   },
   {
    "duration": 10,
    "start_time": "2023-09-25T17:53:36.515Z"
   },
   {
    "duration": 37,
    "start_time": "2023-09-25T17:53:36.526Z"
   },
   {
    "duration": 1104,
    "start_time": "2023-09-25T17:53:36.566Z"
   },
   {
    "duration": 8,
    "start_time": "2023-09-25T17:53:37.672Z"
   },
   {
    "duration": 104,
    "start_time": "2023-09-25T17:53:37.682Z"
   },
   {
    "duration": 21,
    "start_time": "2023-09-25T17:53:37.788Z"
   },
   {
    "duration": 4,
    "start_time": "2023-09-25T17:53:37.811Z"
   },
   {
    "duration": 27,
    "start_time": "2023-09-25T17:53:37.817Z"
   },
   {
    "duration": 6,
    "start_time": "2023-09-25T17:53:37.846Z"
   },
   {
    "duration": 17,
    "start_time": "2023-09-25T17:53:37.854Z"
   },
   {
    "duration": 6,
    "start_time": "2023-09-25T17:53:37.873Z"
   },
   {
    "duration": 12,
    "start_time": "2023-09-25T17:53:37.881Z"
   },
   {
    "duration": 19,
    "start_time": "2023-09-25T17:53:37.895Z"
   },
   {
    "duration": 6,
    "start_time": "2023-09-25T17:53:37.915Z"
   },
   {
    "duration": 31,
    "start_time": "2023-09-25T17:53:37.923Z"
   },
   {
    "duration": 7,
    "start_time": "2023-09-25T17:53:37.955Z"
   },
   {
    "duration": 379,
    "start_time": "2023-09-25T17:53:37.964Z"
   },
   {
    "duration": 4,
    "start_time": "2023-09-25T18:01:00.136Z"
   },
   {
    "duration": 4,
    "start_time": "2023-09-25T18:01:00.875Z"
   },
   {
    "duration": 104,
    "start_time": "2023-09-25T18:02:41.070Z"
   },
   {
    "duration": 16,
    "start_time": "2023-09-25T18:02:52.685Z"
   },
   {
    "duration": 4,
    "start_time": "2023-09-25T18:03:14.413Z"
   },
   {
    "duration": 10,
    "start_time": "2023-09-25T18:03:22.047Z"
   },
   {
    "duration": 351,
    "start_time": "2023-09-25T18:03:57.028Z"
   },
   {
    "duration": 11,
    "start_time": "2023-09-25T18:04:22.568Z"
   },
   {
    "duration": 424,
    "start_time": "2023-09-25T18:04:23.442Z"
   },
   {
    "duration": 9,
    "start_time": "2023-09-25T18:04:32.002Z"
   },
   {
    "duration": 425,
    "start_time": "2023-09-25T18:04:32.819Z"
   },
   {
    "duration": 38,
    "start_time": "2023-09-25T18:04:37.425Z"
   },
   {
    "duration": 1211,
    "start_time": "2023-09-25T18:04:39.010Z"
   },
   {
    "duration": 10,
    "start_time": "2023-09-25T18:04:45.190Z"
   },
   {
    "duration": 417,
    "start_time": "2023-09-25T18:04:45.512Z"
   },
   {
    "duration": 59,
    "start_time": "2023-09-27T14:06:55.842Z"
   },
   {
    "duration": 1314,
    "start_time": "2023-09-27T14:07:00.406Z"
   },
   {
    "duration": 87,
    "start_time": "2023-09-27T14:07:01.722Z"
   },
   {
    "duration": 10,
    "start_time": "2023-09-27T14:07:01.811Z"
   },
   {
    "duration": 290,
    "start_time": "2023-09-27T14:07:01.822Z"
   },
   {
    "duration": 129,
    "start_time": "2023-09-27T14:07:02.114Z"
   },
   {
    "duration": 1402,
    "start_time": "2023-09-27T14:07:02.244Z"
   },
   {
    "duration": 7,
    "start_time": "2023-09-27T14:07:03.648Z"
   },
   {
    "duration": 168,
    "start_time": "2023-09-27T14:07:03.657Z"
   },
   {
    "duration": 20,
    "start_time": "2023-09-27T14:07:03.827Z"
   },
   {
    "duration": 109,
    "start_time": "2023-09-27T14:07:03.849Z"
   },
   {
    "duration": 60,
    "start_time": "2023-09-27T14:07:03.961Z"
   },
   {
    "duration": 44,
    "start_time": "2023-09-27T14:07:04.023Z"
   },
   {
    "duration": 66,
    "start_time": "2023-09-27T14:07:04.069Z"
   },
   {
    "duration": 41,
    "start_time": "2023-09-27T14:07:04.137Z"
   },
   {
    "duration": 87,
    "start_time": "2023-09-27T14:07:04.179Z"
   },
   {
    "duration": 87,
    "start_time": "2023-09-27T14:07:04.267Z"
   },
   {
    "duration": 98,
    "start_time": "2023-09-27T14:07:04.355Z"
   },
   {
    "duration": 49,
    "start_time": "2023-09-27T14:07:04.455Z"
   },
   {
    "duration": 31,
    "start_time": "2023-09-27T14:07:04.506Z"
   },
   {
    "duration": 359,
    "start_time": "2023-09-27T14:07:04.539Z"
   },
   {
    "duration": 113,
    "start_time": "2023-09-27T14:07:04.899Z"
   },
   {
    "duration": 0,
    "start_time": "2023-09-27T14:07:05.014Z"
   },
   {
    "duration": 0,
    "start_time": "2023-09-27T14:07:05.015Z"
   },
   {
    "duration": 0,
    "start_time": "2023-09-27T14:07:05.016Z"
   },
   {
    "duration": 16,
    "start_time": "2023-09-27T14:10:20.585Z"
   },
   {
    "duration": 17,
    "start_time": "2023-09-27T14:23:53.055Z"
   },
   {
    "duration": 42,
    "start_time": "2023-09-27T14:25:05.216Z"
   },
   {
    "duration": 33,
    "start_time": "2023-09-27T14:26:33.921Z"
   },
   {
    "duration": 35,
    "start_time": "2023-09-27T14:26:47.136Z"
   },
   {
    "duration": 1095,
    "start_time": "2023-09-27T14:28:16.969Z"
   },
   {
    "duration": 41,
    "start_time": "2023-09-27T14:28:18.066Z"
   },
   {
    "duration": 8,
    "start_time": "2023-09-27T14:28:18.108Z"
   },
   {
    "duration": 18,
    "start_time": "2023-09-27T14:28:18.118Z"
   },
   {
    "duration": 40,
    "start_time": "2023-09-27T14:28:18.138Z"
   },
   {
    "duration": 6,
    "start_time": "2023-09-27T14:28:18.179Z"
   },
   {
    "duration": 24,
    "start_time": "2023-09-27T14:28:18.187Z"
   },
   {
    "duration": 30,
    "start_time": "2023-09-27T14:28:18.213Z"
   },
   {
    "duration": 43,
    "start_time": "2023-09-27T14:28:18.244Z"
   },
   {
    "duration": 36,
    "start_time": "2023-09-27T14:28:18.289Z"
   },
   {
    "duration": 18,
    "start_time": "2023-09-27T14:28:18.327Z"
   },
   {
    "duration": 30,
    "start_time": "2023-09-27T14:28:18.347Z"
   },
   {
    "duration": 13,
    "start_time": "2023-09-27T14:28:18.379Z"
   },
   {
    "duration": 27,
    "start_time": "2023-09-27T14:28:18.395Z"
   },
   {
    "duration": 31,
    "start_time": "2023-09-27T14:28:18.424Z"
   },
   {
    "duration": 23,
    "start_time": "2023-09-27T14:28:18.457Z"
   },
   {
    "duration": 42,
    "start_time": "2023-09-27T14:28:18.482Z"
   },
   {
    "duration": 22,
    "start_time": "2023-09-27T14:28:18.526Z"
   },
   {
    "duration": 401,
    "start_time": "2023-09-27T14:28:18.549Z"
   },
   {
    "duration": 106,
    "start_time": "2023-09-27T14:28:18.952Z"
   },
   {
    "duration": 0,
    "start_time": "2023-09-27T14:28:19.059Z"
   },
   {
    "duration": 0,
    "start_time": "2023-09-27T14:28:19.060Z"
   },
   {
    "duration": 0,
    "start_time": "2023-09-27T14:28:19.061Z"
   },
   {
    "duration": 0,
    "start_time": "2023-09-27T14:28:19.063Z"
   },
   {
    "duration": 41,
    "start_time": "2023-09-27T14:28:28.792Z"
   },
   {
    "duration": 34,
    "start_time": "2023-09-27T14:28:54.437Z"
   },
   {
    "duration": 32,
    "start_time": "2023-09-27T14:29:33.333Z"
   },
   {
    "duration": 43,
    "start_time": "2023-09-27T14:29:35.951Z"
   },
   {
    "duration": 25,
    "start_time": "2023-09-27T14:29:43.606Z"
   },
   {
    "duration": 22,
    "start_time": "2023-09-27T14:29:47.063Z"
   },
   {
    "duration": 156,
    "start_time": "2023-09-27T14:29:50.475Z"
   },
   {
    "duration": 22,
    "start_time": "2023-09-27T14:29:53.453Z"
   },
   {
    "duration": 27,
    "start_time": "2023-09-27T14:29:59.196Z"
   },
   {
    "duration": 29,
    "start_time": "2023-09-27T14:30:01.154Z"
   },
   {
    "duration": 36,
    "start_time": "2023-09-27T14:30:03.162Z"
   },
   {
    "duration": 30,
    "start_time": "2023-09-27T14:30:05.492Z"
   },
   {
    "duration": 29,
    "start_time": "2023-09-27T14:30:07.501Z"
   },
   {
    "duration": 27,
    "start_time": "2023-09-27T14:30:10.162Z"
   },
   {
    "duration": 1124,
    "start_time": "2023-09-27T14:37:21.509Z"
   },
   {
    "duration": 40,
    "start_time": "2023-09-27T14:37:22.635Z"
   },
   {
    "duration": 8,
    "start_time": "2023-09-27T14:37:22.676Z"
   },
   {
    "duration": 38,
    "start_time": "2023-09-27T14:37:22.686Z"
   },
   {
    "duration": 80,
    "start_time": "2023-09-27T14:37:22.726Z"
   },
   {
    "duration": 6,
    "start_time": "2023-09-27T14:37:22.808Z"
   },
   {
    "duration": 32,
    "start_time": "2023-09-27T14:37:22.816Z"
   },
   {
    "duration": 30,
    "start_time": "2023-09-27T14:37:22.851Z"
   },
   {
    "duration": 52,
    "start_time": "2023-09-27T14:37:22.883Z"
   },
   {
    "duration": 78,
    "start_time": "2023-09-27T14:37:22.937Z"
   },
   {
    "duration": 73,
    "start_time": "2023-09-27T14:37:23.017Z"
   },
   {
    "duration": 58,
    "start_time": "2023-09-27T14:37:23.092Z"
   },
   {
    "duration": 129,
    "start_time": "2023-09-27T14:37:23.152Z"
   },
   {
    "duration": 81,
    "start_time": "2023-09-27T14:37:23.283Z"
   },
   {
    "duration": 170,
    "start_time": "2023-09-27T14:37:23.366Z"
   },
   {
    "duration": 43,
    "start_time": "2023-09-27T14:37:23.537Z"
   },
   {
    "duration": 66,
    "start_time": "2023-09-27T14:37:23.581Z"
   },
   {
    "duration": 89,
    "start_time": "2023-09-27T14:37:23.649Z"
   },
   {
    "duration": 373,
    "start_time": "2023-09-27T14:37:23.740Z"
   },
   {
    "duration": 97,
    "start_time": "2023-09-27T14:37:24.115Z"
   },
   {
    "duration": 0,
    "start_time": "2023-09-27T14:37:24.213Z"
   },
   {
    "duration": 0,
    "start_time": "2023-09-27T14:37:24.224Z"
   },
   {
    "duration": 0,
    "start_time": "2023-09-27T14:37:24.225Z"
   },
   {
    "duration": 0,
    "start_time": "2023-09-27T14:37:24.226Z"
   },
   {
    "duration": 40,
    "start_time": "2023-09-27T14:37:48.674Z"
   },
   {
    "duration": 33,
    "start_time": "2023-09-27T14:38:16.488Z"
   },
   {
    "duration": 38,
    "start_time": "2023-09-27T14:38:19.728Z"
   },
   {
    "duration": 42,
    "start_time": "2023-09-27T14:38:22.101Z"
   },
   {
    "duration": 44,
    "start_time": "2023-09-27T14:38:25.641Z"
   },
   {
    "duration": 46,
    "start_time": "2023-09-27T14:39:39.788Z"
   },
   {
    "duration": 51,
    "start_time": "2023-09-27T14:40:15.454Z"
   },
   {
    "duration": 45,
    "start_time": "2023-09-27T14:40:22.307Z"
   },
   {
    "duration": 330,
    "start_time": "2023-09-27T14:43:47.536Z"
   },
   {
    "duration": 1092,
    "start_time": "2023-09-27T14:43:56.062Z"
   },
   {
    "duration": 41,
    "start_time": "2023-09-27T14:43:57.156Z"
   },
   {
    "duration": 10,
    "start_time": "2023-09-27T14:43:57.199Z"
   },
   {
    "duration": 27,
    "start_time": "2023-09-27T14:43:57.211Z"
   },
   {
    "duration": 51,
    "start_time": "2023-09-27T14:43:57.240Z"
   },
   {
    "duration": 6,
    "start_time": "2023-09-27T14:43:57.293Z"
   },
   {
    "duration": 47,
    "start_time": "2023-09-27T14:43:57.301Z"
   },
   {
    "duration": 50,
    "start_time": "2023-09-27T14:43:57.350Z"
   },
   {
    "duration": 25,
    "start_time": "2023-09-27T14:43:57.402Z"
   },
   {
    "duration": 50,
    "start_time": "2023-09-27T14:43:57.429Z"
   },
   {
    "duration": 90,
    "start_time": "2023-09-27T14:43:57.481Z"
   },
   {
    "duration": 21,
    "start_time": "2023-09-27T14:43:57.573Z"
   },
   {
    "duration": 25,
    "start_time": "2023-09-27T14:43:57.595Z"
   },
   {
    "duration": 16,
    "start_time": "2023-09-27T14:43:57.623Z"
   },
   {
    "duration": 45,
    "start_time": "2023-09-27T14:43:57.640Z"
   },
   {
    "duration": 15,
    "start_time": "2023-09-27T14:43:57.686Z"
   },
   {
    "duration": 54,
    "start_time": "2023-09-27T14:43:57.703Z"
   },
   {
    "duration": 361,
    "start_time": "2023-09-27T14:43:57.759Z"
   },
   {
    "duration": 102,
    "start_time": "2023-09-27T14:43:58.122Z"
   },
   {
    "duration": 0,
    "start_time": "2023-09-27T14:43:58.226Z"
   },
   {
    "duration": 0,
    "start_time": "2023-09-27T14:43:58.227Z"
   },
   {
    "duration": 0,
    "start_time": "2023-09-27T14:43:58.228Z"
   },
   {
    "duration": 0,
    "start_time": "2023-09-27T14:43:58.229Z"
   },
   {
    "duration": 35,
    "start_time": "2023-09-27T14:46:51.396Z"
   },
   {
    "duration": 1089,
    "start_time": "2023-09-27T14:49:08.782Z"
   },
   {
    "duration": 41,
    "start_time": "2023-09-27T14:49:09.873Z"
   },
   {
    "duration": 8,
    "start_time": "2023-09-27T14:49:09.916Z"
   },
   {
    "duration": 39,
    "start_time": "2023-09-27T14:49:09.925Z"
   },
   {
    "duration": 43,
    "start_time": "2023-09-27T14:49:09.967Z"
   },
   {
    "duration": 5,
    "start_time": "2023-09-27T14:49:10.012Z"
   },
   {
    "duration": 33,
    "start_time": "2023-09-27T14:49:10.019Z"
   },
   {
    "duration": 25,
    "start_time": "2023-09-27T14:49:10.053Z"
   },
   {
    "duration": 5,
    "start_time": "2023-09-27T14:49:10.079Z"
   },
   {
    "duration": 31,
    "start_time": "2023-09-27T14:49:10.086Z"
   },
   {
    "duration": 21,
    "start_time": "2023-09-27T14:49:10.119Z"
   },
   {
    "duration": 9,
    "start_time": "2023-09-27T14:49:10.141Z"
   },
   {
    "duration": 17,
    "start_time": "2023-09-27T14:49:10.152Z"
   },
   {
    "duration": 12,
    "start_time": "2023-09-27T14:49:10.172Z"
   },
   {
    "duration": 19,
    "start_time": "2023-09-27T14:49:10.185Z"
   },
   {
    "duration": 6,
    "start_time": "2023-09-27T14:49:10.205Z"
   },
   {
    "duration": 19,
    "start_time": "2023-09-27T14:49:10.213Z"
   },
   {
    "duration": 369,
    "start_time": "2023-09-27T14:49:10.234Z"
   },
   {
    "duration": 112,
    "start_time": "2023-09-27T14:49:10.605Z"
   },
   {
    "duration": 0,
    "start_time": "2023-09-27T14:49:10.719Z"
   },
   {
    "duration": 0,
    "start_time": "2023-09-27T14:49:10.724Z"
   },
   {
    "duration": 0,
    "start_time": "2023-09-27T14:49:10.726Z"
   },
   {
    "duration": 0,
    "start_time": "2023-09-27T14:49:10.727Z"
   },
   {
    "duration": 34,
    "start_time": "2023-09-27T14:49:13.405Z"
   },
   {
    "duration": 1073,
    "start_time": "2023-09-27T14:52:36.852Z"
   },
   {
    "duration": 41,
    "start_time": "2023-09-27T14:52:37.927Z"
   },
   {
    "duration": 48,
    "start_time": "2023-09-27T14:52:37.969Z"
   },
   {
    "duration": 47,
    "start_time": "2023-09-27T14:52:38.018Z"
   },
   {
    "duration": 60,
    "start_time": "2023-09-27T14:52:38.067Z"
   },
   {
    "duration": 6,
    "start_time": "2023-09-27T14:52:38.129Z"
   },
   {
    "duration": 19,
    "start_time": "2023-09-27T14:52:38.137Z"
   },
   {
    "duration": 34,
    "start_time": "2023-09-27T14:52:38.158Z"
   },
   {
    "duration": 44,
    "start_time": "2023-09-27T14:52:38.194Z"
   },
   {
    "duration": 90,
    "start_time": "2023-09-27T14:52:38.239Z"
   },
   {
    "duration": 18,
    "start_time": "2023-09-27T14:52:38.330Z"
   },
   {
    "duration": 16,
    "start_time": "2023-09-27T14:52:38.350Z"
   },
   {
    "duration": 14,
    "start_time": "2023-09-27T14:52:38.367Z"
   },
   {
    "duration": 23,
    "start_time": "2023-09-27T14:52:38.384Z"
   },
   {
    "duration": 23,
    "start_time": "2023-09-27T14:52:38.409Z"
   },
   {
    "duration": 20,
    "start_time": "2023-09-27T14:52:38.433Z"
   },
   {
    "duration": 30,
    "start_time": "2023-09-27T14:52:38.455Z"
   },
   {
    "duration": 374,
    "start_time": "2023-09-27T14:52:38.487Z"
   },
   {
    "duration": 115,
    "start_time": "2023-09-27T14:52:38.863Z"
   },
   {
    "duration": 0,
    "start_time": "2023-09-27T14:52:38.979Z"
   },
   {
    "duration": 0,
    "start_time": "2023-09-27T14:52:38.981Z"
   },
   {
    "duration": 0,
    "start_time": "2023-09-27T14:52:38.982Z"
   },
   {
    "duration": 1175,
    "start_time": "2023-09-27T14:53:00.447Z"
   },
   {
    "duration": 43,
    "start_time": "2023-09-27T14:53:01.624Z"
   },
   {
    "duration": 19,
    "start_time": "2023-09-27T14:53:01.669Z"
   },
   {
    "duration": 54,
    "start_time": "2023-09-27T14:53:01.690Z"
   },
   {
    "duration": 84,
    "start_time": "2023-09-27T14:53:01.747Z"
   },
   {
    "duration": 20,
    "start_time": "2023-09-27T14:53:01.833Z"
   },
   {
    "duration": 119,
    "start_time": "2023-09-27T14:53:01.855Z"
   },
   {
    "duration": 32,
    "start_time": "2023-09-27T14:53:01.976Z"
   },
   {
    "duration": 8,
    "start_time": "2023-09-27T14:53:02.010Z"
   },
   {
    "duration": 39,
    "start_time": "2023-09-27T14:53:02.019Z"
   },
   {
    "duration": 46,
    "start_time": "2023-09-27T14:53:02.059Z"
   },
   {
    "duration": 24,
    "start_time": "2023-09-27T14:53:02.107Z"
   },
   {
    "duration": 28,
    "start_time": "2023-09-27T14:53:02.132Z"
   },
   {
    "duration": 15,
    "start_time": "2023-09-27T14:53:02.162Z"
   },
   {
    "duration": 53,
    "start_time": "2023-09-27T14:53:02.179Z"
   },
   {
    "duration": 34,
    "start_time": "2023-09-27T14:53:02.234Z"
   },
   {
    "duration": 49,
    "start_time": "2023-09-27T14:53:02.270Z"
   },
   {
    "duration": 376,
    "start_time": "2023-09-27T14:53:02.321Z"
   },
   {
    "duration": 109,
    "start_time": "2023-09-27T14:53:02.699Z"
   },
   {
    "duration": 0,
    "start_time": "2023-09-27T14:53:02.810Z"
   },
   {
    "duration": 0,
    "start_time": "2023-09-27T14:53:02.811Z"
   },
   {
    "duration": 0,
    "start_time": "2023-09-27T14:53:02.812Z"
   },
   {
    "duration": 33,
    "start_time": "2023-09-27T14:53:35.421Z"
   },
   {
    "duration": 32,
    "start_time": "2023-09-27T14:54:12.471Z"
   },
   {
    "duration": 34,
    "start_time": "2023-09-27T14:54:18.893Z"
   },
   {
    "duration": 1126,
    "start_time": "2023-09-27T14:57:12.829Z"
   },
   {
    "duration": 44,
    "start_time": "2023-09-27T14:57:13.958Z"
   },
   {
    "duration": 92,
    "start_time": "2023-09-27T14:57:14.004Z"
   },
   {
    "duration": 67,
    "start_time": "2023-09-27T14:57:14.098Z"
   },
   {
    "duration": 97,
    "start_time": "2023-09-27T14:57:14.167Z"
   },
   {
    "duration": 7,
    "start_time": "2023-09-27T14:57:14.266Z"
   },
   {
    "duration": 50,
    "start_time": "2023-09-27T14:57:14.274Z"
   },
   {
    "duration": 49,
    "start_time": "2023-09-27T14:57:14.327Z"
   },
   {
    "duration": 41,
    "start_time": "2023-09-27T14:57:14.378Z"
   },
   {
    "duration": 54,
    "start_time": "2023-09-27T14:57:14.421Z"
   },
   {
    "duration": 30,
    "start_time": "2023-09-27T14:57:14.477Z"
   },
   {
    "duration": 29,
    "start_time": "2023-09-27T14:57:14.509Z"
   },
   {
    "duration": 52,
    "start_time": "2023-09-27T14:57:14.540Z"
   },
   {
    "duration": 33,
    "start_time": "2023-09-27T14:57:14.595Z"
   },
   {
    "duration": 66,
    "start_time": "2023-09-27T14:57:14.630Z"
   },
   {
    "duration": 42,
    "start_time": "2023-09-27T14:57:14.698Z"
   },
   {
    "duration": 43,
    "start_time": "2023-09-27T14:57:14.742Z"
   },
   {
    "duration": 41,
    "start_time": "2023-09-27T14:57:14.786Z"
   },
   {
    "duration": 15,
    "start_time": "2023-09-27T14:57:14.829Z"
   },
   {
    "duration": 10,
    "start_time": "2023-09-27T14:57:57.633Z"
   },
   {
    "duration": 120,
    "start_time": "2023-09-27T14:59:21.151Z"
   },
   {
    "duration": 813,
    "start_time": "2023-09-27T14:59:35.218Z"
   },
   {
    "duration": 982,
    "start_time": "2023-09-27T14:59:54.849Z"
   },
   {
    "duration": 318,
    "start_time": "2023-09-27T15:02:51.835Z"
   },
   {
    "duration": 204,
    "start_time": "2023-09-27T15:04:03.557Z"
   },
   {
    "duration": 249,
    "start_time": "2023-09-27T15:04:11.594Z"
   },
   {
    "duration": 233,
    "start_time": "2023-09-27T15:11:11.908Z"
   },
   {
    "duration": 1159,
    "start_time": "2023-09-27T15:16:07.229Z"
   },
   {
    "duration": 43,
    "start_time": "2023-09-27T15:16:08.390Z"
   },
   {
    "duration": 9,
    "start_time": "2023-09-27T15:16:08.434Z"
   },
   {
    "duration": 33,
    "start_time": "2023-09-27T15:16:08.444Z"
   },
   {
    "duration": 39,
    "start_time": "2023-09-27T15:16:08.479Z"
   },
   {
    "duration": 7,
    "start_time": "2023-09-27T15:16:08.520Z"
   },
   {
    "duration": 33,
    "start_time": "2023-09-27T15:16:08.528Z"
   },
   {
    "duration": 38,
    "start_time": "2023-09-27T15:16:08.562Z"
   },
   {
    "duration": 5,
    "start_time": "2023-09-27T15:16:08.601Z"
   },
   {
    "duration": 10,
    "start_time": "2023-09-27T15:16:08.607Z"
   },
   {
    "duration": 16,
    "start_time": "2023-09-27T15:16:08.618Z"
   },
   {
    "duration": 25,
    "start_time": "2023-09-27T15:16:08.636Z"
   },
   {
    "duration": 24,
    "start_time": "2023-09-27T15:16:08.664Z"
   },
   {
    "duration": 26,
    "start_time": "2023-09-27T15:16:08.692Z"
   },
   {
    "duration": 34,
    "start_time": "2023-09-27T15:16:08.720Z"
   },
   {
    "duration": 24,
    "start_time": "2023-09-27T15:16:08.756Z"
   },
   {
    "duration": 63,
    "start_time": "2023-09-27T15:16:08.782Z"
   },
   {
    "duration": 63,
    "start_time": "2023-09-27T15:16:08.848Z"
   },
   {
    "duration": 38,
    "start_time": "2023-09-27T15:16:08.913Z"
   },
   {
    "duration": 143,
    "start_time": "2023-09-27T15:16:08.953Z"
   },
   {
    "duration": 237,
    "start_time": "2023-09-27T15:16:09.098Z"
   },
   {
    "duration": 202,
    "start_time": "2023-09-27T15:18:15.103Z"
   },
   {
    "duration": 3533,
    "start_time": "2023-09-27T15:19:29.952Z"
   },
   {
    "duration": 4895,
    "start_time": "2023-09-27T15:19:40.043Z"
   },
   {
    "duration": 1116,
    "start_time": "2023-09-27T15:19:52.909Z"
   },
   {
    "duration": 41,
    "start_time": "2023-09-27T15:19:54.027Z"
   },
   {
    "duration": 64,
    "start_time": "2023-09-27T15:19:54.069Z"
   },
   {
    "duration": 135,
    "start_time": "2023-09-27T15:19:54.135Z"
   },
   {
    "duration": 52,
    "start_time": "2023-09-27T15:19:54.272Z"
   },
   {
    "duration": 32,
    "start_time": "2023-09-27T15:19:54.325Z"
   },
   {
    "duration": 41,
    "start_time": "2023-09-27T15:19:54.358Z"
   },
   {
    "duration": 104,
    "start_time": "2023-09-27T15:19:54.401Z"
   },
   {
    "duration": 29,
    "start_time": "2023-09-27T15:19:54.506Z"
   },
   {
    "duration": 69,
    "start_time": "2023-09-27T15:19:54.537Z"
   },
   {
    "duration": 78,
    "start_time": "2023-09-27T15:19:54.608Z"
   },
   {
    "duration": 34,
    "start_time": "2023-09-27T15:19:54.688Z"
   },
   {
    "duration": 49,
    "start_time": "2023-09-27T15:19:54.724Z"
   },
   {
    "duration": 40,
    "start_time": "2023-09-27T15:19:54.775Z"
   },
   {
    "duration": 66,
    "start_time": "2023-09-27T15:19:54.816Z"
   },
   {
    "duration": 49,
    "start_time": "2023-09-27T15:19:54.884Z"
   },
   {
    "duration": 27,
    "start_time": "2023-09-27T15:19:54.935Z"
   },
   {
    "duration": 25,
    "start_time": "2023-09-27T15:19:54.964Z"
   },
   {
    "duration": 35,
    "start_time": "2023-09-27T15:19:54.990Z"
   },
   {
    "duration": 4780,
    "start_time": "2023-09-27T15:19:55.026Z"
   },
   {
    "duration": 595,
    "start_time": "2023-09-27T15:21:05.810Z"
   },
   {
    "duration": 420,
    "start_time": "2023-09-27T15:21:21.421Z"
   },
   {
    "duration": 29899,
    "start_time": "2023-09-27T15:22:26.753Z"
   },
   {
    "duration": 1181,
    "start_time": "2023-09-27T15:24:55.830Z"
   },
   {
    "duration": 41,
    "start_time": "2023-09-27T15:24:57.013Z"
   },
   {
    "duration": 8,
    "start_time": "2023-09-27T15:24:57.056Z"
   },
   {
    "duration": 40,
    "start_time": "2023-09-27T15:24:57.065Z"
   },
   {
    "duration": 58,
    "start_time": "2023-09-27T15:24:57.107Z"
   },
   {
    "duration": 7,
    "start_time": "2023-09-27T15:24:57.166Z"
   },
   {
    "duration": 48,
    "start_time": "2023-09-27T15:24:57.174Z"
   },
   {
    "duration": 22,
    "start_time": "2023-09-27T15:24:57.224Z"
   },
   {
    "duration": 11,
    "start_time": "2023-09-27T15:24:57.249Z"
   },
   {
    "duration": 57,
    "start_time": "2023-09-27T15:24:57.262Z"
   },
   {
    "duration": 53,
    "start_time": "2023-09-27T15:24:57.320Z"
   },
   {
    "duration": 26,
    "start_time": "2023-09-27T15:24:57.375Z"
   },
   {
    "duration": 28,
    "start_time": "2023-09-27T15:24:57.402Z"
   },
   {
    "duration": 17,
    "start_time": "2023-09-27T15:24:57.433Z"
   },
   {
    "duration": 58,
    "start_time": "2023-09-27T15:24:57.452Z"
   },
   {
    "duration": 31,
    "start_time": "2023-09-27T15:24:57.512Z"
   },
   {
    "duration": 116,
    "start_time": "2023-09-27T15:24:57.545Z"
   },
   {
    "duration": 34,
    "start_time": "2023-09-27T15:24:57.662Z"
   },
   {
    "duration": 33,
    "start_time": "2023-09-27T15:24:57.698Z"
   },
   {
    "duration": 250,
    "start_time": "2023-09-27T15:24:57.733Z"
   },
   {
    "duration": 222,
    "start_time": "2023-09-27T15:25:14.763Z"
   },
   {
    "duration": 117,
    "start_time": "2023-09-27T15:26:24.557Z"
   },
   {
    "duration": 28,
    "start_time": "2023-09-27T15:26:33.447Z"
   },
   {
    "duration": 17,
    "start_time": "2023-09-27T15:27:21.702Z"
   },
   {
    "duration": 25696,
    "start_time": "2023-09-27T15:27:24.562Z"
   },
   {
    "duration": 179,
    "start_time": "2023-09-27T15:28:25.460Z"
   },
   {
    "duration": 1136,
    "start_time": "2023-09-27T15:28:35.271Z"
   },
   {
    "duration": 43,
    "start_time": "2023-09-27T15:28:36.410Z"
   },
   {
    "duration": 8,
    "start_time": "2023-09-27T15:28:36.455Z"
   },
   {
    "duration": 21,
    "start_time": "2023-09-27T15:28:36.465Z"
   },
   {
    "duration": 43,
    "start_time": "2023-09-27T15:28:36.487Z"
   },
   {
    "duration": 6,
    "start_time": "2023-09-27T15:28:36.531Z"
   },
   {
    "duration": 21,
    "start_time": "2023-09-27T15:28:36.539Z"
   },
   {
    "duration": 21,
    "start_time": "2023-09-27T15:28:36.561Z"
   },
   {
    "duration": 4,
    "start_time": "2023-09-27T15:28:36.583Z"
   },
   {
    "duration": 14,
    "start_time": "2023-09-27T15:28:36.588Z"
   },
   {
    "duration": 21,
    "start_time": "2023-09-27T15:28:36.603Z"
   },
   {
    "duration": 3,
    "start_time": "2023-09-27T15:28:36.626Z"
   },
   {
    "duration": 10,
    "start_time": "2023-09-27T15:28:36.631Z"
   },
   {
    "duration": 6,
    "start_time": "2023-09-27T15:28:36.643Z"
   },
   {
    "duration": 23,
    "start_time": "2023-09-27T15:28:36.651Z"
   },
   {
    "duration": 8,
    "start_time": "2023-09-27T15:28:36.680Z"
   },
   {
    "duration": 44,
    "start_time": "2023-09-27T15:28:36.690Z"
   },
   {
    "duration": 12,
    "start_time": "2023-09-27T15:28:36.735Z"
   },
   {
    "duration": 35,
    "start_time": "2023-09-27T15:28:36.749Z"
   },
   {
    "duration": 198,
    "start_time": "2023-09-27T15:28:36.788Z"
   },
   {
    "duration": 36,
    "start_time": "2023-09-27T15:28:36.988Z"
   },
   {
    "duration": 0,
    "start_time": "2023-09-27T15:29:26.601Z"
   },
   {
    "duration": 181,
    "start_time": "2023-09-27T15:29:29.726Z"
   },
   {
    "duration": 21814,
    "start_time": "2023-09-27T15:29:31.855Z"
   },
   {
    "duration": 26229,
    "start_time": "2023-09-27T15:30:35.227Z"
   },
   {
    "duration": 240,
    "start_time": "2023-09-27T15:31:25.944Z"
   },
   {
    "duration": 29,
    "start_time": "2023-09-27T15:31:31.866Z"
   },
   {
    "duration": 1526,
    "start_time": "2023-09-27T15:33:08.251Z"
   },
   {
    "duration": 3951,
    "start_time": "2023-09-27T15:33:52.681Z"
   },
   {
    "duration": 3902,
    "start_time": "2023-09-27T15:34:01.555Z"
   },
   {
    "duration": 1578,
    "start_time": "2023-09-27T15:34:42.373Z"
   },
   {
    "duration": 3775,
    "start_time": "2023-09-27T15:34:56.091Z"
   },
   {
    "duration": 228,
    "start_time": "2023-09-27T15:35:25.578Z"
   },
   {
    "duration": 11,
    "start_time": "2023-09-27T15:38:23.809Z"
   },
   {
    "duration": 210,
    "start_time": "2023-09-27T15:39:23.789Z"
   },
   {
    "duration": 1218,
    "start_time": "2023-09-27T15:39:46.699Z"
   },
   {
    "duration": 41,
    "start_time": "2023-09-27T15:39:47.919Z"
   },
   {
    "duration": 14,
    "start_time": "2023-09-27T15:39:47.962Z"
   },
   {
    "duration": 60,
    "start_time": "2023-09-27T15:39:47.978Z"
   },
   {
    "duration": 107,
    "start_time": "2023-09-27T15:39:48.040Z"
   },
   {
    "duration": 11,
    "start_time": "2023-09-27T15:39:48.149Z"
   },
   {
    "duration": 77,
    "start_time": "2023-09-27T15:39:48.162Z"
   },
   {
    "duration": 83,
    "start_time": "2023-09-27T15:39:48.241Z"
   },
   {
    "duration": 33,
    "start_time": "2023-09-27T15:39:48.327Z"
   },
   {
    "duration": 40,
    "start_time": "2023-09-27T15:39:48.363Z"
   },
   {
    "duration": 40,
    "start_time": "2023-09-27T15:39:48.405Z"
   },
   {
    "duration": 48,
    "start_time": "2023-09-27T15:39:48.448Z"
   },
   {
    "duration": 35,
    "start_time": "2023-09-27T15:39:48.498Z"
   },
   {
    "duration": 42,
    "start_time": "2023-09-27T15:39:48.535Z"
   },
   {
    "duration": 90,
    "start_time": "2023-09-27T15:39:48.579Z"
   },
   {
    "duration": 51,
    "start_time": "2023-09-27T15:39:48.671Z"
   },
   {
    "duration": 81,
    "start_time": "2023-09-27T15:39:48.725Z"
   },
   {
    "duration": 43,
    "start_time": "2023-09-27T15:39:48.807Z"
   },
   {
    "duration": 46,
    "start_time": "2023-09-27T15:39:48.852Z"
   },
   {
    "duration": 258,
    "start_time": "2023-09-27T15:39:48.901Z"
   },
   {
    "duration": 2,
    "start_time": "2023-09-27T15:39:49.161Z"
   },
   {
    "duration": 30,
    "start_time": "2023-09-27T15:39:49.164Z"
   },
   {
    "duration": 31,
    "start_time": "2023-09-27T15:39:49.195Z"
   },
   {
    "duration": 204,
    "start_time": "2023-09-27T15:40:26.357Z"
   },
   {
    "duration": 1390,
    "start_time": "2023-09-27T15:40:59.608Z"
   },
   {
    "duration": 45,
    "start_time": "2023-09-27T15:41:01.000Z"
   },
   {
    "duration": 255,
    "start_time": "2023-09-27T15:41:01.046Z"
   },
   {
    "duration": 198,
    "start_time": "2023-09-27T15:41:01.303Z"
   },
   {
    "duration": 138,
    "start_time": "2023-09-27T15:41:01.504Z"
   },
   {
    "duration": 227,
    "start_time": "2023-09-27T15:41:01.644Z"
   },
   {
    "duration": 76,
    "start_time": "2023-09-27T15:41:01.873Z"
   },
   {
    "duration": 94,
    "start_time": "2023-09-27T15:41:01.952Z"
   },
   {
    "duration": 52,
    "start_time": "2023-09-27T15:41:02.048Z"
   },
   {
    "duration": 110,
    "start_time": "2023-09-27T15:41:02.103Z"
   },
   {
    "duration": 128,
    "start_time": "2023-09-27T15:41:02.215Z"
   },
   {
    "duration": 68,
    "start_time": "2023-09-27T15:41:02.345Z"
   },
   {
    "duration": 50,
    "start_time": "2023-09-27T15:41:02.415Z"
   },
   {
    "duration": 176,
    "start_time": "2023-09-27T15:41:02.468Z"
   },
   {
    "duration": 182,
    "start_time": "2023-09-27T15:41:02.646Z"
   },
   {
    "duration": 77,
    "start_time": "2023-09-27T15:41:02.830Z"
   },
   {
    "duration": 264,
    "start_time": "2023-09-27T15:41:02.909Z"
   },
   {
    "duration": 321,
    "start_time": "2023-09-27T15:41:03.176Z"
   },
   {
    "duration": 377,
    "start_time": "2023-09-27T15:41:03.499Z"
   },
   {
    "duration": 381,
    "start_time": "2023-09-27T15:41:03.878Z"
   },
   {
    "duration": 2,
    "start_time": "2023-09-27T15:41:04.261Z"
   },
   {
    "duration": 146,
    "start_time": "2023-09-27T15:41:04.265Z"
   },
   {
    "duration": 236,
    "start_time": "2023-09-27T15:41:04.413Z"
   },
   {
    "duration": 234,
    "start_time": "2023-09-27T15:41:36.651Z"
   },
   {
    "duration": 1207,
    "start_time": "2023-09-27T15:42:04.532Z"
   },
   {
    "duration": 48,
    "start_time": "2023-09-27T15:42:05.742Z"
   },
   {
    "duration": 10,
    "start_time": "2023-09-27T15:42:05.793Z"
   },
   {
    "duration": 20,
    "start_time": "2023-09-27T15:42:05.806Z"
   },
   {
    "duration": 57,
    "start_time": "2023-09-27T15:42:05.829Z"
   },
   {
    "duration": 8,
    "start_time": "2023-09-27T15:42:05.889Z"
   },
   {
    "duration": 38,
    "start_time": "2023-09-27T15:42:05.899Z"
   },
   {
    "duration": 33,
    "start_time": "2023-09-27T15:42:05.941Z"
   },
   {
    "duration": 9,
    "start_time": "2023-09-27T15:42:05.976Z"
   },
   {
    "duration": 17,
    "start_time": "2023-09-27T15:42:05.987Z"
   },
   {
    "duration": 19,
    "start_time": "2023-09-27T15:42:06.007Z"
   },
   {
    "duration": 14,
    "start_time": "2023-09-27T15:42:06.028Z"
   },
   {
    "duration": 26,
    "start_time": "2023-09-27T15:42:06.044Z"
   },
   {
    "duration": 15,
    "start_time": "2023-09-27T15:42:06.074Z"
   },
   {
    "duration": 66,
    "start_time": "2023-09-27T15:42:06.091Z"
   },
   {
    "duration": 15,
    "start_time": "2023-09-27T15:42:06.158Z"
   },
   {
    "duration": 36,
    "start_time": "2023-09-27T15:42:06.175Z"
   },
   {
    "duration": 20,
    "start_time": "2023-09-27T15:42:06.212Z"
   },
   {
    "duration": 14,
    "start_time": "2023-09-27T15:42:06.236Z"
   },
   {
    "duration": 8,
    "start_time": "2023-09-27T15:42:06.252Z"
   },
   {
    "duration": 13,
    "start_time": "2023-09-27T15:42:06.262Z"
   },
   {
    "duration": 9,
    "start_time": "2023-09-27T15:42:06.277Z"
   },
   {
    "duration": 38,
    "start_time": "2023-09-27T15:42:27.782Z"
   },
   {
    "duration": 34,
    "start_time": "2023-09-27T15:42:52.747Z"
   },
   {
    "duration": 36,
    "start_time": "2023-09-27T15:42:54.995Z"
   },
   {
    "duration": 45,
    "start_time": "2023-09-27T15:43:00.264Z"
   },
   {
    "duration": 47,
    "start_time": "2023-09-27T15:43:04.768Z"
   },
   {
    "duration": 1165,
    "start_time": "2023-09-27T15:43:09.548Z"
   },
   {
    "duration": 42,
    "start_time": "2023-09-27T15:43:10.715Z"
   },
   {
    "duration": 8,
    "start_time": "2023-09-27T15:43:10.759Z"
   },
   {
    "duration": 40,
    "start_time": "2023-09-27T15:43:10.769Z"
   },
   {
    "duration": 40,
    "start_time": "2023-09-27T15:43:10.810Z"
   },
   {
    "duration": 6,
    "start_time": "2023-09-27T15:43:10.852Z"
   },
   {
    "duration": 32,
    "start_time": "2023-09-27T15:43:10.859Z"
   },
   {
    "duration": 113,
    "start_time": "2023-09-27T15:43:10.893Z"
   },
   {
    "duration": 125,
    "start_time": "2023-09-27T15:43:11.008Z"
   },
   {
    "duration": 73,
    "start_time": "2023-09-27T15:43:11.136Z"
   },
   {
    "duration": 67,
    "start_time": "2023-09-27T15:43:11.211Z"
   },
   {
    "duration": 79,
    "start_time": "2023-09-27T15:43:11.280Z"
   },
   {
    "duration": 128,
    "start_time": "2023-09-27T15:43:11.361Z"
   },
   {
    "duration": 131,
    "start_time": "2023-09-27T15:43:11.490Z"
   },
   {
    "duration": 78,
    "start_time": "2023-09-27T15:43:11.622Z"
   },
   {
    "duration": 72,
    "start_time": "2023-09-27T15:43:11.702Z"
   },
   {
    "duration": 117,
    "start_time": "2023-09-27T15:43:11.776Z"
   },
   {
    "duration": 70,
    "start_time": "2023-09-27T15:43:11.895Z"
   },
   {
    "duration": 101,
    "start_time": "2023-09-27T15:43:11.967Z"
   },
   {
    "duration": 143,
    "start_time": "2023-09-27T15:43:12.070Z"
   },
   {
    "duration": 76,
    "start_time": "2023-09-27T15:43:12.214Z"
   },
   {
    "duration": 137,
    "start_time": "2023-09-27T15:43:12.292Z"
   },
   {
    "duration": 93,
    "start_time": "2023-09-27T15:43:12.431Z"
   },
   {
    "duration": 45,
    "start_time": "2023-09-27T15:43:38.140Z"
   },
   {
    "duration": 35,
    "start_time": "2023-09-27T15:43:43.188Z"
   },
   {
    "duration": 34,
    "start_time": "2023-09-27T15:43:54.248Z"
   },
   {
    "duration": 32,
    "start_time": "2023-09-27T15:43:59.068Z"
   },
   {
    "duration": 33,
    "start_time": "2023-09-27T15:44:05.158Z"
   },
   {
    "duration": 30,
    "start_time": "2023-09-27T15:44:07.791Z"
   },
   {
    "duration": 40,
    "start_time": "2023-09-27T15:44:10.234Z"
   },
   {
    "duration": 40,
    "start_time": "2023-09-27T15:44:17.900Z"
   },
   {
    "duration": 216,
    "start_time": "2023-09-27T15:45:39.076Z"
   },
   {
    "duration": 248,
    "start_time": "2023-09-27T15:46:38.446Z"
   },
   {
    "duration": 226,
    "start_time": "2023-09-27T15:46:46.910Z"
   },
   {
    "duration": 205,
    "start_time": "2023-09-27T15:46:58.510Z"
   },
   {
    "duration": 1141,
    "start_time": "2023-09-27T15:47:05.889Z"
   },
   {
    "duration": 42,
    "start_time": "2023-09-27T15:47:07.032Z"
   },
   {
    "duration": 8,
    "start_time": "2023-09-27T15:47:07.075Z"
   },
   {
    "duration": 29,
    "start_time": "2023-09-27T15:47:07.085Z"
   },
   {
    "duration": 201,
    "start_time": "2023-09-27T15:47:07.117Z"
   },
   {
    "duration": 50,
    "start_time": "2023-09-27T15:47:07.319Z"
   },
   {
    "duration": 24,
    "start_time": "2023-09-27T15:47:07.371Z"
   },
   {
    "duration": 61,
    "start_time": "2023-09-27T15:47:07.397Z"
   },
   {
    "duration": 78,
    "start_time": "2023-09-27T15:47:07.460Z"
   },
   {
    "duration": 60,
    "start_time": "2023-09-27T15:47:07.539Z"
   },
   {
    "duration": 122,
    "start_time": "2023-09-27T15:47:07.600Z"
   },
   {
    "duration": 134,
    "start_time": "2023-09-27T15:47:07.723Z"
   },
   {
    "duration": 18,
    "start_time": "2023-09-27T15:47:07.859Z"
   },
   {
    "duration": 6,
    "start_time": "2023-09-27T15:47:07.879Z"
   },
   {
    "duration": 21,
    "start_time": "2023-09-27T15:47:07.886Z"
   },
   {
    "duration": 12,
    "start_time": "2023-09-27T15:47:07.909Z"
   },
   {
    "duration": 18,
    "start_time": "2023-09-27T15:47:07.923Z"
   },
   {
    "duration": 13,
    "start_time": "2023-09-27T15:47:07.942Z"
   },
   {
    "duration": 44,
    "start_time": "2023-09-27T15:47:07.957Z"
   },
   {
    "duration": 221,
    "start_time": "2023-09-27T15:47:08.003Z"
   },
   {
    "duration": 3,
    "start_time": "2023-09-27T15:47:08.225Z"
   },
   {
    "duration": 45,
    "start_time": "2023-09-27T15:47:08.229Z"
   },
   {
    "duration": 31,
    "start_time": "2023-09-27T15:47:08.276Z"
   },
   {
    "duration": 96,
    "start_time": "2023-09-27T15:48:27.651Z"
   },
   {
    "duration": 4,
    "start_time": "2023-09-27T15:48:34.188Z"
   },
   {
    "duration": 10,
    "start_time": "2023-09-27T15:48:37.165Z"
   },
   {
    "duration": 1105,
    "start_time": "2023-09-27T15:49:37.652Z"
   },
   {
    "duration": 44,
    "start_time": "2023-09-27T15:49:38.760Z"
   },
   {
    "duration": 9,
    "start_time": "2023-09-27T15:49:38.805Z"
   },
   {
    "duration": 17,
    "start_time": "2023-09-27T15:49:38.815Z"
   },
   {
    "duration": 39,
    "start_time": "2023-09-27T15:49:38.834Z"
   },
   {
    "duration": 6,
    "start_time": "2023-09-27T15:49:38.874Z"
   },
   {
    "duration": 18,
    "start_time": "2023-09-27T15:49:38.882Z"
   },
   {
    "duration": 63,
    "start_time": "2023-09-27T15:49:38.902Z"
   },
   {
    "duration": 7,
    "start_time": "2023-09-27T15:49:38.967Z"
   },
   {
    "duration": 9,
    "start_time": "2023-09-27T15:49:38.976Z"
   },
   {
    "duration": 14,
    "start_time": "2023-09-27T15:49:38.987Z"
   },
   {
    "duration": 31,
    "start_time": "2023-09-27T15:49:39.003Z"
   },
   {
    "duration": 24,
    "start_time": "2023-09-27T15:49:39.035Z"
   },
   {
    "duration": 12,
    "start_time": "2023-09-27T15:49:39.061Z"
   },
   {
    "duration": 39,
    "start_time": "2023-09-27T15:49:39.075Z"
   },
   {
    "duration": 9,
    "start_time": "2023-09-27T15:49:39.116Z"
   },
   {
    "duration": 16,
    "start_time": "2023-09-27T15:49:39.127Z"
   },
   {
    "duration": 19,
    "start_time": "2023-09-27T15:49:39.145Z"
   },
   {
    "duration": 28,
    "start_time": "2023-09-27T15:49:39.166Z"
   },
   {
    "duration": 19,
    "start_time": "2023-09-27T15:49:39.195Z"
   },
   {
    "duration": 244,
    "start_time": "2023-09-27T15:49:39.216Z"
   },
   {
    "duration": 3,
    "start_time": "2023-09-27T15:49:39.461Z"
   },
   {
    "duration": 10,
    "start_time": "2023-09-27T15:49:39.465Z"
   },
   {
    "duration": 12,
    "start_time": "2023-09-27T15:49:39.476Z"
   },
   {
    "duration": 247,
    "start_time": "2023-09-27T15:49:53.441Z"
   },
   {
    "duration": 278,
    "start_time": "2023-09-27T15:49:58.502Z"
   },
   {
    "duration": 263,
    "start_time": "2023-09-27T15:50:02.845Z"
   },
   {
    "duration": 1154,
    "start_time": "2023-09-27T15:50:18.912Z"
   },
   {
    "duration": 43,
    "start_time": "2023-09-27T15:50:20.067Z"
   },
   {
    "duration": 30,
    "start_time": "2023-09-27T15:50:20.111Z"
   },
   {
    "duration": 47,
    "start_time": "2023-09-27T15:50:20.142Z"
   },
   {
    "duration": 106,
    "start_time": "2023-09-27T15:50:20.192Z"
   },
   {
    "duration": 48,
    "start_time": "2023-09-27T15:50:20.300Z"
   },
   {
    "duration": 130,
    "start_time": "2023-09-27T15:50:20.351Z"
   },
   {
    "duration": 55,
    "start_time": "2023-09-27T15:50:20.482Z"
   },
   {
    "duration": 30,
    "start_time": "2023-09-27T15:50:20.538Z"
   },
   {
    "duration": 26,
    "start_time": "2023-09-27T15:50:20.570Z"
   },
   {
    "duration": 39,
    "start_time": "2023-09-27T15:50:20.598Z"
   },
   {
    "duration": 31,
    "start_time": "2023-09-27T15:50:20.639Z"
   },
   {
    "duration": 43,
    "start_time": "2023-09-27T15:50:20.671Z"
   },
   {
    "duration": 28,
    "start_time": "2023-09-27T15:50:20.716Z"
   },
   {
    "duration": 22,
    "start_time": "2023-09-27T15:50:20.746Z"
   },
   {
    "duration": 35,
    "start_time": "2023-09-27T15:50:20.770Z"
   },
   {
    "duration": 35,
    "start_time": "2023-09-27T15:50:20.807Z"
   },
   {
    "duration": 20,
    "start_time": "2023-09-27T15:50:20.843Z"
   },
   {
    "duration": 23,
    "start_time": "2023-09-27T15:50:20.865Z"
   },
   {
    "duration": 46,
    "start_time": "2023-09-27T15:50:20.890Z"
   },
   {
    "duration": 256,
    "start_time": "2023-09-27T15:50:20.940Z"
   },
   {
    "duration": 2,
    "start_time": "2023-09-27T15:50:21.198Z"
   },
   {
    "duration": 17,
    "start_time": "2023-09-27T15:50:21.202Z"
   },
   {
    "duration": 15,
    "start_time": "2023-09-27T15:50:21.223Z"
   },
   {
    "duration": 302,
    "start_time": "2023-09-27T16:09:30.957Z"
   },
   {
    "duration": 319,
    "start_time": "2023-09-27T16:09:34.242Z"
   },
   {
    "duration": 121,
    "start_time": "2023-09-27T16:09:39.149Z"
   },
   {
    "duration": 342,
    "start_time": "2023-09-27T16:10:06.657Z"
   },
   {
    "duration": 27,
    "start_time": "2023-09-27T16:10:15.618Z"
   },
   {
    "duration": 273,
    "start_time": "2023-09-27T16:10:22.912Z"
   },
   {
    "duration": 11,
    "start_time": "2023-09-27T16:11:15.549Z"
   },
   {
    "duration": 9,
    "start_time": "2023-09-27T16:11:22.919Z"
   },
   {
    "duration": 26,
    "start_time": "2023-09-27T16:11:25.973Z"
   },
   {
    "duration": 36,
    "start_time": "2023-09-27T16:11:56.915Z"
   },
   {
    "duration": 140,
    "start_time": "2023-09-27T16:12:08.054Z"
   },
   {
    "duration": 18,
    "start_time": "2023-09-27T16:12:18.981Z"
   },
   {
    "duration": 118,
    "start_time": "2023-09-27T16:16:37.985Z"
   },
   {
    "duration": 142,
    "start_time": "2023-09-27T16:16:43.504Z"
   },
   {
    "duration": 137,
    "start_time": "2023-09-27T16:16:48.019Z"
   },
   {
    "duration": 152,
    "start_time": "2023-09-27T16:16:55.049Z"
   },
   {
    "duration": 182,
    "start_time": "2023-09-27T16:17:01.136Z"
   },
   {
    "duration": 174,
    "start_time": "2023-09-27T16:17:06.202Z"
   },
   {
    "duration": 189,
    "start_time": "2023-09-27T16:17:11.419Z"
   },
   {
    "duration": 194,
    "start_time": "2023-09-27T16:17:15.933Z"
   },
   {
    "duration": 180,
    "start_time": "2023-09-27T16:17:20.985Z"
   },
   {
    "duration": 173,
    "start_time": "2023-09-27T16:17:43.443Z"
   },
   {
    "duration": 182,
    "start_time": "2023-09-27T16:17:48.297Z"
   },
   {
    "duration": 153,
    "start_time": "2023-09-27T16:18:17.747Z"
   },
   {
    "duration": 237,
    "start_time": "2023-09-27T16:19:08.843Z"
   },
   {
    "duration": 221,
    "start_time": "2023-09-27T16:19:17.473Z"
   },
   {
    "duration": 221,
    "start_time": "2023-09-27T16:19:28.503Z"
   },
   {
    "duration": 220,
    "start_time": "2023-09-27T16:20:08.711Z"
   },
   {
    "duration": 232,
    "start_time": "2023-09-27T16:20:10.634Z"
   },
   {
    "duration": 201,
    "start_time": "2023-09-27T16:20:45.493Z"
   },
   {
    "duration": 29,
    "start_time": "2023-09-27T16:21:15.257Z"
   },
   {
    "duration": 1184,
    "start_time": "2023-09-27T16:21:30.709Z"
   },
   {
    "duration": 42,
    "start_time": "2023-09-27T16:21:31.895Z"
   },
   {
    "duration": 11,
    "start_time": "2023-09-27T16:21:31.941Z"
   },
   {
    "duration": 28,
    "start_time": "2023-09-27T16:21:31.954Z"
   },
   {
    "duration": 64,
    "start_time": "2023-09-27T16:21:31.984Z"
   },
   {
    "duration": 7,
    "start_time": "2023-09-27T16:21:32.049Z"
   },
   {
    "duration": 32,
    "start_time": "2023-09-27T16:21:32.057Z"
   },
   {
    "duration": 53,
    "start_time": "2023-09-27T16:21:32.091Z"
   },
   {
    "duration": 23,
    "start_time": "2023-09-27T16:21:32.146Z"
   },
   {
    "duration": 27,
    "start_time": "2023-09-27T16:21:32.171Z"
   },
   {
    "duration": 21,
    "start_time": "2023-09-27T16:21:32.199Z"
   },
   {
    "duration": 38,
    "start_time": "2023-09-27T16:21:32.222Z"
   },
   {
    "duration": 27,
    "start_time": "2023-09-27T16:21:32.261Z"
   },
   {
    "duration": 19,
    "start_time": "2023-09-27T16:21:32.291Z"
   },
   {
    "duration": 40,
    "start_time": "2023-09-27T16:21:32.312Z"
   },
   {
    "duration": 20,
    "start_time": "2023-09-27T16:21:32.354Z"
   },
   {
    "duration": 43,
    "start_time": "2023-09-27T16:21:32.376Z"
   },
   {
    "duration": 17,
    "start_time": "2023-09-27T16:21:32.421Z"
   },
   {
    "duration": 40,
    "start_time": "2023-09-27T16:21:32.440Z"
   },
   {
    "duration": 19,
    "start_time": "2023-09-27T16:21:32.482Z"
   },
   {
    "duration": 19,
    "start_time": "2023-09-27T16:21:32.503Z"
   },
   {
    "duration": 18,
    "start_time": "2023-09-27T16:21:32.524Z"
   },
   {
    "duration": 229,
    "start_time": "2023-09-27T16:21:32.543Z"
   },
   {
    "duration": 2,
    "start_time": "2023-09-27T16:21:32.774Z"
   },
   {
    "duration": 18,
    "start_time": "2023-09-27T16:21:32.777Z"
   },
   {
    "duration": 45,
    "start_time": "2023-09-27T16:21:32.797Z"
   },
   {
    "duration": 1889,
    "start_time": "2023-09-27T18:14:55.059Z"
   },
   {
    "duration": 1251,
    "start_time": "2023-09-27T18:15:18.983Z"
   },
   {
    "duration": 54,
    "start_time": "2023-09-27T18:15:20.237Z"
   },
   {
    "duration": 9,
    "start_time": "2023-09-27T18:15:20.293Z"
   },
   {
    "duration": 112,
    "start_time": "2023-09-27T18:15:20.304Z"
   },
   {
    "duration": 153,
    "start_time": "2023-09-27T18:15:20.419Z"
   },
   {
    "duration": 37,
    "start_time": "2023-09-27T18:15:20.574Z"
   },
   {
    "duration": 97,
    "start_time": "2023-09-27T18:15:20.613Z"
   },
   {
    "duration": 164,
    "start_time": "2023-09-27T18:15:20.712Z"
   },
   {
    "duration": 148,
    "start_time": "2023-09-27T18:15:20.878Z"
   },
   {
    "duration": 160,
    "start_time": "2023-09-27T18:15:21.028Z"
   },
   {
    "duration": 111,
    "start_time": "2023-09-27T18:15:21.191Z"
   },
   {
    "duration": 38,
    "start_time": "2023-09-27T18:15:21.304Z"
   },
   {
    "duration": 54,
    "start_time": "2023-09-27T18:15:21.345Z"
   },
   {
    "duration": 43,
    "start_time": "2023-09-27T18:15:21.404Z"
   },
   {
    "duration": 56,
    "start_time": "2023-09-27T18:15:21.449Z"
   },
   {
    "duration": 148,
    "start_time": "2023-09-27T18:15:21.508Z"
   },
   {
    "duration": 52,
    "start_time": "2023-09-27T18:15:21.658Z"
   },
   {
    "duration": 35,
    "start_time": "2023-09-27T18:15:21.712Z"
   },
   {
    "duration": 51,
    "start_time": "2023-09-27T18:15:21.750Z"
   },
   {
    "duration": 1798,
    "start_time": "2023-09-27T18:15:21.802Z"
   },
   {
    "duration": 4167,
    "start_time": "2023-09-27T18:15:23.601Z"
   },
   {
    "duration": 5,
    "start_time": "2023-09-27T18:15:27.769Z"
   },
   {
    "duration": 124,
    "start_time": "2023-09-27T18:15:27.776Z"
   },
   {
    "duration": 160,
    "start_time": "2023-09-27T18:15:27.902Z"
   },
   {
    "duration": 129,
    "start_time": "2023-09-27T18:15:28.064Z"
   },
   {
    "duration": 26,
    "start_time": "2023-09-27T18:15:28.195Z"
   },
   {
    "duration": 262,
    "start_time": "2023-09-27T18:16:25.618Z"
   },
   {
    "duration": 231,
    "start_time": "2023-09-27T18:16:31.461Z"
   },
   {
    "duration": 231,
    "start_time": "2023-09-27T18:17:42.347Z"
   },
   {
    "duration": 232,
    "start_time": "2023-09-27T18:17:50.478Z"
   },
   {
    "duration": 1585,
    "start_time": "2023-09-27T18:19:48.797Z"
   },
   {
    "duration": 4150,
    "start_time": "2023-09-27T18:19:53.958Z"
   },
   {
    "duration": 4165,
    "start_time": "2023-09-27T18:20:04.608Z"
   },
   {
    "duration": 1193,
    "start_time": "2023-09-27T18:21:44.103Z"
   },
   {
    "duration": 51,
    "start_time": "2023-09-27T18:21:45.298Z"
   },
   {
    "duration": 23,
    "start_time": "2023-09-27T18:21:45.351Z"
   },
   {
    "duration": 76,
    "start_time": "2023-09-27T18:21:45.376Z"
   },
   {
    "duration": 112,
    "start_time": "2023-09-27T18:21:45.454Z"
   },
   {
    "duration": 126,
    "start_time": "2023-09-27T18:21:45.568Z"
   },
   {
    "duration": 58,
    "start_time": "2023-09-27T18:21:45.696Z"
   },
   {
    "duration": 57,
    "start_time": "2023-09-27T18:21:45.756Z"
   },
   {
    "duration": 96,
    "start_time": "2023-09-27T18:21:45.815Z"
   },
   {
    "duration": 30,
    "start_time": "2023-09-27T18:21:45.912Z"
   },
   {
    "duration": 24,
    "start_time": "2023-09-27T18:21:45.944Z"
   },
   {
    "duration": 34,
    "start_time": "2023-09-27T18:21:45.970Z"
   },
   {
    "duration": 39,
    "start_time": "2023-09-27T18:21:46.006Z"
   },
   {
    "duration": 28,
    "start_time": "2023-09-27T18:21:46.048Z"
   },
   {
    "duration": 55,
    "start_time": "2023-09-27T18:21:46.078Z"
   },
   {
    "duration": 25,
    "start_time": "2023-09-27T18:21:46.136Z"
   },
   {
    "duration": 47,
    "start_time": "2023-09-27T18:21:46.163Z"
   },
   {
    "duration": 93,
    "start_time": "2023-09-27T18:21:46.212Z"
   },
   {
    "duration": 108,
    "start_time": "2023-09-27T18:21:46.306Z"
   },
   {
    "duration": 45,
    "start_time": "2023-09-27T18:21:46.417Z"
   },
   {
    "duration": 149,
    "start_time": "2023-09-27T18:21:46.464Z"
   },
   {
    "duration": 68,
    "start_time": "2023-09-27T18:21:46.614Z"
   },
   {
    "duration": 207,
    "start_time": "2023-09-27T18:21:46.683Z"
   },
   {
    "duration": 2,
    "start_time": "2023-09-27T18:21:46.892Z"
   },
   {
    "duration": 26,
    "start_time": "2023-09-27T18:21:46.896Z"
   },
   {
    "duration": 33,
    "start_time": "2023-09-27T18:22:04.626Z"
   },
   {
    "duration": 287,
    "start_time": "2023-09-27T18:23:50.293Z"
   },
   {
    "duration": 175,
    "start_time": "2023-09-27T18:24:00.503Z"
   },
   {
    "duration": 152,
    "start_time": "2023-09-27T18:24:44.483Z"
   },
   {
    "duration": 195,
    "start_time": "2023-09-27T18:25:58.578Z"
   },
   {
    "duration": 213,
    "start_time": "2023-09-27T18:26:08.033Z"
   },
   {
    "duration": 225,
    "start_time": "2023-09-27T18:26:14.664Z"
   },
   {
    "duration": 231,
    "start_time": "2023-09-27T18:26:18.740Z"
   },
   {
    "duration": 191,
    "start_time": "2023-09-27T18:26:21.622Z"
   },
   {
    "duration": 204,
    "start_time": "2023-09-27T18:26:23.876Z"
   },
   {
    "duration": 201,
    "start_time": "2023-09-27T18:27:52.774Z"
   },
   {
    "duration": 208,
    "start_time": "2023-09-27T18:28:53.861Z"
   },
   {
    "duration": 1199,
    "start_time": "2023-09-27T18:29:10.907Z"
   },
   {
    "duration": 48,
    "start_time": "2023-09-27T18:29:12.108Z"
   },
   {
    "duration": 8,
    "start_time": "2023-09-27T18:29:12.158Z"
   },
   {
    "duration": 28,
    "start_time": "2023-09-27T18:29:12.167Z"
   },
   {
    "duration": 47,
    "start_time": "2023-09-27T18:29:12.198Z"
   },
   {
    "duration": 6,
    "start_time": "2023-09-27T18:29:12.248Z"
   },
   {
    "duration": 32,
    "start_time": "2023-09-27T18:29:12.256Z"
   },
   {
    "duration": 20,
    "start_time": "2023-09-27T18:29:12.289Z"
   },
   {
    "duration": 12,
    "start_time": "2023-09-27T18:29:12.311Z"
   },
   {
    "duration": 9,
    "start_time": "2023-09-27T18:29:12.325Z"
   },
   {
    "duration": 7,
    "start_time": "2023-09-27T18:29:12.336Z"
   },
   {
    "duration": 4,
    "start_time": "2023-09-27T18:29:12.345Z"
   },
   {
    "duration": 4,
    "start_time": "2023-09-27T18:29:12.351Z"
   },
   {
    "duration": 8,
    "start_time": "2023-09-27T18:29:12.357Z"
   },
   {
    "duration": 18,
    "start_time": "2023-09-27T18:29:12.366Z"
   },
   {
    "duration": 9,
    "start_time": "2023-09-27T18:29:12.426Z"
   },
   {
    "duration": 21,
    "start_time": "2023-09-27T18:29:12.438Z"
   },
   {
    "duration": 7,
    "start_time": "2023-09-27T18:29:12.460Z"
   },
   {
    "duration": 22,
    "start_time": "2023-09-27T18:29:12.468Z"
   },
   {
    "duration": 3,
    "start_time": "2023-09-27T18:29:12.492Z"
   },
   {
    "duration": 34,
    "start_time": "2023-09-27T18:29:12.497Z"
   },
   {
    "duration": 6,
    "start_time": "2023-09-27T18:29:12.534Z"
   },
   {
    "duration": 8,
    "start_time": "2023-09-27T18:29:12.542Z"
   },
   {
    "duration": 230,
    "start_time": "2023-09-27T18:29:12.551Z"
   },
   {
    "duration": 127,
    "start_time": "2023-09-27T18:29:12.783Z"
   },
   {
    "duration": 24,
    "start_time": "2023-09-27T18:29:31.779Z"
   },
   {
    "duration": 139,
    "start_time": "2023-09-27T18:29:47.888Z"
   },
   {
    "duration": 22,
    "start_time": "2023-09-27T18:29:58.863Z"
   },
   {
    "duration": 79,
    "start_time": "2023-09-27T18:30:31.437Z"
   },
   {
    "duration": 107,
    "start_time": "2023-09-27T18:30:36.731Z"
   },
   {
    "duration": 108,
    "start_time": "2023-09-27T18:30:39.906Z"
   },
   {
    "duration": 112,
    "start_time": "2023-09-27T18:30:44.795Z"
   },
   {
    "duration": 115,
    "start_time": "2023-09-27T18:30:48.460Z"
   },
   {
    "duration": 144,
    "start_time": "2023-09-27T18:30:56.525Z"
   },
   {
    "duration": 124,
    "start_time": "2023-09-27T18:30:58.747Z"
   },
   {
    "duration": 121,
    "start_time": "2023-09-27T18:32:13.074Z"
   },
   {
    "duration": 22,
    "start_time": "2023-09-27T18:33:27.197Z"
   },
   {
    "duration": 44,
    "start_time": "2023-09-27T18:35:07.920Z"
   },
   {
    "duration": 21,
    "start_time": "2023-09-27T18:35:37.345Z"
   },
   {
    "duration": 1267,
    "start_time": "2023-09-27T18:35:49.076Z"
   },
   {
    "duration": 44,
    "start_time": "2023-09-27T18:35:50.345Z"
   },
   {
    "duration": 8,
    "start_time": "2023-09-27T18:35:50.394Z"
   },
   {
    "duration": 69,
    "start_time": "2023-09-27T18:35:50.403Z"
   },
   {
    "duration": 64,
    "start_time": "2023-09-27T18:35:50.474Z"
   },
   {
    "duration": 9,
    "start_time": "2023-09-27T18:35:50.541Z"
   },
   {
    "duration": 56,
    "start_time": "2023-09-27T18:35:50.552Z"
   },
   {
    "duration": 32,
    "start_time": "2023-09-27T18:35:50.610Z"
   },
   {
    "duration": 33,
    "start_time": "2023-09-27T18:35:50.648Z"
   },
   {
    "duration": 39,
    "start_time": "2023-09-27T18:35:50.683Z"
   },
   {
    "duration": 15,
    "start_time": "2023-09-27T18:35:50.724Z"
   },
   {
    "duration": 29,
    "start_time": "2023-09-27T18:35:50.741Z"
   },
   {
    "duration": 10,
    "start_time": "2023-09-27T18:35:50.772Z"
   },
   {
    "duration": 23,
    "start_time": "2023-09-27T18:35:50.783Z"
   },
   {
    "duration": 32,
    "start_time": "2023-09-27T18:35:50.808Z"
   },
   {
    "duration": 18,
    "start_time": "2023-09-27T18:35:50.843Z"
   },
   {
    "duration": 27,
    "start_time": "2023-09-27T18:35:50.863Z"
   },
   {
    "duration": 18,
    "start_time": "2023-09-27T18:35:50.892Z"
   },
   {
    "duration": 36,
    "start_time": "2023-09-27T18:35:50.912Z"
   },
   {
    "duration": 4,
    "start_time": "2023-09-27T18:35:50.950Z"
   },
   {
    "duration": 15,
    "start_time": "2023-09-27T18:35:50.955Z"
   },
   {
    "duration": 5,
    "start_time": "2023-09-27T18:35:50.972Z"
   },
   {
    "duration": 178,
    "start_time": "2023-09-27T18:35:50.978Z"
   },
   {
    "duration": 2,
    "start_time": "2023-09-27T18:35:51.158Z"
   },
   {
    "duration": 56,
    "start_time": "2023-09-27T18:35:51.162Z"
   },
   {
    "duration": 47,
    "start_time": "2023-09-27T18:35:51.220Z"
   },
   {
    "duration": 218,
    "start_time": "2023-09-27T18:37:14.937Z"
   },
   {
    "duration": 1117,
    "start_time": "2023-09-27T18:37:19.330Z"
   },
   {
    "duration": 44,
    "start_time": "2023-09-27T18:37:20.449Z"
   },
   {
    "duration": 8,
    "start_time": "2023-09-27T18:37:20.495Z"
   },
   {
    "duration": 51,
    "start_time": "2023-09-27T18:37:20.505Z"
   },
   {
    "duration": 56,
    "start_time": "2023-09-27T18:37:20.558Z"
   },
   {
    "duration": 5,
    "start_time": "2023-09-27T18:37:20.616Z"
   },
   {
    "duration": 51,
    "start_time": "2023-09-27T18:37:20.622Z"
   },
   {
    "duration": 62,
    "start_time": "2023-09-27T18:37:20.674Z"
   },
   {
    "duration": 12,
    "start_time": "2023-09-27T18:37:20.738Z"
   },
   {
    "duration": 47,
    "start_time": "2023-09-27T18:37:20.754Z"
   },
   {
    "duration": 47,
    "start_time": "2023-09-27T18:37:20.803Z"
   },
   {
    "duration": 36,
    "start_time": "2023-09-27T18:37:20.852Z"
   },
   {
    "duration": 20,
    "start_time": "2023-09-27T18:37:20.890Z"
   },
   {
    "duration": 16,
    "start_time": "2023-09-27T18:37:20.912Z"
   },
   {
    "duration": 42,
    "start_time": "2023-09-27T18:37:20.930Z"
   },
   {
    "duration": 81,
    "start_time": "2023-09-27T18:37:20.973Z"
   },
   {
    "duration": 168,
    "start_time": "2023-09-27T18:37:21.055Z"
   },
   {
    "duration": 87,
    "start_time": "2023-09-27T18:37:21.225Z"
   },
   {
    "duration": 67,
    "start_time": "2023-09-27T18:37:21.314Z"
   },
   {
    "duration": 44,
    "start_time": "2023-09-27T18:37:21.383Z"
   },
   {
    "duration": 100,
    "start_time": "2023-09-27T18:37:21.429Z"
   },
   {
    "duration": 67,
    "start_time": "2023-09-27T18:37:21.531Z"
   },
   {
    "duration": 53,
    "start_time": "2023-09-27T18:37:21.600Z"
   },
   {
    "duration": 308,
    "start_time": "2023-09-27T18:37:21.655Z"
   },
   {
    "duration": 126,
    "start_time": "2023-09-27T18:37:21.965Z"
   },
   {
    "duration": 0,
    "start_time": "2023-09-27T18:37:22.094Z"
   },
   {
    "duration": 1202,
    "start_time": "2023-09-27T18:37:48.604Z"
   },
   {
    "duration": 52,
    "start_time": "2023-09-27T18:37:49.808Z"
   },
   {
    "duration": 9,
    "start_time": "2023-09-27T18:37:49.863Z"
   },
   {
    "duration": 24,
    "start_time": "2023-09-27T18:37:49.873Z"
   },
   {
    "duration": 58,
    "start_time": "2023-09-27T18:37:49.899Z"
   },
   {
    "duration": 6,
    "start_time": "2023-09-27T18:37:49.958Z"
   },
   {
    "duration": 19,
    "start_time": "2023-09-27T18:37:49.965Z"
   },
   {
    "duration": 17,
    "start_time": "2023-09-27T18:37:49.986Z"
   },
   {
    "duration": 21,
    "start_time": "2023-09-27T18:37:50.005Z"
   },
   {
    "duration": 27,
    "start_time": "2023-09-27T18:37:50.028Z"
   },
   {
    "duration": 15,
    "start_time": "2023-09-27T18:37:50.057Z"
   },
   {
    "duration": 22,
    "start_time": "2023-09-27T18:37:50.074Z"
   },
   {
    "duration": 10,
    "start_time": "2023-09-27T18:37:50.097Z"
   },
   {
    "duration": 21,
    "start_time": "2023-09-27T18:37:50.110Z"
   },
   {
    "duration": 42,
    "start_time": "2023-09-27T18:37:50.134Z"
   },
   {
    "duration": 21,
    "start_time": "2023-09-27T18:37:50.178Z"
   },
   {
    "duration": 32,
    "start_time": "2023-09-27T18:37:50.201Z"
   },
   {
    "duration": 18,
    "start_time": "2023-09-27T18:37:50.236Z"
   },
   {
    "duration": 19,
    "start_time": "2023-09-27T18:37:50.256Z"
   },
   {
    "duration": 182,
    "start_time": "2023-09-27T18:37:50.277Z"
   },
   {
    "duration": 129,
    "start_time": "2023-09-27T18:37:50.461Z"
   },
   {
    "duration": 193,
    "start_time": "2023-09-27T18:37:50.591Z"
   },
   {
    "duration": 303,
    "start_time": "2023-09-27T18:37:50.786Z"
   },
   {
    "duration": 2,
    "start_time": "2023-09-27T18:37:51.091Z"
   },
   {
    "duration": 144,
    "start_time": "2023-09-27T18:37:51.095Z"
   },
   {
    "duration": 23,
    "start_time": "2023-09-27T18:37:56.662Z"
   },
   {
    "duration": 1111,
    "start_time": "2023-09-27T18:38:26.918Z"
   },
   {
    "duration": 42,
    "start_time": "2023-09-27T18:38:28.032Z"
   },
   {
    "duration": 90,
    "start_time": "2023-09-27T18:38:28.075Z"
   },
   {
    "duration": 233,
    "start_time": "2023-09-27T18:38:28.166Z"
   },
   {
    "duration": 172,
    "start_time": "2023-09-27T18:38:28.401Z"
   },
   {
    "duration": 101,
    "start_time": "2023-09-27T18:38:28.574Z"
   },
   {
    "duration": 35,
    "start_time": "2023-09-27T18:38:28.677Z"
   },
   {
    "duration": 30,
    "start_time": "2023-09-27T18:38:28.713Z"
   },
   {
    "duration": 15,
    "start_time": "2023-09-27T18:38:28.745Z"
   },
   {
    "duration": 14,
    "start_time": "2023-09-27T18:38:28.762Z"
   },
   {
    "duration": 6,
    "start_time": "2023-09-27T18:38:28.778Z"
   },
   {
    "duration": 12,
    "start_time": "2023-09-27T18:38:28.786Z"
   },
   {
    "duration": 10,
    "start_time": "2023-09-27T18:38:28.799Z"
   },
   {
    "duration": 7,
    "start_time": "2023-09-27T18:38:28.812Z"
   },
   {
    "duration": 32,
    "start_time": "2023-09-27T18:38:28.821Z"
   },
   {
    "duration": 17,
    "start_time": "2023-09-27T18:38:28.855Z"
   },
   {
    "duration": 22,
    "start_time": "2023-09-27T18:38:28.873Z"
   },
   {
    "duration": 18,
    "start_time": "2023-09-27T18:38:28.897Z"
   },
   {
    "duration": 15,
    "start_time": "2023-09-27T18:38:28.916Z"
   },
   {
    "duration": 17,
    "start_time": "2023-09-27T18:38:28.933Z"
   },
   {
    "duration": 12,
    "start_time": "2023-09-27T18:38:28.952Z"
   },
   {
    "duration": 16,
    "start_time": "2023-09-27T18:38:28.966Z"
   },
   {
    "duration": 25,
    "start_time": "2023-09-27T18:38:28.983Z"
   },
   {
    "duration": 344,
    "start_time": "2023-09-27T18:38:29.010Z"
   },
   {
    "duration": 22,
    "start_time": "2023-09-27T18:38:29.356Z"
   },
   {
    "duration": 70,
    "start_time": "2023-09-27T18:38:38.149Z"
   },
   {
    "duration": 1262,
    "start_time": "2023-09-27T18:39:28.369Z"
   },
   {
    "duration": 43,
    "start_time": "2023-09-27T18:39:29.635Z"
   },
   {
    "duration": 14,
    "start_time": "2023-09-27T18:39:29.679Z"
   },
   {
    "duration": 67,
    "start_time": "2023-09-27T18:39:29.694Z"
   },
   {
    "duration": 58,
    "start_time": "2023-09-27T18:39:29.764Z"
   },
   {
    "duration": 12,
    "start_time": "2023-09-27T18:39:29.824Z"
   },
   {
    "duration": 23,
    "start_time": "2023-09-27T18:39:29.839Z"
   },
   {
    "duration": 27,
    "start_time": "2023-09-27T18:39:29.864Z"
   },
   {
    "duration": 4,
    "start_time": "2023-09-27T18:39:29.893Z"
   },
   {
    "duration": 39,
    "start_time": "2023-09-27T18:39:29.900Z"
   },
   {
    "duration": 9,
    "start_time": "2023-09-27T18:39:29.945Z"
   },
   {
    "duration": 15,
    "start_time": "2023-09-27T18:39:29.956Z"
   },
   {
    "duration": 11,
    "start_time": "2023-09-27T18:39:29.972Z"
   },
   {
    "duration": 68,
    "start_time": "2023-09-27T18:39:29.986Z"
   },
   {
    "duration": 61,
    "start_time": "2023-09-27T18:39:30.055Z"
   },
   {
    "duration": 76,
    "start_time": "2023-09-27T18:39:30.118Z"
   },
   {
    "duration": 66,
    "start_time": "2023-09-27T18:39:30.195Z"
   },
   {
    "duration": 103,
    "start_time": "2023-09-27T18:39:30.263Z"
   },
   {
    "duration": 79,
    "start_time": "2023-09-27T18:39:30.367Z"
   },
   {
    "duration": 31,
    "start_time": "2023-09-27T18:39:30.449Z"
   },
   {
    "duration": 39,
    "start_time": "2023-09-27T18:39:30.482Z"
   },
   {
    "duration": 37,
    "start_time": "2023-09-27T18:39:30.523Z"
   },
   {
    "duration": 26,
    "start_time": "2023-09-27T18:39:30.562Z"
   },
   {
    "duration": 169,
    "start_time": "2023-09-27T18:39:30.590Z"
   },
   {
    "duration": 23,
    "start_time": "2023-09-27T18:39:30.760Z"
   },
   {
    "duration": 21,
    "start_time": "2023-09-27T18:39:49.851Z"
   },
   {
    "duration": 73,
    "start_time": "2023-09-27T18:39:50.470Z"
   },
   {
    "duration": 238,
    "start_time": "2023-09-27T18:46:26.046Z"
   },
   {
    "duration": 246,
    "start_time": "2023-09-27T18:46:29.162Z"
   },
   {
    "duration": 278,
    "start_time": "2023-09-27T18:46:31.001Z"
   },
   {
    "duration": 168,
    "start_time": "2023-09-27T18:46:33.173Z"
   },
   {
    "duration": 1252,
    "start_time": "2023-09-27T18:52:17.303Z"
   },
   {
    "duration": 40,
    "start_time": "2023-09-27T18:52:18.558Z"
   },
   {
    "duration": 7,
    "start_time": "2023-09-27T18:52:18.600Z"
   },
   {
    "duration": 18,
    "start_time": "2023-09-27T18:52:18.608Z"
   },
   {
    "duration": 41,
    "start_time": "2023-09-27T18:52:18.629Z"
   },
   {
    "duration": 6,
    "start_time": "2023-09-27T18:52:18.672Z"
   },
   {
    "duration": 13,
    "start_time": "2023-09-27T18:52:18.680Z"
   },
   {
    "duration": 22,
    "start_time": "2023-09-27T18:52:18.724Z"
   },
   {
    "duration": 4,
    "start_time": "2023-09-27T18:52:18.749Z"
   },
   {
    "duration": 11,
    "start_time": "2023-09-27T18:52:18.754Z"
   },
   {
    "duration": 16,
    "start_time": "2023-09-27T18:52:18.767Z"
   },
   {
    "duration": 6,
    "start_time": "2023-09-27T18:52:18.785Z"
   },
   {
    "duration": 12,
    "start_time": "2023-09-27T18:52:18.793Z"
   },
   {
    "duration": 5,
    "start_time": "2023-09-27T18:52:18.824Z"
   },
   {
    "duration": 29,
    "start_time": "2023-09-27T18:52:18.830Z"
   },
   {
    "duration": 5,
    "start_time": "2023-09-27T18:52:18.861Z"
   },
   {
    "duration": 20,
    "start_time": "2023-09-27T18:52:18.868Z"
   },
   {
    "duration": 9,
    "start_time": "2023-09-27T18:52:18.890Z"
   },
   {
    "duration": 45,
    "start_time": "2023-09-27T18:52:18.901Z"
   },
   {
    "duration": 5,
    "start_time": "2023-09-27T18:52:18.948Z"
   },
   {
    "duration": 12,
    "start_time": "2023-09-27T18:52:18.954Z"
   },
   {
    "duration": 11,
    "start_time": "2023-09-27T18:52:18.968Z"
   },
   {
    "duration": 1201,
    "start_time": "2023-09-27T18:53:49.694Z"
   },
   {
    "duration": 50,
    "start_time": "2023-09-27T18:53:50.897Z"
   },
   {
    "duration": 9,
    "start_time": "2023-09-27T18:53:50.949Z"
   },
   {
    "duration": 23,
    "start_time": "2023-09-27T18:53:50.959Z"
   },
   {
    "duration": 66,
    "start_time": "2023-09-27T18:53:50.984Z"
   },
   {
    "duration": 5,
    "start_time": "2023-09-27T18:53:51.053Z"
   },
   {
    "duration": 20,
    "start_time": "2023-09-27T18:53:51.060Z"
   },
   {
    "duration": 20,
    "start_time": "2023-09-27T18:53:51.082Z"
   },
   {
    "duration": 4,
    "start_time": "2023-09-27T18:53:51.103Z"
   },
   {
    "duration": 28,
    "start_time": "2023-09-27T18:53:51.108Z"
   },
   {
    "duration": 10,
    "start_time": "2023-09-27T18:53:51.140Z"
   },
   {
    "duration": 14,
    "start_time": "2023-09-27T18:53:51.153Z"
   },
   {
    "duration": 14,
    "start_time": "2023-09-27T18:53:51.169Z"
   },
   {
    "duration": 14,
    "start_time": "2023-09-27T18:53:51.186Z"
   },
   {
    "duration": 29,
    "start_time": "2023-09-27T18:53:51.201Z"
   },
   {
    "duration": 28,
    "start_time": "2023-09-27T18:53:51.232Z"
   },
   {
    "duration": 51,
    "start_time": "2023-09-27T18:53:51.262Z"
   },
   {
    "duration": 20,
    "start_time": "2023-09-27T18:53:51.314Z"
   },
   {
    "duration": 27,
    "start_time": "2023-09-27T18:53:51.336Z"
   },
   {
    "duration": 15,
    "start_time": "2023-09-27T18:53:51.364Z"
   },
   {
    "duration": 18,
    "start_time": "2023-09-27T18:53:51.381Z"
   },
   {
    "duration": 183,
    "start_time": "2023-09-27T18:53:51.400Z"
   },
   {
    "duration": 193,
    "start_time": "2023-09-27T18:53:51.585Z"
   },
   {
    "duration": 124,
    "start_time": "2023-09-27T18:53:51.780Z"
   },
   {
    "duration": 31,
    "start_time": "2023-09-27T18:54:16.807Z"
   },
   {
    "duration": 23,
    "start_time": "2023-09-27T18:54:19.651Z"
   },
   {
    "duration": 1277,
    "start_time": "2023-09-27T19:10:16.945Z"
   },
   {
    "duration": 44,
    "start_time": "2023-09-27T19:10:18.225Z"
   },
   {
    "duration": 10,
    "start_time": "2023-09-27T19:10:18.271Z"
   },
   {
    "duration": 28,
    "start_time": "2023-09-27T19:10:18.283Z"
   },
   {
    "duration": 62,
    "start_time": "2023-09-27T19:10:18.313Z"
   },
   {
    "duration": 7,
    "start_time": "2023-09-27T19:10:18.377Z"
   },
   {
    "duration": 21,
    "start_time": "2023-09-27T19:10:18.386Z"
   },
   {
    "duration": 52,
    "start_time": "2023-09-27T19:10:18.409Z"
   },
   {
    "duration": 5,
    "start_time": "2023-09-27T19:10:18.463Z"
   },
   {
    "duration": 34,
    "start_time": "2023-09-27T19:10:18.470Z"
   },
   {
    "duration": 46,
    "start_time": "2023-09-27T19:10:18.507Z"
   },
   {
    "duration": 56,
    "start_time": "2023-09-27T19:10:18.554Z"
   },
   {
    "duration": 49,
    "start_time": "2023-09-27T19:10:18.611Z"
   },
   {
    "duration": 78,
    "start_time": "2023-09-27T19:10:18.662Z"
   },
   {
    "duration": 33,
    "start_time": "2023-09-27T19:10:18.743Z"
   },
   {
    "duration": 18,
    "start_time": "2023-09-27T19:10:18.777Z"
   },
   {
    "duration": 54,
    "start_time": "2023-09-27T19:10:18.797Z"
   },
   {
    "duration": 14,
    "start_time": "2023-09-27T19:10:18.852Z"
   },
   {
    "duration": 24,
    "start_time": "2023-09-27T19:10:18.867Z"
   },
   {
    "duration": 5,
    "start_time": "2023-09-27T19:10:18.892Z"
   },
   {
    "duration": 15,
    "start_time": "2023-09-27T19:10:18.899Z"
   },
   {
    "duration": 173,
    "start_time": "2023-09-27T19:10:18.916Z"
   },
   {
    "duration": 217,
    "start_time": "2023-09-27T19:10:19.092Z"
   },
   {
    "duration": 141,
    "start_time": "2023-09-27T19:10:19.311Z"
   },
   {
    "duration": 25,
    "start_time": "2023-09-27T19:10:19.453Z"
   },
   {
    "duration": 46,
    "start_time": "2023-09-27T19:10:19.480Z"
   },
   {
    "duration": 1473,
    "start_time": "2023-09-28T06:09:53.548Z"
   },
   {
    "duration": 88,
    "start_time": "2023-09-28T06:09:55.023Z"
   },
   {
    "duration": 11,
    "start_time": "2023-09-28T06:09:55.113Z"
   },
   {
    "duration": 44,
    "start_time": "2023-09-28T06:09:55.126Z"
   },
   {
    "duration": 81,
    "start_time": "2023-09-28T06:09:55.173Z"
   },
   {
    "duration": 8,
    "start_time": "2023-09-28T06:09:55.256Z"
   },
   {
    "duration": 53,
    "start_time": "2023-09-28T06:09:55.266Z"
   },
   {
    "duration": 53,
    "start_time": "2023-09-28T06:09:55.324Z"
   },
   {
    "duration": 38,
    "start_time": "2023-09-28T06:09:55.379Z"
   },
   {
    "duration": 31,
    "start_time": "2023-09-28T06:09:55.419Z"
   },
   {
    "duration": 33,
    "start_time": "2023-09-28T06:09:55.451Z"
   },
   {
    "duration": 32,
    "start_time": "2023-09-28T06:09:55.486Z"
   },
   {
    "duration": 37,
    "start_time": "2023-09-28T06:09:55.519Z"
   },
   {
    "duration": 22,
    "start_time": "2023-09-28T06:09:55.560Z"
   },
   {
    "duration": 40,
    "start_time": "2023-09-28T06:09:55.583Z"
   },
   {
    "duration": 41,
    "start_time": "2023-09-28T06:09:55.625Z"
   },
   {
    "duration": 38,
    "start_time": "2023-09-28T06:09:55.668Z"
   },
   {
    "duration": 46,
    "start_time": "2023-09-28T06:09:55.708Z"
   },
   {
    "duration": 40,
    "start_time": "2023-09-28T06:09:55.756Z"
   },
   {
    "duration": 15,
    "start_time": "2023-09-28T06:09:55.798Z"
   },
   {
    "duration": 58,
    "start_time": "2023-09-28T06:09:55.814Z"
   },
   {
    "duration": 212,
    "start_time": "2023-09-28T06:09:55.874Z"
   },
   {
    "duration": 245,
    "start_time": "2023-09-28T06:09:56.088Z"
   },
   {
    "duration": 134,
    "start_time": "2023-09-28T06:09:56.335Z"
   },
   {
    "duration": 25,
    "start_time": "2023-09-28T06:09:56.471Z"
   },
   {
    "duration": 57,
    "start_time": "2023-09-28T06:09:56.509Z"
   },
   {
    "duration": 52,
    "start_time": "2023-09-28T17:25:29.400Z"
   },
   {
    "duration": 1295,
    "start_time": "2023-09-28T17:26:56.507Z"
   },
   {
    "duration": 93,
    "start_time": "2023-09-28T17:27:03.590Z"
   },
   {
    "duration": 12,
    "start_time": "2023-09-28T17:27:03.904Z"
   },
   {
    "duration": 16,
    "start_time": "2023-09-28T17:27:04.130Z"
   },
   {
    "duration": 40,
    "start_time": "2023-09-28T17:27:05.461Z"
   },
   {
    "duration": 8,
    "start_time": "2023-09-28T17:27:06.338Z"
   },
   {
    "duration": 13,
    "start_time": "2023-09-28T17:27:07.503Z"
   },
   {
    "duration": 23,
    "start_time": "2023-09-28T17:27:08.790Z"
   },
   {
    "duration": 5,
    "start_time": "2023-09-28T17:27:12.830Z"
   },
   {
    "duration": 9,
    "start_time": "2023-09-28T17:27:14.291Z"
   },
   {
    "duration": 70,
    "start_time": "2023-09-28T17:27:47.950Z"
   },
   {
    "duration": 8,
    "start_time": "2023-09-28T17:27:57.816Z"
   },
   {
    "duration": 4,
    "start_time": "2023-09-28T17:28:01.506Z"
   },
   {
    "duration": 4,
    "start_time": "2023-09-28T17:28:01.860Z"
   },
   {
    "duration": 5,
    "start_time": "2023-09-28T17:28:02.372Z"
   },
   {
    "duration": 97,
    "start_time": "2023-09-28T17:29:07.092Z"
   },
   {
    "duration": 8,
    "start_time": "2023-09-28T17:30:01.688Z"
   },
   {
    "duration": 9,
    "start_time": "2023-09-28T17:30:30.614Z"
   },
   {
    "duration": 6,
    "start_time": "2023-09-28T17:30:47.314Z"
   },
   {
    "duration": 6,
    "start_time": "2023-09-28T17:30:52.694Z"
   },
   {
    "duration": 9,
    "start_time": "2023-09-28T17:30:59.504Z"
   },
   {
    "duration": 5,
    "start_time": "2023-09-28T17:31:25.109Z"
   },
   {
    "duration": 5,
    "start_time": "2023-09-28T17:31:36.364Z"
   },
   {
    "duration": 10,
    "start_time": "2023-09-28T17:32:26.291Z"
   },
   {
    "duration": 6,
    "start_time": "2023-09-28T17:32:39.369Z"
   },
   {
    "duration": 4,
    "start_time": "2023-09-28T17:32:54.521Z"
   },
   {
    "duration": 9,
    "start_time": "2023-09-28T17:33:11.390Z"
   },
   {
    "duration": 85,
    "start_time": "2023-09-28T17:34:40.885Z"
   },
   {
    "duration": 40532,
    "start_time": "2023-09-28T17:36:13.857Z"
   },
   {
    "duration": 72,
    "start_time": "2023-09-28T17:37:35.962Z"
   },
   {
    "duration": 5,
    "start_time": "2023-09-28T17:45:22.677Z"
   },
   {
    "duration": 5,
    "start_time": "2023-09-28T17:48:02.751Z"
   },
   {
    "duration": 24,
    "start_time": "2023-09-28T18:06:25.424Z"
   },
   {
    "duration": 13,
    "start_time": "2023-09-28T18:06:32.791Z"
   },
   {
    "duration": 12,
    "start_time": "2023-09-28T18:07:12.769Z"
   },
   {
    "duration": 15,
    "start_time": "2023-09-28T18:08:06.424Z"
   },
   {
    "duration": 29,
    "start_time": "2023-09-28T18:09:06.620Z"
   },
   {
    "duration": 24,
    "start_time": "2023-09-28T18:09:16.706Z"
   },
   {
    "duration": 11,
    "start_time": "2023-09-28T18:09:26.538Z"
   },
   {
    "duration": 302,
    "start_time": "2023-09-28T18:09:52.422Z"
   },
   {
    "duration": 4,
    "start_time": "2023-09-28T18:12:15.261Z"
   },
   {
    "duration": 5,
    "start_time": "2023-09-28T18:12:16.460Z"
   },
   {
    "duration": 1396,
    "start_time": "2023-09-28T18:12:29.178Z"
   },
   {
    "duration": 62,
    "start_time": "2023-09-28T18:12:30.576Z"
   },
   {
    "duration": 10,
    "start_time": "2023-09-28T18:12:30.640Z"
   },
   {
    "duration": 41,
    "start_time": "2023-09-28T18:12:30.652Z"
   },
   {
    "duration": 90,
    "start_time": "2023-09-28T18:12:30.695Z"
   },
   {
    "duration": 10,
    "start_time": "2023-09-28T18:12:30.787Z"
   },
   {
    "duration": 66,
    "start_time": "2023-09-28T18:12:30.798Z"
   },
   {
    "duration": 60,
    "start_time": "2023-09-28T18:12:30.866Z"
   },
   {
    "duration": 14,
    "start_time": "2023-09-28T18:12:30.928Z"
   },
   {
    "duration": 55,
    "start_time": "2023-09-28T18:12:30.945Z"
   },
   {
    "duration": 39,
    "start_time": "2023-09-28T18:12:31.002Z"
   },
   {
    "duration": 17,
    "start_time": "2023-09-28T18:12:31.043Z"
   },
   {
    "duration": 32,
    "start_time": "2023-09-28T18:12:31.061Z"
   },
   {
    "duration": 25,
    "start_time": "2023-09-28T18:12:31.095Z"
   },
   {
    "duration": 76,
    "start_time": "2023-09-28T18:12:31.123Z"
   },
   {
    "duration": 50,
    "start_time": "2023-09-28T18:12:31.206Z"
   },
   {
    "duration": 52,
    "start_time": "2023-09-28T18:12:31.258Z"
   },
   {
    "duration": 31,
    "start_time": "2023-09-28T18:12:31.313Z"
   },
   {
    "duration": 56,
    "start_time": "2023-09-28T18:12:31.345Z"
   },
   {
    "duration": 60,
    "start_time": "2023-09-28T18:12:31.403Z"
   },
   {
    "duration": 52,
    "start_time": "2023-09-28T18:12:31.465Z"
   },
   {
    "duration": 40,
    "start_time": "2023-09-28T18:12:31.519Z"
   },
   {
    "duration": 456,
    "start_time": "2023-09-28T18:12:31.561Z"
   },
   {
    "duration": 14,
    "start_time": "2023-09-28T18:12:32.018Z"
   },
   {
    "duration": 343,
    "start_time": "2023-09-28T18:12:32.034Z"
   },
   {
    "duration": 9,
    "start_time": "2023-09-28T18:12:32.379Z"
   },
   {
    "duration": 28,
    "start_time": "2023-09-28T18:12:32.391Z"
   },
   {
    "duration": 212,
    "start_time": "2023-09-28T18:12:32.423Z"
   },
   {
    "duration": 235,
    "start_time": "2023-09-28T18:12:32.637Z"
   },
   {
    "duration": 182,
    "start_time": "2023-09-28T18:12:32.874Z"
   },
   {
    "duration": 39,
    "start_time": "2023-09-28T18:12:33.058Z"
   },
   {
    "duration": 28,
    "start_time": "2023-09-28T18:12:33.099Z"
   },
   {
    "duration": 285,
    "start_time": "2023-09-28T18:13:38.554Z"
   },
   {
    "duration": 266,
    "start_time": "2023-09-28T18:15:22.400Z"
   },
   {
    "duration": 279,
    "start_time": "2023-09-28T18:16:54.810Z"
   },
   {
    "duration": 4,
    "start_time": "2023-09-28T18:17:28.339Z"
   },
   {
    "duration": 3,
    "start_time": "2023-09-28T18:17:37.844Z"
   },
   {
    "duration": 5,
    "start_time": "2023-09-28T18:18:20.486Z"
   },
   {
    "duration": 4,
    "start_time": "2023-09-28T18:18:29.773Z"
   },
   {
    "duration": 7,
    "start_time": "2023-09-28T18:19:24.076Z"
   },
   {
    "duration": 6,
    "start_time": "2023-09-28T18:19:31.177Z"
   },
   {
    "duration": 282,
    "start_time": "2023-09-28T18:19:38.688Z"
   },
   {
    "duration": 6,
    "start_time": "2023-09-28T18:19:42.560Z"
   },
   {
    "duration": 8,
    "start_time": "2023-09-28T18:19:43.380Z"
   },
   {
    "duration": 302,
    "start_time": "2023-09-28T18:19:47.562Z"
   },
   {
    "duration": 6,
    "start_time": "2023-09-28T18:19:49.974Z"
   },
   {
    "duration": 6,
    "start_time": "2023-09-28T18:19:50.866Z"
   },
   {
    "duration": 6,
    "start_time": "2023-09-28T18:22:03.469Z"
   },
   {
    "duration": 9,
    "start_time": "2023-09-28T18:22:12.379Z"
   },
   {
    "duration": 6,
    "start_time": "2023-09-28T18:22:34.959Z"
   },
   {
    "duration": 7,
    "start_time": "2023-09-28T18:22:45.816Z"
   },
   {
    "duration": 153,
    "start_time": "2023-09-28T18:22:56.064Z"
   },
   {
    "duration": 9,
    "start_time": "2023-09-28T18:22:58.592Z"
   },
   {
    "duration": 171,
    "start_time": "2023-09-28T18:23:03.567Z"
   },
   {
    "duration": 9,
    "start_time": "2023-09-28T18:23:06.304Z"
   },
   {
    "duration": 160,
    "start_time": "2023-09-28T18:23:10.543Z"
   },
   {
    "duration": 7,
    "start_time": "2023-09-28T18:23:12.958Z"
   },
   {
    "duration": 140,
    "start_time": "2023-09-28T18:23:15.723Z"
   },
   {
    "duration": 7,
    "start_time": "2023-09-28T18:23:17.928Z"
   },
   {
    "duration": 155,
    "start_time": "2023-09-28T18:23:21.018Z"
   },
   {
    "duration": 6,
    "start_time": "2023-09-28T18:23:23.314Z"
   },
   {
    "duration": 198,
    "start_time": "2023-09-28T18:23:30.234Z"
   },
   {
    "duration": 7,
    "start_time": "2023-09-28T18:23:32.264Z"
   },
   {
    "duration": 181,
    "start_time": "2023-09-28T18:23:35.570Z"
   },
   {
    "duration": 7,
    "start_time": "2023-09-28T18:23:37.416Z"
   },
   {
    "duration": 151,
    "start_time": "2023-09-28T18:23:40.401Z"
   },
   {
    "duration": 7,
    "start_time": "2023-09-28T18:23:42.379Z"
   },
   {
    "duration": 145,
    "start_time": "2023-09-28T18:23:46.218Z"
   },
   {
    "duration": 9,
    "start_time": "2023-09-28T18:23:48.492Z"
   },
   {
    "duration": 151,
    "start_time": "2023-09-28T18:23:52.504Z"
   },
   {
    "duration": 261,
    "start_time": "2023-09-28T18:26:06.107Z"
   },
   {
    "duration": 157,
    "start_time": "2023-09-28T18:26:14.752Z"
   },
   {
    "duration": 261,
    "start_time": "2023-09-28T18:26:54.120Z"
   },
   {
    "duration": 398,
    "start_time": "2023-09-28T18:27:26.646Z"
   },
   {
    "duration": 7,
    "start_time": "2023-09-28T18:27:46.042Z"
   },
   {
    "duration": 7,
    "start_time": "2023-09-28T18:27:48.360Z"
   },
   {
    "duration": 159,
    "start_time": "2023-09-28T18:28:44.309Z"
   },
   {
    "duration": 169,
    "start_time": "2023-09-28T18:29:30.555Z"
   },
   {
    "duration": 154,
    "start_time": "2023-09-28T18:29:40.250Z"
   },
   {
    "duration": 1255,
    "start_time": "2023-09-28T18:30:08.308Z"
   },
   {
    "duration": 45,
    "start_time": "2023-09-28T18:30:09.565Z"
   },
   {
    "duration": 9,
    "start_time": "2023-09-28T18:30:09.612Z"
   },
   {
    "duration": 35,
    "start_time": "2023-09-28T18:30:09.623Z"
   },
   {
    "duration": 46,
    "start_time": "2023-09-28T18:30:09.659Z"
   },
   {
    "duration": 7,
    "start_time": "2023-09-28T18:30:09.707Z"
   },
   {
    "duration": 24,
    "start_time": "2023-09-28T18:30:09.716Z"
   },
   {
    "duration": 22,
    "start_time": "2023-09-28T18:30:09.741Z"
   },
   {
    "duration": 17,
    "start_time": "2023-09-28T18:30:09.765Z"
   },
   {
    "duration": 9,
    "start_time": "2023-09-28T18:30:09.785Z"
   },
   {
    "duration": 14,
    "start_time": "2023-09-28T18:30:09.796Z"
   },
   {
    "duration": 4,
    "start_time": "2023-09-28T18:30:09.813Z"
   },
   {
    "duration": 5,
    "start_time": "2023-09-28T18:30:09.819Z"
   },
   {
    "duration": 5,
    "start_time": "2023-09-28T18:30:09.826Z"
   },
   {
    "duration": 54,
    "start_time": "2023-09-28T18:30:09.833Z"
   },
   {
    "duration": 18,
    "start_time": "2023-09-28T18:30:09.889Z"
   },
   {
    "duration": 8,
    "start_time": "2023-09-28T18:30:09.908Z"
   },
   {
    "duration": 5,
    "start_time": "2023-09-28T18:30:09.918Z"
   },
   {
    "duration": 28,
    "start_time": "2023-09-28T18:30:09.925Z"
   },
   {
    "duration": 7,
    "start_time": "2023-09-28T18:30:09.955Z"
   },
   {
    "duration": 26,
    "start_time": "2023-09-28T18:30:09.964Z"
   },
   {
    "duration": 14,
    "start_time": "2023-09-28T18:30:09.992Z"
   },
   {
    "duration": 380,
    "start_time": "2023-09-28T18:30:10.008Z"
   },
   {
    "duration": 16,
    "start_time": "2023-09-28T18:30:10.390Z"
   },
   {
    "duration": 5,
    "start_time": "2023-09-28T18:30:10.408Z"
   },
   {
    "duration": 12,
    "start_time": "2023-09-28T18:30:10.415Z"
   },
   {
    "duration": 14,
    "start_time": "2023-09-28T18:30:10.429Z"
   },
   {
    "duration": 129,
    "start_time": "2023-09-28T18:30:10.447Z"
   },
   {
    "duration": 0,
    "start_time": "2023-09-28T18:30:10.578Z"
   },
   {
    "duration": 0,
    "start_time": "2023-09-28T18:30:10.581Z"
   },
   {
    "duration": 0,
    "start_time": "2023-09-28T18:30:10.583Z"
   },
   {
    "duration": 0,
    "start_time": "2023-09-28T18:30:10.585Z"
   },
   {
    "duration": 0,
    "start_time": "2023-09-28T18:30:10.587Z"
   },
   {
    "duration": 0,
    "start_time": "2023-09-28T18:30:10.588Z"
   },
   {
    "duration": 0,
    "start_time": "2023-09-28T18:30:10.590Z"
   },
   {
    "duration": 164,
    "start_time": "2023-09-28T18:30:51.406Z"
   },
   {
    "duration": 201,
    "start_time": "2023-09-28T18:31:34.352Z"
   },
   {
    "duration": 223,
    "start_time": "2023-09-28T18:32:00.447Z"
   },
   {
    "duration": 243,
    "start_time": "2023-09-28T18:32:44.882Z"
   },
   {
    "duration": 301,
    "start_time": "2023-09-28T18:33:32.180Z"
   },
   {
    "duration": 130,
    "start_time": "2023-09-28T18:33:58.331Z"
   },
   {
    "duration": 124,
    "start_time": "2023-09-28T18:34:36.981Z"
   },
   {
    "duration": 108,
    "start_time": "2023-09-28T18:34:47.513Z"
   },
   {
    "duration": 1171,
    "start_time": "2023-09-28T18:35:35.372Z"
   },
   {
    "duration": 50,
    "start_time": "2023-09-28T18:35:36.545Z"
   },
   {
    "duration": 12,
    "start_time": "2023-09-28T18:35:36.597Z"
   },
   {
    "duration": 38,
    "start_time": "2023-09-28T18:35:36.611Z"
   },
   {
    "duration": 58,
    "start_time": "2023-09-28T18:35:36.651Z"
   },
   {
    "duration": 9,
    "start_time": "2023-09-28T18:35:36.711Z"
   },
   {
    "duration": 26,
    "start_time": "2023-09-28T18:35:36.722Z"
   },
   {
    "duration": 42,
    "start_time": "2023-09-28T18:35:36.750Z"
   },
   {
    "duration": 6,
    "start_time": "2023-09-28T18:35:36.794Z"
   },
   {
    "duration": 12,
    "start_time": "2023-09-28T18:35:36.804Z"
   },
   {
    "duration": 10,
    "start_time": "2023-09-28T18:35:36.818Z"
   },
   {
    "duration": 8,
    "start_time": "2023-09-28T18:35:36.829Z"
   },
   {
    "duration": 12,
    "start_time": "2023-09-28T18:35:36.839Z"
   },
   {
    "duration": 15,
    "start_time": "2023-09-28T18:35:36.852Z"
   },
   {
    "duration": 18,
    "start_time": "2023-09-28T18:35:36.881Z"
   },
   {
    "duration": 9,
    "start_time": "2023-09-28T18:35:36.900Z"
   },
   {
    "duration": 7,
    "start_time": "2023-09-28T18:35:36.911Z"
   },
   {
    "duration": 12,
    "start_time": "2023-09-28T18:35:36.920Z"
   },
   {
    "duration": 12,
    "start_time": "2023-09-28T18:35:36.933Z"
   },
   {
    "duration": 8,
    "start_time": "2023-09-28T18:35:36.946Z"
   },
   {
    "duration": 19,
    "start_time": "2023-09-28T18:35:36.980Z"
   },
   {
    "duration": 19,
    "start_time": "2023-09-28T18:35:37.001Z"
   },
   {
    "duration": 397,
    "start_time": "2023-09-28T18:35:37.022Z"
   },
   {
    "duration": 14,
    "start_time": "2023-09-28T18:35:37.421Z"
   },
   {
    "duration": 4,
    "start_time": "2023-09-28T18:35:37.436Z"
   },
   {
    "duration": 6,
    "start_time": "2023-09-28T18:35:37.442Z"
   },
   {
    "duration": 18,
    "start_time": "2023-09-28T18:35:37.449Z"
   },
   {
    "duration": 115,
    "start_time": "2023-09-28T18:35:37.470Z"
   },
   {
    "duration": 0,
    "start_time": "2023-09-28T18:35:37.587Z"
   },
   {
    "duration": 0,
    "start_time": "2023-09-28T18:35:37.589Z"
   },
   {
    "duration": 0,
    "start_time": "2023-09-28T18:35:37.590Z"
   },
   {
    "duration": 222,
    "start_time": "2023-09-28T18:35:58.896Z"
   },
   {
    "duration": 25,
    "start_time": "2023-09-28T18:36:13.846Z"
   },
   {
    "duration": 15,
    "start_time": "2023-09-28T18:36:19.636Z"
   },
   {
    "duration": 183,
    "start_time": "2023-09-28T18:36:33.328Z"
   },
   {
    "duration": 30,
    "start_time": "2023-09-28T18:36:46.180Z"
   },
   {
    "duration": 34,
    "start_time": "2023-09-28T18:37:54.915Z"
   },
   {
    "duration": 36,
    "start_time": "2023-09-28T18:38:26.940Z"
   },
   {
    "duration": 42,
    "start_time": "2023-09-28T18:38:32.288Z"
   },
   {
    "duration": 77,
    "start_time": "2023-09-28T18:42:54.313Z"
   },
   {
    "duration": 1355,
    "start_time": "2023-09-29T09:27:43.364Z"
   },
   {
    "duration": 84,
    "start_time": "2023-09-29T09:27:44.721Z"
   },
   {
    "duration": 9,
    "start_time": "2023-09-29T09:27:44.806Z"
   },
   {
    "duration": 37,
    "start_time": "2023-09-29T09:27:44.817Z"
   },
   {
    "duration": 43,
    "start_time": "2023-09-29T09:27:44.856Z"
   },
   {
    "duration": 6,
    "start_time": "2023-09-29T09:27:44.901Z"
   },
   {
    "duration": 48,
    "start_time": "2023-09-29T09:27:44.908Z"
   },
   {
    "duration": 23,
    "start_time": "2023-09-29T09:27:44.958Z"
   },
   {
    "duration": 7,
    "start_time": "2023-09-29T09:27:44.983Z"
   },
   {
    "duration": 63,
    "start_time": "2023-09-29T09:27:44.991Z"
   },
   {
    "duration": 46,
    "start_time": "2023-09-29T09:27:45.055Z"
   },
   {
    "duration": 30,
    "start_time": "2023-09-29T09:27:45.102Z"
   },
   {
    "duration": 64,
    "start_time": "2023-09-29T09:27:45.133Z"
   },
   {
    "duration": 91,
    "start_time": "2023-09-29T09:27:45.199Z"
   },
   {
    "duration": 54,
    "start_time": "2023-09-29T09:27:45.292Z"
   },
   {
    "duration": 26,
    "start_time": "2023-09-29T09:27:45.348Z"
   },
   {
    "duration": 53,
    "start_time": "2023-09-29T09:27:45.375Z"
   },
   {
    "duration": 34,
    "start_time": "2023-09-29T09:27:45.430Z"
   },
   {
    "duration": 32,
    "start_time": "2023-09-29T09:27:45.466Z"
   },
   {
    "duration": 30,
    "start_time": "2023-09-29T09:27:45.500Z"
   },
   {
    "duration": 32,
    "start_time": "2023-09-29T09:27:45.532Z"
   },
   {
    "duration": 38,
    "start_time": "2023-09-29T09:27:45.566Z"
   },
   {
    "duration": 497,
    "start_time": "2023-09-29T09:27:45.606Z"
   },
   {
    "duration": 13,
    "start_time": "2023-09-29T09:27:46.105Z"
   },
   {
    "duration": 15,
    "start_time": "2023-09-29T09:27:46.120Z"
   },
   {
    "duration": 16,
    "start_time": "2023-09-29T09:27:46.136Z"
   },
   {
    "duration": 169,
    "start_time": "2023-09-29T09:27:46.154Z"
   },
   {
    "duration": 235,
    "start_time": "2023-09-29T09:27:46.325Z"
   },
   {
    "duration": 32,
    "start_time": "2023-09-29T09:27:46.562Z"
   },
   {
    "duration": 1186,
    "start_time": "2023-09-29T12:20:41.181Z"
   },
   {
    "duration": 92,
    "start_time": "2023-09-29T12:20:42.369Z"
   },
   {
    "duration": 9,
    "start_time": "2023-09-29T12:20:42.463Z"
   },
   {
    "duration": 49,
    "start_time": "2023-09-29T12:20:42.474Z"
   },
   {
    "duration": 119,
    "start_time": "2023-09-29T12:20:42.524Z"
   },
   {
    "duration": 6,
    "start_time": "2023-09-29T12:20:42.645Z"
   },
   {
    "duration": 43,
    "start_time": "2023-09-29T12:20:42.652Z"
   },
   {
    "duration": 33,
    "start_time": "2023-09-29T12:20:42.696Z"
   },
   {
    "duration": 15,
    "start_time": "2023-09-29T12:20:42.731Z"
   },
   {
    "duration": 93,
    "start_time": "2023-09-29T12:20:42.749Z"
   },
   {
    "duration": 37,
    "start_time": "2023-09-29T12:20:42.843Z"
   },
   {
    "duration": 47,
    "start_time": "2023-09-29T12:20:42.881Z"
   },
   {
    "duration": 51,
    "start_time": "2023-09-29T12:20:42.929Z"
   },
   {
    "duration": 25,
    "start_time": "2023-09-29T12:20:42.983Z"
   },
   {
    "duration": 130,
    "start_time": "2023-09-29T12:20:43.009Z"
   },
   {
    "duration": 68,
    "start_time": "2023-09-29T12:20:43.141Z"
   },
   {
    "duration": 54,
    "start_time": "2023-09-29T12:20:43.210Z"
   },
   {
    "duration": 50,
    "start_time": "2023-09-29T12:20:43.266Z"
   },
   {
    "duration": 79,
    "start_time": "2023-09-29T12:20:43.317Z"
   },
   {
    "duration": 24,
    "start_time": "2023-09-29T12:20:43.398Z"
   },
   {
    "duration": 91,
    "start_time": "2023-09-29T12:20:43.423Z"
   },
   {
    "duration": 45,
    "start_time": "2023-09-29T12:20:43.516Z"
   },
   {
    "duration": 556,
    "start_time": "2023-09-29T12:20:43.563Z"
   },
   {
    "duration": 15,
    "start_time": "2023-09-29T12:20:44.121Z"
   },
   {
    "duration": 22,
    "start_time": "2023-09-29T12:20:44.150Z"
   },
   {
    "duration": 118,
    "start_time": "2023-09-29T12:20:44.173Z"
   },
   {
    "duration": 0,
    "start_time": "2023-09-29T12:20:44.293Z"
   },
   {
    "duration": 0,
    "start_time": "2023-09-29T12:20:44.294Z"
   },
   {
    "duration": 0,
    "start_time": "2023-09-29T12:20:44.296Z"
   },
   {
    "duration": 0,
    "start_time": "2023-09-29T12:20:44.298Z"
   },
   {
    "duration": 0,
    "start_time": "2023-09-29T12:20:44.299Z"
   },
   {
    "duration": 21,
    "start_time": "2023-09-29T12:22:12.692Z"
   },
   {
    "duration": 34,
    "start_time": "2023-09-29T12:27:22.838Z"
   },
   {
    "duration": 23,
    "start_time": "2023-09-29T12:27:33.783Z"
   },
   {
    "duration": 23,
    "start_time": "2023-09-29T12:27:51.951Z"
   },
   {
    "duration": 4,
    "start_time": "2023-09-29T12:28:03.410Z"
   },
   {
    "duration": 4,
    "start_time": "2023-09-29T12:28:05.877Z"
   },
   {
    "duration": 196,
    "start_time": "2023-09-29T12:28:16.173Z"
   },
   {
    "duration": 202,
    "start_time": "2023-09-29T12:28:25.209Z"
   },
   {
    "duration": 36,
    "start_time": "2023-09-29T12:28:35.540Z"
   },
   {
    "duration": 14,
    "start_time": "2023-09-29T12:30:47.900Z"
   },
   {
    "duration": 16,
    "start_time": "2023-09-29T12:31:03.137Z"
   },
   {
    "duration": 25,
    "start_time": "2023-09-29T12:31:39.935Z"
   },
   {
    "duration": 14,
    "start_time": "2023-09-29T12:31:41.061Z"
   },
   {
    "duration": 18,
    "start_time": "2023-09-29T12:31:41.717Z"
   },
   {
    "duration": 17,
    "start_time": "2023-09-29T12:31:42.759Z"
   },
   {
    "duration": 14,
    "start_time": "2023-09-29T12:33:38.467Z"
   },
   {
    "duration": 4,
    "start_time": "2023-09-29T12:34:09.586Z"
   },
   {
    "duration": 16,
    "start_time": "2023-09-29T12:34:18.021Z"
   },
   {
    "duration": 1154,
    "start_time": "2023-09-29T12:34:46.083Z"
   },
   {
    "duration": 41,
    "start_time": "2023-09-29T12:34:47.239Z"
   },
   {
    "duration": 8,
    "start_time": "2023-09-29T12:34:47.282Z"
   },
   {
    "duration": 33,
    "start_time": "2023-09-29T12:34:47.292Z"
   },
   {
    "duration": 39,
    "start_time": "2023-09-29T12:34:47.326Z"
   },
   {
    "duration": 6,
    "start_time": "2023-09-29T12:34:47.366Z"
   },
   {
    "duration": 29,
    "start_time": "2023-09-29T12:34:47.373Z"
   },
   {
    "duration": 19,
    "start_time": "2023-09-29T12:34:47.403Z"
   },
   {
    "duration": 4,
    "start_time": "2023-09-29T12:34:47.423Z"
   },
   {
    "duration": 25,
    "start_time": "2023-09-29T12:34:47.429Z"
   },
   {
    "duration": 17,
    "start_time": "2023-09-29T12:34:47.456Z"
   },
   {
    "duration": 9,
    "start_time": "2023-09-29T12:34:47.475Z"
   },
   {
    "duration": 14,
    "start_time": "2023-09-29T12:34:47.485Z"
   },
   {
    "duration": 19,
    "start_time": "2023-09-29T12:34:47.500Z"
   },
   {
    "duration": 24,
    "start_time": "2023-09-29T12:34:47.520Z"
   },
   {
    "duration": 11,
    "start_time": "2023-09-29T12:34:47.545Z"
   },
   {
    "duration": 8,
    "start_time": "2023-09-29T12:34:47.557Z"
   },
   {
    "duration": 10,
    "start_time": "2023-09-29T12:34:47.567Z"
   },
   {
    "duration": 12,
    "start_time": "2023-09-29T12:34:47.578Z"
   },
   {
    "duration": 8,
    "start_time": "2023-09-29T12:34:47.591Z"
   },
   {
    "duration": 31,
    "start_time": "2023-09-29T12:34:47.601Z"
   },
   {
    "duration": 22,
    "start_time": "2023-09-29T12:34:47.634Z"
   },
   {
    "duration": 334,
    "start_time": "2023-09-29T12:34:47.658Z"
   },
   {
    "duration": 115,
    "start_time": "2023-09-29T12:34:47.994Z"
   },
   {
    "duration": 0,
    "start_time": "2023-09-29T12:34:48.111Z"
   },
   {
    "duration": 0,
    "start_time": "2023-09-29T12:34:48.112Z"
   },
   {
    "duration": 0,
    "start_time": "2023-09-29T12:34:48.114Z"
   },
   {
    "duration": 0,
    "start_time": "2023-09-29T12:34:48.115Z"
   },
   {
    "duration": 0,
    "start_time": "2023-09-29T12:34:48.116Z"
   },
   {
    "duration": 0,
    "start_time": "2023-09-29T12:34:48.117Z"
   },
   {
    "duration": 0,
    "start_time": "2023-09-29T12:34:48.118Z"
   },
   {
    "duration": 1,
    "start_time": "2023-09-29T12:34:48.119Z"
   },
   {
    "duration": 0,
    "start_time": "2023-09-29T12:34:48.120Z"
   },
   {
    "duration": 14,
    "start_time": "2023-09-29T12:35:09.027Z"
   },
   {
    "duration": 13,
    "start_time": "2023-09-29T12:35:32.505Z"
   },
   {
    "duration": 16,
    "start_time": "2023-09-29T12:35:57.330Z"
   },
   {
    "duration": 17,
    "start_time": "2023-09-29T12:36:29.895Z"
   },
   {
    "duration": 6221,
    "start_time": "2023-09-29T12:36:58.007Z"
   },
   {
    "duration": 23,
    "start_time": "2023-09-29T12:37:10.663Z"
   },
   {
    "duration": 2563,
    "start_time": "2023-09-29T12:37:23.511Z"
   },
   {
    "duration": 927,
    "start_time": "2023-09-29T12:37:26.077Z"
   },
   {
    "duration": 42,
    "start_time": "2023-09-29T12:37:27.005Z"
   },
   {
    "duration": 9,
    "start_time": "2023-09-29T12:37:27.049Z"
   },
   {
    "duration": 24,
    "start_time": "2023-09-29T12:37:27.059Z"
   },
   {
    "duration": 45,
    "start_time": "2023-09-29T12:37:27.084Z"
   },
   {
    "duration": 6,
    "start_time": "2023-09-29T12:37:27.130Z"
   },
   {
    "duration": 20,
    "start_time": "2023-09-29T12:37:27.138Z"
   },
   {
    "duration": 30,
    "start_time": "2023-09-29T12:37:27.159Z"
   },
   {
    "duration": 27,
    "start_time": "2023-09-29T12:37:27.191Z"
   },
   {
    "duration": 17,
    "start_time": "2023-09-29T12:37:27.219Z"
   },
   {
    "duration": 8,
    "start_time": "2023-09-29T12:37:27.237Z"
   },
   {
    "duration": 29,
    "start_time": "2023-09-29T12:37:27.246Z"
   },
   {
    "duration": 22,
    "start_time": "2023-09-29T12:37:27.277Z"
   },
   {
    "duration": 15,
    "start_time": "2023-09-29T12:37:27.300Z"
   },
   {
    "duration": 23,
    "start_time": "2023-09-29T12:37:27.316Z"
   },
   {
    "duration": 10,
    "start_time": "2023-09-29T12:37:27.340Z"
   },
   {
    "duration": 39,
    "start_time": "2023-09-29T12:37:27.351Z"
   },
   {
    "duration": 11,
    "start_time": "2023-09-29T12:37:27.391Z"
   },
   {
    "duration": 21,
    "start_time": "2023-09-29T12:37:27.404Z"
   },
   {
    "duration": 19,
    "start_time": "2023-09-29T12:37:27.427Z"
   },
   {
    "duration": 36,
    "start_time": "2023-09-29T12:37:27.447Z"
   },
   {
    "duration": 7,
    "start_time": "2023-09-29T12:37:27.484Z"
   },
   {
    "duration": 343,
    "start_time": "2023-09-29T12:37:27.493Z"
   },
   {
    "duration": 122,
    "start_time": "2023-09-29T12:37:27.838Z"
   },
   {
    "duration": 0,
    "start_time": "2023-09-29T12:37:27.962Z"
   },
   {
    "duration": 0,
    "start_time": "2023-09-29T12:37:27.963Z"
   },
   {
    "duration": 0,
    "start_time": "2023-09-29T12:37:27.965Z"
   },
   {
    "duration": 0,
    "start_time": "2023-09-29T12:37:27.965Z"
   },
   {
    "duration": 0,
    "start_time": "2023-09-29T12:37:27.967Z"
   },
   {
    "duration": 0,
    "start_time": "2023-09-29T12:37:27.967Z"
   },
   {
    "duration": 0,
    "start_time": "2023-09-29T12:37:27.968Z"
   },
   {
    "duration": 0,
    "start_time": "2023-09-29T12:37:27.969Z"
   },
   {
    "duration": 0,
    "start_time": "2023-09-29T12:37:27.970Z"
   },
   {
    "duration": 10,
    "start_time": "2023-09-29T12:38:22.214Z"
   },
   {
    "duration": 20,
    "start_time": "2023-09-29T12:38:29.497Z"
   },
   {
    "duration": 23,
    "start_time": "2023-09-29T12:38:54.526Z"
   },
   {
    "duration": 19,
    "start_time": "2023-09-29T12:38:55.442Z"
   },
   {
    "duration": 16,
    "start_time": "2023-09-29T12:38:58.879Z"
   },
   {
    "duration": 19,
    "start_time": "2023-09-29T12:40:26.869Z"
   },
   {
    "duration": 2574,
    "start_time": "2023-09-29T12:41:46.596Z"
   },
   {
    "duration": 935,
    "start_time": "2023-09-29T12:41:49.172Z"
   },
   {
    "duration": 42,
    "start_time": "2023-09-29T12:41:50.108Z"
   },
   {
    "duration": 7,
    "start_time": "2023-09-29T12:41:50.152Z"
   },
   {
    "duration": 24,
    "start_time": "2023-09-29T12:41:50.160Z"
   },
   {
    "duration": 84,
    "start_time": "2023-09-29T12:41:50.186Z"
   },
   {
    "duration": 10,
    "start_time": "2023-09-29T12:41:50.272Z"
   },
   {
    "duration": 45,
    "start_time": "2023-09-29T12:41:50.284Z"
   },
   {
    "duration": 21,
    "start_time": "2023-09-29T12:41:50.330Z"
   },
   {
    "duration": 24,
    "start_time": "2023-09-29T12:41:50.354Z"
   },
   {
    "duration": 26,
    "start_time": "2023-09-29T12:41:50.380Z"
   },
   {
    "duration": 35,
    "start_time": "2023-09-29T12:41:50.408Z"
   },
   {
    "duration": 10,
    "start_time": "2023-09-29T12:41:50.445Z"
   },
   {
    "duration": 18,
    "start_time": "2023-09-29T12:41:50.457Z"
   },
   {
    "duration": 21,
    "start_time": "2023-09-29T12:41:50.476Z"
   },
   {
    "duration": 40,
    "start_time": "2023-09-29T12:41:50.498Z"
   },
   {
    "duration": 28,
    "start_time": "2023-09-29T12:41:50.539Z"
   },
   {
    "duration": 27,
    "start_time": "2023-09-29T12:41:50.568Z"
   },
   {
    "duration": 35,
    "start_time": "2023-09-29T12:41:50.596Z"
   },
   {
    "duration": 36,
    "start_time": "2023-09-29T12:41:50.632Z"
   },
   {
    "duration": 9,
    "start_time": "2023-09-29T12:41:50.670Z"
   },
   {
    "duration": 21,
    "start_time": "2023-09-29T12:41:50.681Z"
   },
   {
    "duration": 20,
    "start_time": "2023-09-29T12:41:50.703Z"
   },
   {
    "duration": 389,
    "start_time": "2023-09-29T12:41:50.724Z"
   },
   {
    "duration": 23,
    "start_time": "2023-09-29T12:41:51.115Z"
   },
   {
    "duration": 27,
    "start_time": "2023-09-29T12:41:51.149Z"
   },
   {
    "duration": 47,
    "start_time": "2023-09-29T12:41:51.177Z"
   },
   {
    "duration": 21,
    "start_time": "2023-09-29T12:41:51.227Z"
   },
   {
    "duration": 22,
    "start_time": "2023-09-29T12:41:51.250Z"
   },
   {
    "duration": 26,
    "start_time": "2023-09-29T12:41:51.273Z"
   },
   {
    "duration": 19,
    "start_time": "2023-09-29T12:41:51.301Z"
   },
   {
    "duration": 252,
    "start_time": "2023-09-29T12:41:51.321Z"
   },
   {
    "duration": 0,
    "start_time": "2023-09-29T12:41:51.575Z"
   },
   {
    "duration": 0,
    "start_time": "2023-09-29T12:41:51.577Z"
   },
   {
    "duration": 155,
    "start_time": "2023-09-29T13:03:35.098Z"
   },
   {
    "duration": 18,
    "start_time": "2023-09-29T13:04:06.852Z"
   },
   {
    "duration": 12,
    "start_time": "2023-09-29T13:04:54.053Z"
   },
   {
    "duration": 154,
    "start_time": "2023-09-29T13:05:06.986Z"
   },
   {
    "duration": 2625,
    "start_time": "2023-09-29T13:05:16.568Z"
   },
   {
    "duration": 902,
    "start_time": "2023-09-29T13:05:19.195Z"
   },
   {
    "duration": 42,
    "start_time": "2023-09-29T13:05:20.099Z"
   },
   {
    "duration": 8,
    "start_time": "2023-09-29T13:05:20.143Z"
   },
   {
    "duration": 82,
    "start_time": "2023-09-29T13:05:20.153Z"
   },
   {
    "duration": 61,
    "start_time": "2023-09-29T13:05:20.236Z"
   },
   {
    "duration": 6,
    "start_time": "2023-09-29T13:05:20.298Z"
   },
   {
    "duration": 17,
    "start_time": "2023-09-29T13:05:20.305Z"
   },
   {
    "duration": 44,
    "start_time": "2023-09-29T13:05:20.324Z"
   },
   {
    "duration": 11,
    "start_time": "2023-09-29T13:05:20.371Z"
   },
   {
    "duration": 45,
    "start_time": "2023-09-29T13:05:20.384Z"
   },
   {
    "duration": 11,
    "start_time": "2023-09-29T13:05:20.430Z"
   },
   {
    "duration": 14,
    "start_time": "2023-09-29T13:05:20.442Z"
   },
   {
    "duration": 17,
    "start_time": "2023-09-29T13:05:20.458Z"
   },
   {
    "duration": 75,
    "start_time": "2023-09-29T13:05:20.477Z"
   },
   {
    "duration": 47,
    "start_time": "2023-09-29T13:05:20.553Z"
   },
   {
    "duration": 26,
    "start_time": "2023-09-29T13:05:20.602Z"
   },
   {
    "duration": 46,
    "start_time": "2023-09-29T13:05:20.629Z"
   },
   {
    "duration": 28,
    "start_time": "2023-09-29T13:05:20.676Z"
   },
   {
    "duration": 37,
    "start_time": "2023-09-29T13:05:20.705Z"
   },
   {
    "duration": 26,
    "start_time": "2023-09-29T13:05:20.744Z"
   },
   {
    "duration": 22,
    "start_time": "2023-09-29T13:05:20.772Z"
   },
   {
    "duration": 63,
    "start_time": "2023-09-29T13:05:20.795Z"
   },
   {
    "duration": 348,
    "start_time": "2023-09-29T13:05:20.860Z"
   },
   {
    "duration": 39,
    "start_time": "2023-09-29T13:05:21.210Z"
   },
   {
    "duration": 55,
    "start_time": "2023-09-29T13:05:21.251Z"
   },
   {
    "duration": 44,
    "start_time": "2023-09-29T13:05:21.308Z"
   },
   {
    "duration": 27,
    "start_time": "2023-09-29T13:05:21.355Z"
   },
   {
    "duration": 50,
    "start_time": "2023-09-29T13:05:21.383Z"
   },
   {
    "duration": 35,
    "start_time": "2023-09-29T13:05:21.434Z"
   },
   {
    "duration": 26,
    "start_time": "2023-09-29T13:05:21.471Z"
   },
   {
    "duration": 43,
    "start_time": "2023-09-29T13:05:21.498Z"
   },
   {
    "duration": 213,
    "start_time": "2023-09-29T13:05:21.542Z"
   },
   {
    "duration": 241,
    "start_time": "2023-09-29T13:05:21.757Z"
   },
   {
    "duration": 30,
    "start_time": "2023-09-29T13:05:22.000Z"
   },
   {
    "duration": 2709,
    "start_time": "2023-09-29T13:08:16.880Z"
   },
   {
    "duration": 960,
    "start_time": "2023-09-29T13:08:19.591Z"
   },
   {
    "duration": 54,
    "start_time": "2023-09-29T13:08:20.554Z"
   },
   {
    "duration": 10,
    "start_time": "2023-09-29T13:08:20.611Z"
   },
   {
    "duration": 21,
    "start_time": "2023-09-29T13:08:20.622Z"
   },
   {
    "duration": 65,
    "start_time": "2023-09-29T13:08:20.644Z"
   },
   {
    "duration": 6,
    "start_time": "2023-09-29T13:08:20.711Z"
   },
   {
    "duration": 20,
    "start_time": "2023-09-29T13:08:20.719Z"
   },
   {
    "duration": 32,
    "start_time": "2023-09-29T13:08:20.741Z"
   },
   {
    "duration": 4,
    "start_time": "2023-09-29T13:08:20.775Z"
   },
   {
    "duration": 21,
    "start_time": "2023-09-29T13:08:20.780Z"
   },
   {
    "duration": 12,
    "start_time": "2023-09-29T13:08:20.803Z"
   },
   {
    "duration": 6,
    "start_time": "2023-09-29T13:08:20.816Z"
   },
   {
    "duration": 15,
    "start_time": "2023-09-29T13:08:20.824Z"
   },
   {
    "duration": 8,
    "start_time": "2023-09-29T13:08:20.841Z"
   },
   {
    "duration": 30,
    "start_time": "2023-09-29T13:08:20.851Z"
   },
   {
    "duration": 12,
    "start_time": "2023-09-29T13:08:20.882Z"
   },
   {
    "duration": 18,
    "start_time": "2023-09-29T13:08:20.895Z"
   },
   {
    "duration": 7,
    "start_time": "2023-09-29T13:08:20.914Z"
   },
   {
    "duration": 31,
    "start_time": "2023-09-29T13:08:20.922Z"
   },
   {
    "duration": 27,
    "start_time": "2023-09-29T13:08:20.956Z"
   },
   {
    "duration": 31,
    "start_time": "2023-09-29T13:08:20.985Z"
   },
   {
    "duration": 23,
    "start_time": "2023-09-29T13:08:21.017Z"
   },
   {
    "duration": 364,
    "start_time": "2023-09-29T13:08:21.041Z"
   },
   {
    "duration": 29,
    "start_time": "2023-09-29T13:08:21.407Z"
   },
   {
    "duration": 41,
    "start_time": "2023-09-29T13:08:21.437Z"
   },
   {
    "duration": 18,
    "start_time": "2023-09-29T13:08:21.480Z"
   },
   {
    "duration": 32,
    "start_time": "2023-09-29T13:08:21.500Z"
   },
   {
    "duration": 41,
    "start_time": "2023-09-29T13:08:21.533Z"
   },
   {
    "duration": 21,
    "start_time": "2023-09-29T13:08:21.576Z"
   },
   {
    "duration": 32,
    "start_time": "2023-09-29T13:08:21.598Z"
   },
   {
    "duration": 203,
    "start_time": "2023-09-29T13:08:21.631Z"
   },
   {
    "duration": 236,
    "start_time": "2023-09-29T13:08:21.836Z"
   },
   {
    "duration": 27,
    "start_time": "2023-09-29T13:08:22.073Z"
   }
  ],
  "kernelspec": {
   "display_name": "Python 3 (ipykernel)",
   "language": "python",
   "name": "python3"
  },
  "language_info": {
   "codemirror_mode": {
    "name": "ipython",
    "version": 3
   },
   "file_extension": ".py",
   "mimetype": "text/x-python",
   "name": "python",
   "nbconvert_exporter": "python",
   "pygments_lexer": "ipython3",
   "version": "3.12.0"
  },
  "toc": {
   "base_numbering": 1,
   "nav_menu": {},
   "number_sections": true,
   "sideBar": true,
   "skip_h1_title": true,
   "title_cell": "Содержание",
   "title_sidebar": "Contents",
   "toc_cell": true,
   "toc_position": {
    "height": "calc(100% - 180px)",
    "left": "10px",
    "top": "150px",
    "width": "228.8px"
   },
   "toc_section_display": true,
   "toc_window_display": false
  }
 },
 "nbformat": 4,
 "nbformat_minor": 4
}
